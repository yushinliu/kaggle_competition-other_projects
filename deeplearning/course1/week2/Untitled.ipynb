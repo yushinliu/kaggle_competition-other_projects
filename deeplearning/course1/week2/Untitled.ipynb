{
 "cells": [
  {
   "cell_type": "code",
   "execution_count": 14,
   "metadata": {},
   "outputs": [
    {
     "name": "stdout",
     "output_type": "stream",
     "text": [
      "[[[ 0.19788631  0.27020174]\n",
      "  [ 0.728404    0.74812492]\n",
      "  [ 0.71815248  0.31910748]\n",
      "  [ 0.61718034  0.37304493]]\n",
      "\n",
      " [[ 0.47769768  0.15297759]\n",
      "  [ 0.52992065  0.66542139]\n",
      "  [ 0.71022186  0.34808326]\n",
      "  [ 0.32281773  0.07628203]]\n",
      "\n",
      " [[ 0.22928848  0.3408225 ]\n",
      "  [ 0.84150996  0.57700549]\n",
      "  [ 0.03514401  0.06344385]\n",
      "  [ 0.00331075  0.20132943]]\n",
      "\n",
      " [[ 0.93553239  0.13487517]\n",
      "  [ 0.13738428  0.22216185]\n",
      "  [ 0.94240592  0.68756162]\n",
      "  [ 0.02758003  0.78307553]]]\n"
     ]
    },
    {
     "data": {
      "text/plain": [
       "(4, 4, 2)"
      ]
     },
     "execution_count": 14,
     "metadata": {},
     "output_type": "execute_result"
    }
   ],
   "source": [
    "import numpy as np\n",
    "a=np.random.rand(4,4,2)\n",
    "print(a)\n",
    "a.shape"
   ]
  },
  {
   "cell_type": "code",
   "execution_count": 12,
   "metadata": {},
   "outputs": [
    {
     "name": "stdout",
     "output_type": "stream",
     "text": [
      "[[ 0.13877527]\n",
      " [ 0.25790695]\n",
      " [ 0.95107245]\n",
      " [ 0.8401785 ]\n",
      " [ 0.83290583]\n",
      " [ 0.35387864]\n",
      " [ 0.15065344]\n",
      " [ 0.5334584 ]\n",
      " [ 0.06874284]\n",
      " [ 0.66267103]\n",
      " [ 0.51408808]\n",
      " [ 0.66431472]\n",
      " [ 0.36433447]\n",
      " [ 0.74917963]\n",
      " [ 0.18669623]\n",
      " [ 0.5383251 ]\n",
      " [ 0.82651212]\n",
      " [ 0.94533241]\n",
      " [ 0.73706165]\n",
      " [ 0.72382194]\n",
      " [ 0.25827058]\n",
      " [ 0.98788   ]\n",
      " [ 0.73147137]\n",
      " [ 0.83545408]\n",
      " [ 0.34814176]\n",
      " [ 0.12440567]\n",
      " [ 0.59349378]\n",
      " [ 0.58281431]\n",
      " [ 0.66115573]\n",
      " [ 0.55727527]\n",
      " [ 0.02963794]\n",
      " [ 0.84938603]]\n"
     ]
    },
    {
     "data": {
      "text/plain": [
       "(32, 1)"
      ]
     },
     "execution_count": 12,
     "metadata": {},
     "output_type": "execute_result"
    }
   ],
   "source": [
    "a_t=a.reshape(-1,1)  #multipy other dimensions except first\n",
    "print(a_t)\n",
    "a_t.shape"
   ]
  },
  {
   "cell_type": "code",
   "execution_count": 15,
   "metadata": {},
   "outputs": [
    {
     "name": "stdout",
     "output_type": "stream",
     "text": [
      "[[ 1.   2.  -1. ]\n",
      " [ 3.   4.  -3.2]]\n"
     ]
    },
    {
     "ename": "TypeError",
     "evalue": "'CClass' object is not callable",
     "output_type": "error",
     "traceback": [
      "\u001b[1;31m---------------------------------------------------------------------------\u001b[0m",
      "\u001b[1;31mTypeError\u001b[0m                                 Traceback (most recent call last)",
      "\u001b[1;32m<ipython-input-15-193797461c9d>\u001b[0m in \u001b[0;36m<module>\u001b[1;34m()\u001b[0m\n\u001b[0;32m      1\u001b[0m \u001b[0ma\u001b[0m\u001b[1;33m=\u001b[0m\u001b[0mnp\u001b[0m\u001b[1;33m.\u001b[0m\u001b[0marray\u001b[0m\u001b[1;33m(\u001b[0m\u001b[1;33m[\u001b[0m\u001b[1;33m[\u001b[0m\u001b[1;36m1.\u001b[0m\u001b[1;33m,\u001b[0m\u001b[1;36m2.\u001b[0m\u001b[1;33m,\u001b[0m\u001b[1;33m-\u001b[0m\u001b[1;36m1.\u001b[0m\u001b[1;33m]\u001b[0m\u001b[1;33m,\u001b[0m\u001b[1;33m[\u001b[0m\u001b[1;36m3.\u001b[0m\u001b[1;33m,\u001b[0m\u001b[1;36m4.\u001b[0m\u001b[1;33m,\u001b[0m\u001b[1;33m-\u001b[0m\u001b[1;36m3.2\u001b[0m\u001b[1;33m]\u001b[0m\u001b[1;33m]\u001b[0m\u001b[1;33m)\u001b[0m\u001b[1;33m\u001b[0m\u001b[0m\n\u001b[0;32m      2\u001b[0m \u001b[0mprint\u001b[0m\u001b[1;33m(\u001b[0m\u001b[0ma\u001b[0m\u001b[1;33m)\u001b[0m\u001b[1;33m\u001b[0m\u001b[0m\n\u001b[1;32m----> 3\u001b[1;33m \u001b[0mnp\u001b[0m\u001b[1;33m.\u001b[0m\u001b[0mc_\u001b[0m\u001b[1;33m(\u001b[0m\u001b[0ma\u001b[0m\u001b[1;33m)\u001b[0m\u001b[1;33m\u001b[0m\u001b[0m\n\u001b[0m",
      "\u001b[1;31mTypeError\u001b[0m: 'CClass' object is not callable"
     ]
    }
   ],
   "source": [
    "a=np.array([[1.,2.,-1.],[3.,4.,-3.2]])\n",
    "print(a)"
   ]
  },
  {
   "cell_type": "code",
   "execution_count": 4,
   "metadata": {},
   "outputs": [
    {
     "name": "stdout",
     "output_type": "stream",
     "text": [
      "[[ 1.   3. ]\n",
      " [ 2.   4. ]\n",
      " [-1.  -3.2]]\n"
     ]
    }
   ],
   "source": [
    "print(a.T)"
   ]
  },
  {
   "cell_type": "code",
   "execution_count": 5,
   "metadata": {},
   "outputs": [
    {
     "ename": "ValueError",
     "evalue": "cannot reshape array of size 6 into shape (3,1,1)",
     "output_type": "error",
     "traceback": [
      "\u001b[1;31m---------------------------------------------------------------------------\u001b[0m",
      "\u001b[1;31mValueError\u001b[0m                                Traceback (most recent call last)",
      "\u001b[1;32m<ipython-input-5-e736dc4a49e2>\u001b[0m in \u001b[0;36m<module>\u001b[1;34m()\u001b[0m\n\u001b[1;32m----> 1\u001b[1;33m \u001b[0ma\u001b[0m\u001b[1;33m.\u001b[0m\u001b[0mreshape\u001b[0m\u001b[1;33m(\u001b[0m\u001b[1;36m3\u001b[0m\u001b[1;33m,\u001b[0m\u001b[1;36m1\u001b[0m\u001b[1;33m,\u001b[0m\u001b[1;36m1\u001b[0m\u001b[1;33m)\u001b[0m\u001b[1;33m\u001b[0m\u001b[0m\n\u001b[0m",
      "\u001b[1;31mValueError\u001b[0m: cannot reshape array of size 6 into shape (3,1,1)"
     ]
    }
   ],
   "source": [
    "a.reshape(3,1,1)"
   ]
  },
  {
   "cell_type": "code",
   "execution_count": 19,
   "metadata": {},
   "outputs": [
    {
     "data": {
      "text/plain": [
       "array([[1, 3, 4],\n",
       "       [2, 2, 5]])"
      ]
     },
     "execution_count": 19,
     "metadata": {},
     "output_type": "execute_result"
    }
   ],
   "source": [
    "np.c_[np.array([1,2]),np.array([3,2]) ,np.array([4,5])]"
   ]
  },
  {
   "cell_type": "code",
   "execution_count": null,
   "metadata": {
    "collapsed": true
   },
   "outputs": [],
   "source": []
  }
 ],
 "metadata": {
  "kernelspec": {
   "display_name": "Python 3",
   "language": "python",
   "name": "python3"
  },
  "language_info": {
   "codemirror_mode": {
    "name": "ipython",
    "version": 3
   },
   "file_extension": ".py",
   "mimetype": "text/x-python",
   "name": "python",
   "nbconvert_exporter": "python",
   "pygments_lexer": "ipython3",
   "version": "3.6.1"
  }
 },
 "nbformat": 4,
 "nbformat_minor": 2
}
