{
 "cells": [
  {
   "cell_type": "markdown",
   "metadata": {},
   "source": [
    "# 1. ML Questions"
   ]
  },
  {
   "cell_type": "markdown",
   "metadata": {},
   "source": [
    "Google"
   ]
  },
  {
   "cell_type": "markdown",
   "metadata": {},
   "source": [
    "#### 1. 为什么要使用特征选择（feature selection）？"
   ]
  },
  {
   "cell_type": "markdown",
   "metadata": {},
   "source": [
    "\n",
    "feature selection is a method to take a subset of relevent features, it will help you by choosing the features that will give you as good or better accuracy whilst requiring less data"
   ]
  },
  {
   "cell_type": "markdown",
   "metadata": {},
   "source": [
    " #### 2. What is the effect on the coefficients of logistic regression if two predictors are highly correlated? What are the confidence intervals of the coefficients?"
   ]
  },
  {
   "cell_type": "markdown",
   "metadata": {},
   "source": [
    "highly correlated: highly correlated means one feature increase and the correlated one will increase as well, the points distributed around a straight line.\n",
    "confidence interval: the estimate to the coefficient of samples, e.g. the probability tht coefficients belongs to [1,2] is 0.95\n",
    "coefficients of logistic regression:Coefficient of the features in the decision function and this time the p-value is 0.05\n",
    "\n",
    "Answer: increase the variance,the confidence intervals of coefficients will be less significant(embrace null value e.g. risk ratio=1.0)"
   ]
  },
  {
   "cell_type": "markdown",
   "metadata": {
    "collapsed": true
   },
   "source": [
    "#### 3.What’s the difference between Gaussian Mixture Model and K-Means?"
   ]
  },
  {
   "cell_type": "markdown",
   "metadata": {},
   "source": [
    "the difference between Gaussian Mixture Model and K-Means is that Gaussian Mixture Model is Statistical Model(which introduced probability), one cluster in GMM is a single Statistical Model and sum up all the weighted models is GMM"
   ]
  },
  {
   "cell_type": "markdown",
   "metadata": {},
   "source": [
    "#### 4.How do you pick k for K-Means?"
   ]
  },
  {
   "cell_type": "markdown",
   "metadata": {},
   "source": [
    "1. mean squared: $K=\\sqrt{m/2}$\n",
    "2. Elbow method: calculate the optimization cost function, $$ J(c^{(1)},...,c^{(m)},\\mu_{1},...,\\mu_{k})=\\frac{1}{m}\\sum_{1}^{m}(||x^{i}-\\mu_{c^{(i)}}||)$$, and $c^{(i)}$ indicates the centers most close to the $x^{(i)}$ and $\\mu_{k}$ is the cluster center, different K determine different J ,and we plot the K-J and found the elbow point of the curve\n",
    "3. Graph method: looking at graph clusters and determined the centers mannully"
   ]
  },
  {
   "cell_type": "markdown",
   "metadata": {},
   "source": [
    "#### 5.How do you know when Gaussian Mixture Model is applicable?"
   ]
  },
  {
   "cell_type": "code",
   "execution_count": null,
   "metadata": {
    "collapsed": true
   },
   "outputs": [],
   "source": []
  }
 ],
 "metadata": {
  "kernelspec": {
   "display_name": "Python 3",
   "language": "python",
   "name": "python3"
  },
  "language_info": {
   "codemirror_mode": {
    "name": "ipython",
    "version": 3
   },
   "file_extension": ".py",
   "mimetype": "text/x-python",
   "name": "python",
   "nbconvert_exporter": "python",
   "pygments_lexer": "ipython3",
   "version": "3.6.1"
  }
 },
 "nbformat": 4,
 "nbformat_minor": 2
}
