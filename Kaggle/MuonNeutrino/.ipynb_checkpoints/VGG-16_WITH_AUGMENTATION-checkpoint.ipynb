{
 "cells": [
  {
   "cell_type": "code",
   "execution_count": null,
   "metadata": {},
   "outputs": [],
   "source": [
    "import pandas as pd\n",
    "import numpy as np\n",
    "import matplotlib.pyplot as plt\n",
    "import seaborn as sns\n",
    "%matplotlib inline\n",
    "\n",
    "#import cv2 # Used to manipulated the images \n",
    "# Import Keras \n",
    "from keras.models import Sequential\n",
    "from keras.callbacks import EarlyStopping, ModelCheckpoint, ReduceLROnPlateau\n",
    "from keras.optimizers import Adam\n",
    "from keras import layers\n",
    "from keras.layers import Input, Add,Dropout, Dense, Activation, ZeroPadding2D, BatchNormalization, Flatten, Conv2D, AveragePooling2D, MaxPooling2D, GlobalMaxPooling2D\n",
    "from keras.models import Model, load_model\n",
    "from keras.preprocessing import image\n",
    "from keras.preprocessing.image import ImageDataGenerator\n",
    "from keras.utils import layer_utils\n",
    "from keras.utils.data_utils import get_file\n",
    "from keras.applications.imagenet_utils import preprocess_input\n",
    "import pydot\n",
    "from IPython.display import SVG\n",
    "from keras.utils.vis_utils import model_to_dot\n",
    "from keras.utils import plot_model\n",
    "from keras.initializers import glorot_uniform\n",
    "from keras.optimizers import rmsprop\n",
    "from keras.applications.mobilenet import MobileNet\n",
    "import scipy.misc\n",
    "from matplotlib.pyplot import imshow\n",
    "%matplotlib inline\n",
    "\n",
    "import keras.backend as K\n",
    "K.set_image_data_format('channels_last')\n",
    "K.set_learning_phase(1)"
   ]
  },
  {
   "cell_type": "markdown",
   "metadata": {},
   "source": [
    "# 1. Import the data"
   ]
  },
  {
   "cell_type": "code",
   "execution_count": null,
   "metadata": {
    "collapsed": true
   },
   "outputs": [],
   "source": [
    "train = pd.read_json('C:\\\\Users\\\\hasee\\\\workspace\\\\Kaggle\\\\MuonNeutrino\\\\train.json\\data\\processed\\\\train.json')\n",
    "test = pd.read_json('C:\\\\Users\\\\hasee\\\\workspace\\\\Kaggle\\\\MuonNeutrino\\\\test.json\\data\\processed\\\\test.json')\n",
    "\n",
    "#train['inc_angle'] = pd.to_numeric(train['inc_angle'],errors='coerce')"
   ]
  },
  {
   "cell_type": "code",
   "execution_count": null,
   "metadata": {},
   "outputs": [],
   "source": [
    "train"
   ]
  },
  {
   "cell_type": "code",
   "execution_count": null,
   "metadata": {
    "collapsed": true
   },
   "outputs": [],
   "source": [
    "#convert unknown \n",
    "train['inc_angle'] = pd.to_numeric(train['inc_angle'],errors='coerce')\n",
    "test['inc_angle'] = pd.to_numeric(test['inc_angle'],errors='coerce')"
   ]
  },
  {
   "cell_type": "code",
   "execution_count": null,
   "metadata": {},
   "outputs": [],
   "source": [
    "train"
   ]
  },
  {
   "cell_type": "code",
   "execution_count": null,
   "metadata": {},
   "outputs": [],
   "source": [
    "test"
   ]
  },
  {
   "cell_type": "code",
   "execution_count": null,
   "metadata": {},
   "outputs": [],
   "source": [
    "len(train['band_1'].loc[0])"
   ]
  },
  {
   "cell_type": "code",
   "execution_count": null,
   "metadata": {
    "collapsed": true
   },
   "outputs": [],
   "source": []
  },
  {
   "cell_type": "markdown",
   "metadata": {},
   "source": [
    "there are 133 pictures with no angle value"
   ]
  },
  {
   "cell_type": "code",
   "execution_count": 8,
   "metadata": {},
   "outputs": [
    {
     "data": {
      "text/plain": [
       "133"
      ]
     },
     "execution_count": 8,
     "metadata": {},
     "output_type": "execute_result"
    }
   ],
   "source": [
    "np.sum(np.isnan(train['inc_angle']))"
   ]
  },
  {
   "cell_type": "code",
   "execution_count": 9,
   "metadata": {},
   "outputs": [
    {
     "data": {
      "text/plain": [
       "0"
      ]
     },
     "execution_count": 9,
     "metadata": {},
     "output_type": "execute_result"
    }
   ],
   "source": [
    "np.sum(np.isnan(test['inc_angle']))"
   ]
  },
  {
   "cell_type": "code",
   "execution_count": 10,
   "metadata": {},
   "outputs": [
    {
     "data": {
      "text/plain": [
       "\"\\ndef get_stats(train,label=1):\\n    train['max'+str(label)] = [np.max(np.array(x)) for x in train['band_'+str(label)] ]\\n    train['maxpos'+str(label)] = [np.argmax(np.array(x)) for x in train['band_'+str(label)] ]\\n    train['min'+str(label)] = [np.min(np.array(x)) for x in train['band_'+str(label)] ]\\n    train['minpos'+str(label)] = [np.argmin(np.array(x)) for x in train['band_'+str(label)] ]\\n    train['med'+str(label)] = [np.median(np.array(x)) for x in train['band_'+str(label)] ]\\n    train['std'+str(label)] = [np.std(np.array(x)) for x in train['band_'+str(label)] ]\\n    train['mean'+str(label)] = [np.mean(np.array(x)) for x in train['band_'+str(label)] ]\\n    train['p25_'+str(label)] = [np.sort(np.array(x))[int(0.25*75*75)] for x in train['band_'+str(label)] ]\\n    train['p75_'+str(label)] = [np.sort(np.array(x))[int(0.75*75*75)] for x in train['band_'+str(label)] ]\\n    train['mid50_'+str(label)] = train['p75_'+str(label)]-train['p25_'+str(label)]\\n\\n    return train\\ntrain = get_stats(train,1)\\ntrain = get_stats(train,2)\\n\""
      ]
     },
     "execution_count": 10,
     "metadata": {},
     "output_type": "execute_result"
    }
   ],
   "source": [
    "'''\n",
    "def get_stats(train,label=1):\n",
    "    train['max'+str(label)] = [np.max(np.array(x)) for x in train['band_'+str(label)] ]\n",
    "    train['maxpos'+str(label)] = [np.argmax(np.array(x)) for x in train['band_'+str(label)] ]\n",
    "    train['min'+str(label)] = [np.min(np.array(x)) for x in train['band_'+str(label)] ]\n",
    "    train['minpos'+str(label)] = [np.argmin(np.array(x)) for x in train['band_'+str(label)] ]\n",
    "    train['med'+str(label)] = [np.median(np.array(x)) for x in train['band_'+str(label)] ]\n",
    "    train['std'+str(label)] = [np.std(np.array(x)) for x in train['band_'+str(label)] ]\n",
    "    train['mean'+str(label)] = [np.mean(np.array(x)) for x in train['band_'+str(label)] ]\n",
    "    train['p25_'+str(label)] = [np.sort(np.array(x))[int(0.25*75*75)] for x in train['band_'+str(label)] ]\n",
    "    train['p75_'+str(label)] = [np.sort(np.array(x))[int(0.75*75*75)] for x in train['band_'+str(label)] ]\n",
    "    train['mid50_'+str(label)] = train['p75_'+str(label)]-train['p25_'+str(label)]\n",
    "\n",
    "    return train\n",
    "train = get_stats(train,1)\n",
    "train = get_stats(train,2)\n",
    "'''"
   ]
  },
  {
   "cell_type": "markdown",
   "metadata": {},
   "source": [
    "# 2. Plot the image"
   ]
  },
  {
   "cell_type": "markdown",
   "metadata": {},
   "source": [
    "first to plot the band_1 which is HH"
   ]
  },
  {
   "cell_type": "code",
   "execution_count": 11,
   "metadata": {
    "collapsed": true
   },
   "outputs": [],
   "source": [
    "sample_HH=np.array(train['band_1'].loc[0]).reshape(75,75)"
   ]
  },
  {
   "cell_type": "code",
   "execution_count": 12,
   "metadata": {},
   "outputs": [
    {
     "data": {
      "image/png": "[encoded data removed]",
      "text/plain": [
       "<matplotlib.figure.Figure at 0x250ae9cce10>"
      ]
     },
     "metadata": {},
     "output_type": "display_data"
    }
   ],
   "source": [
    "plt.imshow(sample_HH,cmap='inferno')\n",
    "plt.axis('off')\n",
    "plt.show()"
   ]
  },
  {
   "cell_type": "markdown",
   "metadata": {},
   "source": [
    "then plot the band_2 which is HV"
   ]
  },
  {
   "cell_type": "code",
   "execution_count": 13,
   "metadata": {
    "collapsed": true
   },
   "outputs": [],
   "source": [
    "sample_HV=np.array(train['band_2'].loc[0]).reshape(75,75)"
   ]
  },
  {
   "cell_type": "code",
   "execution_count": 14,
   "metadata": {},
   "outputs": [
    {
     "data": {
      "image/png": "[encoded data removed]",
      "text/plain": [
       "<matplotlib.figure.Figure at 0x2522385e978>"
      ]
     },
     "metadata": {},
     "output_type": "display_data"
    }
   ],
   "source": [
    "plt.imshow(sample_HV,cmap='inferno')\n",
    "plt.axis('off')\n",
    "plt.show()"
   ]
  },
  {
   "cell_type": "code",
   "execution_count": 15,
   "metadata": {},
   "outputs": [
    {
     "data": {
      "text/plain": [
       "0"
      ]
     },
     "execution_count": 15,
     "metadata": {},
     "output_type": "execute_result"
    }
   ],
   "source": [
    "train['is_iceberg'].loc[0]"
   ]
  },
  {
   "cell_type": "markdown",
   "metadata": {},
   "source": [
    "and first one is ship"
   ]
  },
  {
   "cell_type": "markdown",
   "metadata": {},
   "source": [
    "# 3. Feature Extraction"
   ]
  },
  {
   "cell_type": "code",
   "execution_count": 16,
   "metadata": {
    "collapsed": true
   },
   "outputs": [],
   "source": [
    "X_band_1=np.array([np.float32(band).reshape(75,75) for band in train['band_1']])"
   ]
  },
  {
   "cell_type": "code",
   "execution_count": 17,
   "metadata": {},
   "outputs": [
    {
     "data": {
      "text/plain": [
       "(1604, 75, 75)"
      ]
     },
     "execution_count": 17,
     "metadata": {},
     "output_type": "execute_result"
    }
   ],
   "source": [
    "X_band_1.shape"
   ]
  },
  {
   "cell_type": "code",
   "execution_count": 18,
   "metadata": {
    "collapsed": true
   },
   "outputs": [],
   "source": [
    "X_band_2=np.array([np.float32(band).reshape(75,75) for band in train['band_2']])"
   ]
  },
  {
   "cell_type": "markdown",
   "metadata": {},
   "source": [
    "and according to the website https://earth.esa.int/c/document_library/get_file?folderId=409229&name=DLFE-5566.pdf, the third band should be the combination of band_1 and band_2 : $$BAND_3=|HH|*|HV|/CONST$$, but it use dB so it is in logrithm , the equation equals to $$BAND_3=BAND_1+BAND_2$$"
   ]
  },
  {
   "cell_type": "code",
   "execution_count": 19,
   "metadata": {
    "collapsed": true
   },
   "outputs": [],
   "source": [
    "X_band_3=X_band_1+X_band_2"
   ]
  },
  {
   "cell_type": "code",
   "execution_count": 20,
   "metadata": {},
   "outputs": [
    {
     "data": {
      "text/plain": [
       "(75, 75)"
      ]
     },
     "execution_count": 20,
     "metadata": {},
     "output_type": "execute_result"
    }
   ],
   "source": [
    "X_band_3[0].shape"
   ]
  },
  {
   "cell_type": "code",
   "execution_count": 21,
   "metadata": {},
   "outputs": [
    {
     "data": {
      "image/png": "[encoded data removed]",
      "text/plain": [
       "<matplotlib.figure.Figure at 0x2523497db38>"
      ]
     },
     "metadata": {},
     "output_type": "display_data"
    }
   ],
   "source": [
    "plt.imshow(X_band_3[0],cmap='inferno')\n",
    "plt.axis('off')\n",
    "plt.show()"
   ]
  },
  {
   "cell_type": "code",
   "execution_count": 22,
   "metadata": {},
   "outputs": [
    {
     "data": {
      "text/plain": [
       "(1604, 75, 75)"
      ]
     },
     "execution_count": 22,
     "metadata": {},
     "output_type": "execute_result"
    }
   ],
   "source": [
    "X_band_3.shape"
   ]
  },
  {
   "cell_type": "code",
   "execution_count": 23,
   "metadata": {
    "collapsed": true
   },
   "outputs": [],
   "source": [
    "train_set=np.concatenate([X_band_1[:,:,:,np.newaxis],X_band_2[:,:,:,np.newaxis],X_band_3[:,:,:,np.newaxis]],axis=-1)"
   ]
  },
  {
   "cell_type": "code",
   "execution_count": 24,
   "metadata": {},
   "outputs": [
    {
     "data": {
      "text/plain": [
       "0        True\n",
       "1        True\n",
       "2        True\n",
       "3        True\n",
       "4        True\n",
       "5        True\n",
       "6        True\n",
       "7        True\n",
       "8        True\n",
       "9        True\n",
       "10       True\n",
       "11       True\n",
       "12       True\n",
       "13       True\n",
       "14       True\n",
       "15       True\n",
       "16       True\n",
       "17       True\n",
       "18       True\n",
       "19       True\n",
       "20       True\n",
       "21       True\n",
       "22       True\n",
       "23       True\n",
       "24       True\n",
       "25       True\n",
       "26       True\n",
       "27       True\n",
       "28       True\n",
       "29       True\n",
       "        ...  \n",
       "1574    False\n",
       "1575    False\n",
       "1576    False\n",
       "1577    False\n",
       "1578    False\n",
       "1579    False\n",
       "1580    False\n",
       "1581    False\n",
       "1582    False\n",
       "1583    False\n",
       "1584    False\n",
       "1585    False\n",
       "1586    False\n",
       "1587    False\n",
       "1588    False\n",
       "1589    False\n",
       "1590    False\n",
       "1591    False\n",
       "1592    False\n",
       "1593    False\n",
       "1594    False\n",
       "1595    False\n",
       "1596    False\n",
       "1597    False\n",
       "1598    False\n",
       "1599    False\n",
       "1600    False\n",
       "1601    False\n",
       "1602    False\n",
       "1603    False\n",
       "Name: inc_angle, Length: 1604, dtype: bool"
      ]
     },
     "execution_count": 24,
     "metadata": {},
     "output_type": "execute_result"
    }
   ],
   "source": [
    "True^np.isnan(train['inc_angle']) #choose the samples with valid inc_angle values"
   ]
  },
  {
   "cell_type": "code",
   "execution_count": 25,
   "metadata": {},
   "outputs": [
    {
     "data": {
      "text/plain": [
       "(1471, 75, 75, 3)"
      ]
     },
     "execution_count": 25,
     "metadata": {},
     "output_type": "execute_result"
    }
   ],
   "source": [
    "train_set[True^np.isnan(train['inc_angle'])].shape"
   ]
  },
  {
   "cell_type": "code",
   "execution_count": 26,
   "metadata": {},
   "outputs": [
    {
     "data": {
      "text/plain": [
       "(0,)"
      ]
     },
     "execution_count": 26,
     "metadata": {},
     "output_type": "execute_result"
    }
   ],
   "source": [
    "temp_index=np.where(train['inc_angle']==np.NaN)\n",
    "temp_index[0].shape"
   ]
  },
  {
   "cell_type": "code",
   "execution_count": 27,
   "metadata": {},
   "outputs": [
    {
     "data": {
      "text/plain": [
       "(0, 75, 75, 3)"
      ]
     },
     "execution_count": 27,
     "metadata": {},
     "output_type": "execute_result"
    }
   ],
   "source": [
    "train_set[temp_index[0]].shape"
   ]
  },
  {
   "cell_type": "code",
   "execution_count": 28,
   "metadata": {
    "collapsed": true
   },
   "outputs": [],
   "source": [
    "#y_angle=train['inc_angle'].fillna(method='pad')# method='pad' : use previous data to take place of NaN value"
   ]
  },
  {
   "cell_type": "code",
   "execution_count": 29,
   "metadata": {
    "collapsed": true
   },
   "outputs": [],
   "source": [
    "def feature_eng_train(dataset):\n",
    "    X_band_1=np.array([np.float32(band).reshape(75,75) for band in dataset['band_1']])\n",
    "    X_band_2=np.array([np.float32(band).reshape(75,75) for band in dataset['band_2']])\n",
    "    X_band_3=X_band_1+X_band_2\n",
    "\n",
    "    #added scaled\n",
    "    X_band_1_scaled=(X_band_1-X_band_1.mean())/(X_band_1.max()-X_band_1.min())\n",
    "    X_band_2_scaled=(X_band_2-X_band_2.mean())/(X_band_2.max()-X_band_2.min())\n",
    "    X_band_3_scaled=(X_band_3-X_band_3.mean())/(X_band_3.max()-X_band_3.min())\n",
    "\n",
    "    X_set=np.concatenate([X_band_1_scaled[:,:,:,np.newaxis]\\\n",
    "                              ,X_band_2_scaled[:,:,:,np.newaxis],X_band_3_scaled[:,:,:,np.newaxis]],axis=-1)\n",
    "    Y_set=np.array(dataset['is_iceberg'])\n",
    "    Y_angle=np.array(dataset['inc_angle'])\n",
    "    X_set=X_set[True^np.isnan(dataset['inc_angle'])]\n",
    "    Y_set=Y_set[True^np.isnan(dataset['inc_angle'])]\n",
    "    Y_angle=Y_angle[True^np.isnan(dataset['inc_angle'])]\n",
    "    return X_set,Y_set,Y_angle\n",
    "        \n",
    "       \n",
    "    \n",
    "def feature_eng_test(dataset):\n",
    "    X_band_1=np.array([np.float32(band).reshape(75,75) for band in dataset['band_1']])\n",
    "    X_band_2=np.array([np.float32(band).reshape(75,75) for band in dataset['band_2']])\n",
    "    X_band_3=X_band_1+X_band_2\n",
    "\n",
    "    #added scaled\n",
    "    X_band_1_scaled=(X_band_1-X_band_1.mean())/(X_band_1.max()-X_band_1.min())\n",
    "    X_band_2_scaled=(X_band_2-X_band_2.mean())/(X_band_2.max()-X_band_2.min())\n",
    "    X_band_3_scaled=(X_band_3-X_band_3.mean())/(X_band_3.max()-X_band_3.min())\n",
    "\n",
    "    X_set=np.concatenate([X_band_1_scaled[:,:,:,np.newaxis]\\\n",
    "                              ,X_band_2_scaled[:,:,:,np.newaxis],X_band_3_scaled[:,:,:,np.newaxis]],axis=-1)\n",
    "    #X_set=X_set[True^np.isnan(dataset['inc_angle'])]\n",
    "    return X_set"
   ]
  },
  {
   "cell_type": "code",
   "execution_count": 31,
   "metadata": {
    "collapsed": true
   },
   "outputs": [],
   "source": [
    "X_train,y_train,y_angle=feature_eng_train(train)"
   ]
  },
  {
   "cell_type": "markdown",
   "metadata": {},
   "source": [
    "** Data Augmentation **"
   ]
  },
  {
   "cell_type": "code",
   "execution_count": 32,
   "metadata": {
    "collapsed": true
   },
   "outputs": [],
   "source": [
    "gen=ImageDataGenerator(horizontal_flip = True, #Randomly flip inputs horizontally.\n",
    "                         vertical_flip = True,\n",
    "                         width_shift_range = 0.,\n",
    "                         height_shift_range = 0.,\n",
    "                         channel_shift_range=0,\n",
    "                         zoom_range = 0.5,\n",
    "                         rotation_range = 10)"
   ]
  },
  {
   "cell_type": "code",
   "execution_count": 33,
   "metadata": {},
   "outputs": [
    {
     "data": {
      "text/plain": [
       "(1471,)"
      ]
     },
     "execution_count": 33,
     "metadata": {},
     "output_type": "execute_result"
    }
   ],
   "source": [
    "y_train.shape"
   ]
  },
  {
   "cell_type": "code",
   "execution_count": 34,
   "metadata": {
    "collapsed": true
   },
   "outputs": [],
   "source": [
    "sample=X_train[1,:,:,0]\n",
    "sample=sample[np.newaxis,:,:,np.newaxis]"
   ]
  },
  {
   "cell_type": "code",
   "execution_count": 35,
   "metadata": {},
   "outputs": [
    {
     "data": {
      "text/plain": [
       "<matplotlib.image.AxesImage at 0x25080e80710>"
      ]
     },
     "execution_count": 35,
     "metadata": {},
     "output_type": "execute_result"
    },
    {
     "data": {
      "image/png": "[encoded data removed]",
      "text/plain": [
       "<matplotlib.figure.Figure at 0x2525350aac8>"
      ]
     },
     "metadata": {},
     "output_type": "display_data"
    }
   ],
   "source": [
    "plt.imshow(X_train[1,:,:,0])"
   ]
  },
  {
   "cell_type": "code",
   "execution_count": 36,
   "metadata": {
    "collapsed": true
   },
   "outputs": [],
   "source": [
    "batch_size=32\n",
    "gen1=gen.flow(sample,batch_size=2,seed=42)"
   ]
  },
  {
   "cell_type": "code",
   "execution_count": 37,
   "metadata": {},
   "outputs": [
    {
     "data": {
      "text/plain": [
       "(75, 75, 1)"
      ]
     },
     "execution_count": 37,
     "metadata": {},
     "output_type": "execute_result"
    }
   ],
   "source": [
    "gen1.next()[0].shape"
   ]
  },
  {
   "cell_type": "code",
   "execution_count": 38,
   "metadata": {},
   "outputs": [
    {
     "data": {
      "text/plain": [
       "<matplotlib.image.AxesImage at 0x250c0419f98>"
      ]
     },
     "execution_count": 38,
     "metadata": {},
     "output_type": "execute_result"
    },
    {
     "data": {
      "image/png": "[encoded data removed]",
      "text/plain": [
       "<matplotlib.figure.Figure at 0x2523497deb8>"
      ]
     },
     "metadata": {},
     "output_type": "display_data"
    }
   ],
   "source": [
    "plt.imshow(gen1.next()[0][:,:,0])"
   ]
  },
  {
   "cell_type": "code",
   "execution_count": 39,
   "metadata": {
    "collapsed": true
   },
   "outputs": [],
   "source": [
    "batch_size=32\n",
    "def data_augmentation(X_train,y_angle,y_train):\n",
    "    gen_1=gen.flow(X_train,y_train,batch_size=batch_size,seed=42)\n",
    "    gen_2=gen.flow(X_train,y_angle,batch_size=batch_size,seed=42)\n",
    "    \n",
    "    X_aug_1=gen_1.next()[0]\n",
    "    X_aug_2=gen_2.next()[0]\n",
    "    \n",
    "    return np.concatenate([X_aug_1, X_aug_1]), gen_1.next()[1]\n",
    "    #np.testing.assert_array_equal(X1i[0],X2i[0])"
   ]
  },
  {
   "cell_type": "code",
   "execution_count": 40,
   "metadata": {},
   "outputs": [
    {
     "data": {
      "text/plain": [
       "(64, 75, 75, 3)"
      ]
     },
     "execution_count": 40,
     "metadata": {},
     "output_type": "execute_result"
    }
   ],
   "source": [
    "X_more,y_more=data_augmentation(X_train,y_angle,y_train)\n",
    "X_more.shape"
   ]
  },
  {
   "cell_type": "code",
   "execution_count": 43,
   "metadata": {},
   "outputs": [],
   "source": [
    "X_train=np.concatenate([X_train,X_more])"
   ]
  },
  {
   "cell_type": "code",
   "execution_count": 44,
   "metadata": {},
   "outputs": [
    {
     "data": {
      "text/plain": [
       "(1535, 75, 75, 3)"
      ]
     },
     "execution_count": 44,
     "metadata": {},
     "output_type": "execute_result"
    }
   ],
   "source": [
    "X_train.shape"
   ]
  },
  {
   "cell_type": "code",
   "execution_count": 42,
   "metadata": {
    "collapsed": true
   },
   "outputs": [],
   "source": [
    "y_train=np.concatenate([y_train,y_more])\n",
    "y_train=np.concatenate([y_train,y_more])"
   ]
  },
  {
   "cell_type": "code",
   "execution_count": 45,
   "metadata": {},
   "outputs": [
    {
     "data": {
      "text/plain": [
       "(1535,)"
      ]
     },
     "execution_count": 45,
     "metadata": {},
     "output_type": "execute_result"
    }
   ],
   "source": [
    "y_train.shape"
   ]
  },
  {
   "cell_type": "markdown",
   "metadata": {},
   "source": [
    "# 4. Set up CNN Net （VGG-16)"
   ]
  },
  {
   "cell_type": "code",
   "execution_count": 46,
   "metadata": {
    "collapsed": true
   },
   "outputs": [],
   "source": [
    "def vgg_model(optimizer):\n",
    "    model=Sequential()\n",
    "    \n",
    "    #first block (conv 64+Maxpooling)\n",
    "    model.add(Conv2D(64,kernel_size=(3,3),activation='relu',padding='same',input_shape=(75,75,3)))\n",
    "    model.add(Conv2D(64,kernel_size=(3,3),activation='relu',padding='same',input_shape=(75,75,3)))\n",
    "    model.add(MaxPooling2D(pool_size=(2, 2),strides=(2,2)))\n",
    "    model.add(Dropout(0.2))\n",
    "    #after block 1 (37,37,64)\n",
    "    \n",
    "    #second block (conv 128+Maxpooling)\n",
    "    model.add(Conv2D(128,kernel_size=(3,3),activation='relu',padding='same'))\n",
    "    model.add(Conv2D(128,kernel_size=(3,3),activation='relu',padding='same'))\n",
    "    model.add(MaxPooling2D(pool_size=(2, 2),strides=(2,2)))\n",
    "    model.add(Dropout(0.2))\n",
    "    #after block 2 (18,18,128)\n",
    "    \n",
    "    #third block (conv 256 + Maxpooling)\n",
    "    model.add(Conv2D(256,kernel_size=(3,3),activation='relu',padding='same'))\n",
    "    model.add(Conv2D(256,kernel_size=(3,3),activation='relu',padding='same'))\n",
    "    model.add(MaxPooling2D(pool_size=(2, 2),strides=(2,2))) # add maxpooling rather than conv with strides because it has no parameters\n",
    "    model.add(Dropout(0.2))\n",
    "    #after block 3(9,9,256)\n",
    "    \n",
    "    #now flatten\n",
    "    model.add(Flatten())\n",
    "    #shape(20736,)\n",
    "    \n",
    "    model.add(Dense(256,activation='relu'))\n",
    "    model.add(Dropout(0.2))\n",
    "    \n",
    "    model.add(Dense(64,activation='relu'))\n",
    "    model.add(Dropout(0.2))\n",
    "    \n",
    "    #output\n",
    "    model.add(Dense(1,activation='sigmoid'))\n",
    "    \n",
    "    #it is a binary classification\n",
    "    model.compile(loss='binary_crossentropy',optimizer=optimizer,metrics=['accuracy'])\n",
    "    \n",
    "    return model\n",
    "    \n",
    "    \n",
    "    "
   ]
  },
  {
   "cell_type": "code",
   "execution_count": 47,
   "metadata": {
    "collapsed": true
   },
   "outputs": [],
   "source": [
    "optimizer=Adam(lr=0.001)\n",
    "nn_model=vgg_model(optimizer)"
   ]
  },
  {
   "cell_type": "code",
   "execution_count": 48,
   "metadata": {},
   "outputs": [
    {
     "name": "stdout",
     "output_type": "stream",
     "text": [
      "_________________________________________________________________\n",
      "Layer (type)                 Output Shape              Param #   \n",
      "=================================================================\n",
      "conv2d_1 (Conv2D)            (None, 75, 75, 64)        1792      \n",
      "_________________________________________________________________\n",
      "conv2d_2 (Conv2D)            (None, 75, 75, 64)        36928     \n",
      "_________________________________________________________________\n",
      "max_pooling2d_1 (MaxPooling2 (None, 37, 37, 64)        0         \n",
      "_________________________________________________________________\n",
      "dropout_1 (Dropout)          (None, 37, 37, 64)        0         \n",
      "_________________________________________________________________\n",
      "conv2d_3 (Conv2D)            (None, 37, 37, 128)       73856     \n",
      "_________________________________________________________________\n",
      "conv2d_4 (Conv2D)            (None, 37, 37, 128)       147584    \n",
      "_________________________________________________________________\n",
      "max_pooling2d_2 (MaxPooling2 (None, 18, 18, 128)       0         \n",
      "_________________________________________________________________\n",
      "dropout_2 (Dropout)          (None, 18, 18, 128)       0         \n",
      "_________________________________________________________________\n",
      "conv2d_5 (Conv2D)            (None, 18, 18, 256)       295168    \n",
      "_________________________________________________________________\n",
      "conv2d_6 (Conv2D)            (None, 18, 18, 256)       590080    \n",
      "_________________________________________________________________\n",
      "max_pooling2d_3 (MaxPooling2 (None, 9, 9, 256)         0         \n",
      "_________________________________________________________________\n",
      "dropout_3 (Dropout)          (None, 9, 9, 256)         0         \n",
      "_________________________________________________________________\n",
      "flatten_1 (Flatten)          (None, 20736)             0         \n",
      "_________________________________________________________________\n",
      "dense_1 (Dense)              (None, 256)               5308672   \n",
      "_________________________________________________________________\n",
      "dropout_4 (Dropout)          (None, 256)               0         \n",
      "_________________________________________________________________\n",
      "dense_2 (Dense)              (None, 64)                16448     \n",
      "_________________________________________________________________\n",
      "dropout_5 (Dropout)          (None, 64)                0         \n",
      "_________________________________________________________________\n",
      "dense_3 (Dense)              (None, 1)                 65        \n",
      "=================================================================\n",
      "Total params: 6,470,593\n",
      "Trainable params: 6,470,593\n",
      "Non-trainable params: 0\n",
      "_________________________________________________________________\n"
     ]
    }
   ],
   "source": [
    "nn_model.summary()"
   ]
  },
  {
   "cell_type": "markdown",
   "metadata": {},
   "source": [
    "set up callbacks( early stop)"
   ]
  },
  {
   "cell_type": "code",
   "execution_count": 49,
   "metadata": {
    "collapsed": true
   },
   "outputs": [],
   "source": [
    "batch_size = 32\n",
    "earlyStopping = EarlyStopping(monitor='val_loss', patience=10, verbose=0, mode='min')\n",
    "#mcp_save = ModelCheckpoint('.mdl_wts.hdf5', save_best_only=True, monitor='val_loss', mode='min')\n",
    "reduce_lr_loss = ReduceLROnPlateau(monitor='val_loss', factor=0.1, patience=7, verbose=1, epsilon=1e-4, mode='min')"
   ]
  },
  {
   "cell_type": "code",
   "execution_count": null,
   "metadata": {},
   "outputs": [
    {
     "name": "stdout",
     "output_type": "stream",
     "text": [
      "Train on 1151 samples, validate on 384 samples\n",
      "Epoch 1/50\n"
     ]
    }
   ],
   "source": [
    "nn_model.fit(X_train, y_train, batch_size=batch_size, epochs=50, verbose=1, callbacks=[earlyStopping, reduce_lr_loss], validation_split=0.25)"
   ]
  },
  {
   "cell_type": "code",
   "execution_count": null,
   "metadata": {},
   "outputs": [],
   "source": [
    "score = nn_model.evaluate(X_train, y_train, verbose=1)\n",
    "print('Train score:', score[0])\n",
    "print('Train accuracy:', score[1])"
   ]
  },
  {
   "cell_type": "code",
   "execution_count": null,
   "metadata": {
    "collapsed": true
   },
   "outputs": [],
   "source": [
    "X_test=feature_eng_test(test)\n",
    "pred=nn_model.predict(X_test)"
   ]
  },
  {
   "cell_type": "code",
   "execution_count": null,
   "metadata": {
    "collapsed": true
   },
   "outputs": [],
   "source": [
    "np.set_printoptions(suppress=True)# don't display as scientific calculation"
   ]
  },
  {
   "cell_type": "code",
   "execution_count": null,
   "metadata": {},
   "outputs": [],
   "source": [
    "pred[:10]"
   ]
  },
  {
   "cell_type": "code",
   "execution_count": null,
   "metadata": {},
   "outputs": [],
   "source": [
    "pred.ravel().shape"
   ]
  },
  {
   "cell_type": "code",
   "execution_count": null,
   "metadata": {
    "collapsed": true
   },
   "outputs": [],
   "source": [
    "submission=pd.DataFrame({'id':test['id'],'is_iceberg':pred.ravel()})"
   ]
  },
  {
   "cell_type": "code",
   "execution_count": 71,
   "metadata": {
    "collapsed": true
   },
   "outputs": [],
   "source": [
    "submission.to_csv('submission_scaled_vgg16_angmentati.csv',index=False)"
   ]
  },
  {
   "cell_type": "markdown",
   "metadata": {},
   "source": [
    "# 3. Kaggle CNN LB 0.1995"
   ]
  },
  {
   "cell_type": "code",
   "execution_count": 73,
   "metadata": {
    "collapsed": true
   },
   "outputs": [],
   "source": [
    "def getModel():\n",
    "    #Build keras model\n",
    "    \n",
    "    model=Sequential()\n",
    "    \n",
    "    # CNN 1\n",
    "    model.add(Conv2D(64, kernel_size=(3, 3),activation='relu', input_shape=(75, 75, 3)))\n",
    "    model.add(MaxPooling2D(pool_size=(3, 3), strides=(2, 2)))\n",
    "    model.add(Dropout(0.2))\n",
    "\n",
    "    # CNN 2\n",
    "    model.add(Conv2D(128, kernel_size=(3, 3), activation='relu' ))\n",
    "    model.add(MaxPooling2D(pool_size=(2, 2), strides=(2, 2)))\n",
    "    model.add(Dropout(0.2))\n",
    "\n",
    "    # CNN 3\n",
    "    model.add(Conv2D(128, kernel_size=(3, 3), activation='relu'))\n",
    "    model.add(MaxPooling2D(pool_size=(2, 2), strides=(2, 2)))\n",
    "    model.add(Dropout(0.2))\n",
    "\n",
    "    #CNN 4\n",
    "    model.add(Conv2D(64, kernel_size=(3, 3), activation='relu'))\n",
    "    model.add(MaxPooling2D(pool_size=(2, 2), strides=(2, 2)))\n",
    "    model.add(Dropout(0.2))\n",
    "\n",
    "    # You must flatten the data for the dense layers\n",
    "    model.add(Flatten())\n",
    "\n",
    "    #Dense 1\n",
    "    model.add(Dense(512, activation='relu'))\n",
    "    model.add(Dropout(0.2))\n",
    "\n",
    "    #Dense 2\n",
    "    model.add(Dense(256, activation='relu'))\n",
    "    model.add(Dropout(0.2))\n",
    "\n",
    "    # Output \n",
    "    model.add(Dense(1, activation=\"sigmoid\"))\n",
    "\n",
    "    optimizer = Adam(lr=0.001, decay=0.0)\n",
    "    model.compile(loss='binary_crossentropy', optimizer=optimizer, metrics=['accuracy'])\n",
    "    \n",
    "    return model"
   ]
  },
  {
   "cell_type": "code",
   "execution_count": 74,
   "metadata": {},
   "outputs": [
    {
     "name": "stdout",
     "output_type": "stream",
     "text": [
      "_________________________________________________________________\n",
      "Layer (type)                 Output Shape              Param #   \n",
      "=================================================================\n",
      "conv2d_7 (Conv2D)            (None, 73, 73, 64)        1792      \n",
      "_________________________________________________________________\n",
      "max_pooling2d_4 (MaxPooling2 (None, 36, 36, 64)        0         \n",
      "_________________________________________________________________\n",
      "dropout_6 (Dropout)          (None, 36, 36, 64)        0         \n",
      "_________________________________________________________________\n",
      "conv2d_8 (Conv2D)            (None, 34, 34, 128)       73856     \n",
      "_________________________________________________________________\n",
      "max_pooling2d_5 (MaxPooling2 (None, 17, 17, 128)       0         \n",
      "_________________________________________________________________\n",
      "dropout_7 (Dropout)          (None, 17, 17, 128)       0         \n",
      "_________________________________________________________________\n",
      "conv2d_9 (Conv2D)            (None, 15, 15, 128)       147584    \n",
      "_________________________________________________________________\n",
      "max_pooling2d_6 (MaxPooling2 (None, 7, 7, 128)         0         \n",
      "_________________________________________________________________\n",
      "dropout_8 (Dropout)          (None, 7, 7, 128)         0         \n",
      "_________________________________________________________________\n",
      "conv2d_10 (Conv2D)           (None, 5, 5, 64)          73792     \n",
      "_________________________________________________________________\n",
      "max_pooling2d_7 (MaxPooling2 (None, 2, 2, 64)          0         \n",
      "_________________________________________________________________\n",
      "dropout_9 (Dropout)          (None, 2, 2, 64)          0         \n",
      "_________________________________________________________________\n",
      "flatten_2 (Flatten)          (None, 256)               0         \n",
      "_________________________________________________________________\n",
      "dense_4 (Dense)              (None, 512)               131584    \n",
      "_________________________________________________________________\n",
      "dropout_10 (Dropout)         (None, 512)               0         \n",
      "_________________________________________________________________\n",
      "dense_5 (Dense)              (None, 256)               131328    \n",
      "_________________________________________________________________\n",
      "dropout_11 (Dropout)         (None, 256)               0         \n",
      "_________________________________________________________________\n",
      "dense_6 (Dense)              (None, 1)                 257       \n",
      "=================================================================\n",
      "Total params: 560,193\n",
      "Trainable params: 560,193\n",
      "Non-trainable params: 0\n",
      "_________________________________________________________________\n"
     ]
    }
   ],
   "source": [
    "model = getModel()\n",
    "model.summary()\n",
    "\n",
    "batch_size = 32\n",
    "earlyStopping = EarlyStopping(monitor='val_loss', patience=10, verbose=0, mode='min')\n",
    "#mcp_save = ModelCheckpoint('.mdl_wts.hdf5', save_best_only=True, monitor='val_loss', mode='min')\n",
    "reduce_lr_loss = ReduceLROnPlateau(monitor='val_loss', factor=0.1, patience=7, verbose=1, epsilon=1e-4, mode='min')"
   ]
  },
  {
   "cell_type": "code",
   "execution_count": 75,
   "metadata": {},
   "outputs": [
    {
     "name": "stdout",
     "output_type": "stream",
     "text": [
      "Train on 1103 samples, validate on 368 samples\n",
      "Epoch 1/50\n",
      "1103/1103 [==============================] - ETA: 0s - loss: 0.6407 - acc: 0.6102 - val_loss: 0.6529 - val_acc: 0.6033\n",
      "Epoch 2/50\n",
      "1103/1103 [==============================] - ETA: 0s - loss: 0.5461 - acc: 0.7189 - val_loss: 0.4638 - val_acc: 0.7772\n",
      "Epoch 3/50\n",
      "1103/1103 [==============================] - ETA: 0s - loss: 0.4327 - acc: 0.8160 - val_loss: 0.3577 - val_acc: 0.8587\n",
      "Epoch 4/50\n",
      "1103/1103 [==============================] - ETA: 0s - loss: 0.3860 - acc: 0.8169 - val_loss: 0.4315 - val_acc: 0.7799\n",
      "Epoch 5/50\n",
      "1103/1103 [==============================] - ETA: 0s - loss: 0.3815 - acc: 0.8314 - val_loss: 0.3460 - val_acc: 0.8478\n",
      "Epoch 6/50\n",
      "1103/1103 [==============================] - ETA: 0s - loss: 0.3403 - acc: 0.8432 - val_loss: 0.3277 - val_acc: 0.8533\n",
      "Epoch 7/50\n",
      "1103/1103 [==============================] - ETA: 0s - loss: 0.2871 - acc: 0.8722 - val_loss: 0.2842 - val_acc: 0.8913\n",
      "Epoch 8/50\n",
      "1103/1103 [==============================] - ETA: 0s - loss: 0.2695 - acc: 0.8903 - val_loss: 0.2748 - val_acc: 0.8886\n",
      "Epoch 9/50\n",
      "1103/1103 [==============================] - ETA: 0s - loss: 0.3165 - acc: 0.8685 - val_loss: 0.3093 - val_acc: 0.8533\n",
      "Epoch 10/50\n",
      "1103/1103 [==============================] - ETA: 0s - loss: 0.2397 - acc: 0.8976 - val_loss: 0.2539 - val_acc: 0.8940\n",
      "Epoch 11/50\n",
      "1103/1103 [==============================] - ETA: 0s - loss: 0.2363 - acc: 0.9066 - val_loss: 0.2601 - val_acc: 0.8967\n",
      "Epoch 12/50\n",
      "1103/1103 [==============================] - ETA: 0s - loss: 0.2467 - acc: 0.9030 - val_loss: 0.3220 - val_acc: 0.8641\n",
      "Epoch 13/50\n",
      "1103/1103 [==============================] - ETA: 0s - loss: 0.2487 - acc: 0.8858 - val_loss: 0.2680 - val_acc: 0.8995\n",
      "Epoch 14/50\n",
      "1103/1103 [==============================] - ETA: 0s - loss: 0.2075 - acc: 0.9112 - val_loss: 0.2948 - val_acc: 0.8967\n",
      "Epoch 15/50\n",
      "1103/1103 [==============================] - ETA: 0s - loss: 0.2276 - acc: 0.9048 - val_loss: 0.2340 - val_acc: 0.9076\n",
      "Epoch 16/50\n",
      "1103/1103 [==============================] - ETA: 0s - loss: 0.1819 - acc: 0.9329 - val_loss: 0.2627 - val_acc: 0.8995\n",
      "Epoch 17/50\n",
      "1103/1103 [==============================] - ETA: 0s - loss: 0.1827 - acc: 0.9311 - val_loss: 0.2760 - val_acc: 0.8723\n",
      "Epoch 18/50\n",
      "1103/1103 [==============================] - ETA: 0s - loss: 0.1622 - acc: 0.9329 - val_loss: 0.2933 - val_acc: 0.8913\n",
      "Epoch 19/50\n",
      "1103/1103 [==============================] - ETA: 0s - loss: 0.1867 - acc: 0.9275 - val_loss: 0.2639 - val_acc: 0.9049\n",
      "Epoch 20/50\n",
      "1103/1103 [==============================] - ETA: 0s - loss: 0.1685 - acc: 0.9311 - val_loss: 0.2960 - val_acc: 0.8886\n",
      "Epoch 21/50\n",
      "1103/1103 [==============================] - ETA: 0s - loss: 0.1587 - acc: 0.9320 - val_loss: 0.2460 - val_acc: 0.8995\n",
      "Epoch 22/50\n",
      "1103/1103 [==============================] - ETA: 0s - loss: 0.1437 - acc: 0.9411 - val_loss: 0.2759 - val_acc: 0.9022\n",
      "Epoch 23/50\n",
      "1056/1103 [===========================>..] - ETA: 0s - loss: 0.1286 - acc: 0.9498\n",
      "Epoch 00022: reducing learning rate to 0.00010000000474974513.\n",
      "1103/1103 [==============================] - ETA: 0s - loss: 0.1279 - acc: 0.9492 - val_loss: 0.2564 - val_acc: 0.9158\n",
      "Epoch 24/50\n",
      "1103/1103 [==============================] - ETA: 0s - loss: 0.0950 - acc: 0.9601 - val_loss: 0.2571 - val_acc: 0.9158\n",
      "Epoch 25/50\n",
      "1103/1103 [==============================] - ETA: 0s - loss: 0.0853 - acc: 0.9674 - val_loss: 0.2555 - val_acc: 0.9239\n"
     ]
    },
    {
     "data": {
      "text/plain": [
       "<keras.callbacks.History at 0x227485b6908>"
      ]
     },
     "execution_count": 75,
     "metadata": {},
     "output_type": "execute_result"
    }
   ],
   "source": [
    "model.fit(X_train, y_train, batch_size=batch_size, epochs=50, verbose=1, callbacks=[earlyStopping, reduce_lr_loss], validation_split=0.25)"
   ]
  },
  {
   "cell_type": "code",
   "execution_count": 77,
   "metadata": {
    "collapsed": true
   },
   "outputs": [],
   "source": [
    "pred=model.predict(X_test)"
   ]
  },
  {
   "cell_type": "code",
   "execution_count": 79,
   "metadata": {},
   "outputs": [
    {
     "data": {
      "text/plain": [
       "array([[ 0.00006034],\n",
       "       [ 0.52460784],\n",
       "       [ 0.88292021],\n",
       "       [ 0.97812122],\n",
       "       [ 0.94945985],\n",
       "       [ 0.90637565],\n",
       "       [ 0.02747101],\n",
       "       [ 0.22564256],\n",
       "       [ 0.02986897],\n",
       "       [ 0.00012899]], dtype=float32)"
      ]
     },
     "execution_count": 79,
     "metadata": {},
     "output_type": "execute_result"
    }
   ],
   "source": [
    "pred[:10]"
   ]
  },
  {
   "cell_type": "code",
   "execution_count": 80,
   "metadata": {
    "collapsed": true
   },
   "outputs": [],
   "source": [
    "submission=pd.DataFrame({'id':test['id'],'is_iceberg':pred.ravel()})\n",
    "submission.to_csv('submission_LB_01995.csv',index=False)"
   ]
  },
  {
   "cell_type": "code",
   "execution_count": null,
   "metadata": {
    "collapsed": true
   },
   "outputs": [],
   "source": []
  }
 ],
 "metadata": {
  "kernelspec": {
   "display_name": "Python 3",
   "language": "python",
   "name": "python3"
  },
  "language_info": {
   "codemirror_mode": {
    "name": "ipython",
    "version": 3
   },
   "file_extension": ".py",
   "mimetype": "text/x-python",
   "name": "python",
   "nbconvert_exporter": "python",
   "pygments_lexer": "ipython3",
   "version": "3.6.1"
  }
 },
 "nbformat": 4,
 "nbformat_minor": 2
}
