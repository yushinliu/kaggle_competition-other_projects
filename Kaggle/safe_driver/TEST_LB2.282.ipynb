{
 "cells": [
  {
   "cell_type": "code",
   "execution_count": 1,
   "metadata": {},
   "outputs": [
    {
     "name": "stderr",
     "output_type": "stream",
     "text": [
      "D:\\ProgramData\\Anaconda3\\lib\\site-packages\\sklearn\\cross_validation.py:44: DeprecationWarning: This module was deprecated in version 0.18 in favor of the model_selection module into which all the refactored classes and functions are moved. Also note that the interface of the new CV iterators are different from that of this module. This module will be removed in 0.20.\n",
      "  \"This module will be removed in 0.20.\", DeprecationWarning)\n"
     ]
    },
    {
     "name": "stdout",
     "output_type": "stream",
     "text": [
      "loading files...\n",
      "(595212, 39) (892816, 38)\n"
     ]
    }
   ],
   "source": [
    "import pandas as pd\n",
    "import numpy as np\n",
    "import xgboost as xgb\n",
    "import lightgbm as lgb\n",
    "from sklearn.model_selection import StratifiedKFold\n",
    "import gc\n",
    "\n",
    "print('loading files...')\n",
    "train = pd.read_csv(\"C:\\\\Users\\\\hasee\\\\workspace\\\\Kaggle\\\\safe_driver\\\\train.csv\", na_values=-1)\n",
    "test = pd.read_csv(\"C:\\\\Users\\\\hasee\\\\workspace\\\\Kaggle\\\\safe_driver\\\\test.csv\", na_values=-1)\n",
    "col_to_drop = train.columns[train.columns.str.startswith('ps_calc_')]#drop out unimportant feature\n",
    "train = train.drop(col_to_drop, axis=1)  \n",
    "test = test.drop(col_to_drop, axis=1)  \n",
    "\n",
    "for c in train.select_dtypes(include=['float64']).columns:\n",
    "    train[c]=train[c].astype(np.float32)\n",
    "    test[c]=test[c].astype(np.float32)\n",
    "for c in train.select_dtypes(include=['int64']).columns[2:]:\n",
    "    train[c]=train[c].astype(np.int8)\n",
    "    test[c]=test[c].astype(np.int8)    \n",
    "\n",
    "print(train.shape, test.shape)"
   ]
  },
  {
   "cell_type": "code",
   "execution_count": 2,
   "metadata": {
    "collapsed": true
   },
   "outputs": [],
   "source": [
    "def gini(y, pred):\n",
    "    g = np.asarray(np.c_[y, pred, np.arange(len(y)) ], dtype=np.float)\n",
    "    g = g[np.lexsort((g[:,2], -1*g[:,1]))]\n",
    "    gs = g[:,0].cumsum().sum() / g[:,0].sum()\n",
    "    gs -= (len(y) + 1) / 2.\n",
    "    return gs / len(y)\n",
    "\n",
    "def gini_xgb(pred, y):\n",
    "    y = y.get_label()\n",
    "    return 'gini', gini(y, pred) / gini(y, y)\n",
    "\n",
    "def gini_lgb(preds, dtrain):\n",
    "    y = list(dtrain.get_label())\n",
    "    score = gini(y, preds) / gini(y, y)\n",
    "    return 'gini', score, True"
   ]
  },
  {
   "cell_type": "code",
   "execution_count": 4,
   "metadata": {
    "scrolled": true
   },
   "outputs": [
    {
     "name": "stdout",
     "output_type": "stream",
     "text": [
      " xgb kfold: 1  of  5 : \n",
      "[0]\ttrain-gini:0.202082\tvalid-gini:0.205887\n",
      "Multiple eval metrics have been passed: 'valid-gini' will be used for early stopping.\n",
      "\n",
      "Will train until valid-gini hasn't improved in 100 rounds.\n",
      "[100]\ttrain-gini:0.247387\tvalid-gini:0.240162\n",
      "[200]\ttrain-gini:0.277062\tvalid-gini:0.258362\n",
      "[300]\ttrain-gini:0.297981\tvalid-gini:0.27063\n",
      "[400]\ttrain-gini:0.311997\tvalid-gini:0.276683\n",
      "[500]\ttrain-gini:0.322523\tvalid-gini:0.280205\n",
      "[600]\ttrain-gini:0.330743\tvalid-gini:0.281587\n",
      "[700]\ttrain-gini:0.337375\tvalid-gini:0.282446\n",
      "Stopping. Best iteration:\n",
      "[691]\ttrain-gini:0.336833\tvalid-gini:0.282541\n",
      "\n",
      " xgb kfold: 2  of  5 : \n",
      "[0]\ttrain-gini:0.201049\tvalid-gini:0.198643\n",
      "Multiple eval metrics have been passed: 'valid-gini' will be used for early stopping.\n",
      "\n",
      "Will train until valid-gini hasn't improved in 100 rounds.\n",
      "[100]\ttrain-gini:0.248774\tvalid-gini:0.234732\n",
      "[200]\ttrain-gini:0.275688\tvalid-gini:0.256977\n",
      "[300]\ttrain-gini:0.296353\tvalid-gini:0.271577\n",
      "[400]\ttrain-gini:0.310917\tvalid-gini:0.278729\n",
      "[500]\ttrain-gini:0.321142\tvalid-gini:0.282674\n",
      "[600]\ttrain-gini:0.329749\tvalid-gini:0.284386\n",
      "[700]\ttrain-gini:0.337015\tvalid-gini:0.285816\n",
      "[800]\ttrain-gini:0.344283\tvalid-gini:0.286577\n",
      "[900]\ttrain-gini:0.35092\tvalid-gini:0.286767\n",
      "[1000]\ttrain-gini:0.356992\tvalid-gini:0.286815\n",
      "Stopping. Best iteration:\n",
      "[949]\ttrain-gini:0.353566\tvalid-gini:0.287089\n",
      "\n",
      " xgb kfold: 3  of  5 : \n",
      "[0]\ttrain-gini:0.200868\tvalid-gini:0.197434\n",
      "Multiple eval metrics have been passed: 'valid-gini' will be used for early stopping.\n",
      "\n",
      "Will train until valid-gini hasn't improved in 100 rounds.\n",
      "[100]\ttrain-gini:0.248455\tvalid-gini:0.240972\n",
      "[200]\ttrain-gini:0.277277\tvalid-gini:0.259169\n",
      "[300]\ttrain-gini:0.297588\tvalid-gini:0.270941\n",
      "[400]\ttrain-gini:0.310652\tvalid-gini:0.276278\n",
      "[500]\ttrain-gini:0.321183\tvalid-gini:0.278921\n",
      "[600]\ttrain-gini:0.330278\tvalid-gini:0.280791\n",
      "[700]\ttrain-gini:0.337711\tvalid-gini:0.281663\n",
      "[800]\ttrain-gini:0.344546\tvalid-gini:0.281557\n",
      "Stopping. Best iteration:\n",
      "[751]\ttrain-gini:0.34139\tvalid-gini:0.281882\n",
      "\n",
      " xgb kfold: 4  of  5 : \n",
      "[0]\ttrain-gini:0.202933\tvalid-gini:0.192253\n",
      "Multiple eval metrics have been passed: 'valid-gini' will be used for early stopping.\n",
      "\n",
      "Will train until valid-gini hasn't improved in 100 rounds.\n",
      "[100]\ttrain-gini:0.246406\tvalid-gini:0.231716\n",
      "[200]\ttrain-gini:0.273099\tvalid-gini:0.257297\n",
      "[300]\ttrain-gini:0.294638\tvalid-gini:0.273619\n",
      "[400]\ttrain-gini:0.308567\tvalid-gini:0.281833\n",
      "[500]\ttrain-gini:0.319102\tvalid-gini:0.286196\n",
      "[600]\ttrain-gini:0.328263\tvalid-gini:0.288335\n",
      "[700]\ttrain-gini:0.335884\tvalid-gini:0.289827\n",
      "[800]\ttrain-gini:0.342798\tvalid-gini:0.290569\n",
      "[900]\ttrain-gini:0.348593\tvalid-gini:0.291123\n",
      "[1000]\ttrain-gini:0.355017\tvalid-gini:0.291136\n",
      "[1100]\ttrain-gini:0.36091\tvalid-gini:0.291496\n",
      "[1200]\ttrain-gini:0.366318\tvalid-gini:0.291732\n",
      "[1300]\ttrain-gini:0.371649\tvalid-gini:0.291691\n",
      "Stopping. Best iteration:\n",
      "[1217]\ttrain-gini:0.367292\tvalid-gini:0.291797\n",
      "\n",
      " xgb kfold: 5  of  5 : \n",
      "[0]\ttrain-gini:0.201501\tvalid-gini:0.189554\n",
      "Multiple eval metrics have been passed: 'valid-gini' will be used for early stopping.\n",
      "\n",
      "Will train until valid-gini hasn't improved in 100 rounds.\n",
      "[100]\ttrain-gini:0.250158\tvalid-gini:0.235608\n",
      "[200]\ttrain-gini:0.277742\tvalid-gini:0.253677\n",
      "[300]\ttrain-gini:0.298575\tvalid-gini:0.264181\n",
      "[400]\ttrain-gini:0.313076\tvalid-gini:0.269997\n",
      "[500]\ttrain-gini:0.323324\tvalid-gini:0.273049\n",
      "[600]\ttrain-gini:0.331639\tvalid-gini:0.274167\n",
      "[700]\ttrain-gini:0.339155\tvalid-gini:0.27535\n",
      "[800]\ttrain-gini:0.346053\tvalid-gini:0.276287\n",
      "[900]\ttrain-gini:0.352406\tvalid-gini:0.276594\n",
      "[1000]\ttrain-gini:0.357951\tvalid-gini:0.27718\n",
      "[1100]\ttrain-gini:0.363867\tvalid-gini:0.277278\n",
      "[1200]\ttrain-gini:0.369649\tvalid-gini:0.277061\n",
      "Stopping. Best iteration:\n",
      "[1131]\ttrain-gini:0.365706\tvalid-gini:0.27752\n",
      "\n"
     ]
    }
   ],
   "source": [
    "# xgb\n",
    "params = {'eta': 0.02, 'max_depth': 4, 'subsample': 0.9, 'colsample_bytree': 0.9, \n",
    "          'objective': 'binary:logistic', 'eval_metric': 'auc', 'silent': True}\n",
    "\n",
    "X = train.drop(['id', 'target'], axis=1)\n",
    "features = X.columns\n",
    "X = X.values\n",
    "y = train['target'].values\n",
    "sub=test['id'].to_frame()\n",
    "sub['target']=0\n",
    "\n",
    "nrounds=2000  # need to change to 2000\n",
    "kfold = 5  # need to change to 5\n",
    "skf = StratifiedKFold(n_splits=kfold, random_state=0)\n",
    "for i, (train_index, test_index) in enumerate(skf.split(X, y)):\n",
    "    print(' xgb kfold: {}  of  {} : '.format(i+1, kfold))\n",
    "    X_train, X_valid = X[train_index], X[test_index]\n",
    "    y_train, y_valid = y[train_index], y[test_index]\n",
    "    d_train = xgb.DMatrix(X_train, y_train) #转化成为xgb内置矩阵模式\n",
    "    d_valid = xgb.DMatrix(X_valid, y_valid) \n",
    "    watchlist = [(d_train, 'train'), (d_valid, 'valid')]\n",
    "    xgb_model = xgb.train(params, d_train, nrounds, watchlist, early_stopping_rounds=100, \n",
    "                          feval=gini_xgb, maximize=True, verbose_eval=100)\n",
    "    sub['target'] += xgb_model.predict(xgb.DMatrix(test[features].values), \n",
    "                        ntree_limit=xgb_model.best_ntree_limit+50) / (2*kfold)\n",
    "#gc.collect()\n",
    "#sub.head(2)\n"
   ]
  },
  {
   "cell_type": "code",
   "execution_count": 7,
   "metadata": {},
   "outputs": [
    {
     "data": {
      "image/png": "[encoded data removed]",
      "text/plain": [
       "<matplotlib.figure.Figure at 0x24681485358>"
      ]
     },
     "metadata": {},
     "output_type": "display_data"
    }
   ],
   "source": [
    "%matplotlib inline\n",
    "import matplotlib\n",
    "import matplotlib.pyplot as plt\n",
    "fig,ax=plt.subplots(figsize=(12,18))\n",
    "xgb.plot_importance(xgb_model,height=0.8,ax=ax)\n",
    "plt.show()\n"
   ]
  },
  {
   "cell_type": "code",
   "execution_count": 8,
   "metadata": {},
   "outputs": [
    {
     "data": {
      "text/plain": [
       "[(<xgboost.core.DMatrix at 0x246af742f28>, 'train'),\n",
       " (<xgboost.core.DMatrix at 0x24680714828>, 'valid')]"
      ]
     },
     "execution_count": 8,
     "metadata": {},
     "output_type": "execute_result"
    }
   ],
   "source": [
    "watchlist"
   ]
  },
  {
   "cell_type": "code",
   "execution_count": null,
   "metadata": {
    "collapsed": true
   },
   "outputs": [],
   "source": [
    "# lgb\n",
    "params = {'metric': 'auc', 'learning_rate' : 0.01, 'max_depth':10, 'max_bin':10,  'objective': 'binary', \n",
    "          'feature_fraction': 0.8,'bagging_fraction':0.9,'bagging_freq':10,  'min_data': 500}\n",
    "\n",
    "skf = StratifiedKFold(n_splits=kfold, random_state=1)\n",
    "for i, (train_index, test_index) in enumerate(skf.split(X, y)):\n",
    "    print(' lgb kfold: {}  of  {} : '.format(i+1, kfold))\n",
    "    X_train, X_eval = X[train_index], X[test_index]\n",
    "    y_train, y_eval = y[train_index], y[test_index]\n",
    "    lgb_model = lgb.train(params, lgb.Dataset(X_train, label=y_train), nrounds, \n",
    "                  lgb.Dataset(X_eval, label=y_eval), verbose_eval=100, \n",
    "                  feval=gini_lgb, early_stopping_rounds=100)\n",
    "    sub['target'] += lgb_model.predict(test[features].values, \n",
    "                        num_iteration=lgb_model.best_iteration) / (2*kfold)\n",
    "    \n",
    "sub.to_csv('sub11.csv', index=False, float_format='%.5f') \n",
    "gc.collect()\n",
    "sub.head(2)\n",
    "#sub.to_csv(\"C:\\\\Users\\\\hasee\\\\workspace\\\\Kaggle\\\\safe_driver\\\\train\\\\train.csv\",index=True,float_format=\"%5f\")"
   ]
  },
  {
   "cell_type": "code",
   "execution_count": 5,
   "metadata": {
    "collapsed": true
   },
   "outputs": [],
   "source": [
    "sub.to_csv(\"C:\\\\Users\\\\hasee\\\\workspace\\\\Kaggle\\\\safe_driver\\\\submission.csv\",index=False,float_format=\"%5f\")"
   ]
  },
  {
   "cell_type": "code",
   "execution_count": null,
   "metadata": {
    "collapsed": true
   },
   "outputs": [],
   "source": []
  }
 ],
 "metadata": {
  "kernelspec": {
   "display_name": "Python 3",
   "language": "python",
   "name": "python3"
  },
  "language_info": {
   "codemirror_mode": {
    "name": "ipython",
    "version": 3
   },
   "file_extension": ".py",
   "mimetype": "text/x-python",
   "name": "python",
   "nbconvert_exporter": "python",
   "pygments_lexer": "ipython3",
   "version": "3.6.1"
  }
 },
 "nbformat": 4,
 "nbformat_minor": 2
}
