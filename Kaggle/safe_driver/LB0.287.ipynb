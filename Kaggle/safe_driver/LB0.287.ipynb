{
 "cells": [
  {
   "cell_type": "code",
   "execution_count": null,
   "metadata": {
    "collapsed": true
   },
   "outputs": [],
   "source": [
    "base_path = \"C:\\\\Users\\\\hasee\\\\workspace\\\\Kaggle\\\\safe_driver\\\\\" # your folder"
   ]
  },
  {
   "cell_type": "code",
   "execution_count": 1,
   "metadata": {
    "collapsed": true
   },
   "outputs": [],
   "source": [
    "# This Python 3 environment comes with many helpful analytics libraries installed\n",
    "# It is defined by the kaggle/python docker image: https://github.com/kaggle/docker-python\n",
    "# For example, here's several helpful packages to load in \n",
    "import os\n",
    "import pandas as pd # data processing, CSV file I/O (e.g. pd.read_csv)\n",
    "\n",
    "# All submission files were downloaded from different public kernels\n",
    "# See the description to see the source of each submission file\n",
    "submissions_path = \"C:\\\\Users\\\\hasee\\\\workspace\\\\Kaggle\\\\safe_driver\\\\new_test2\"\n",
    "all_files = os.listdir(submissions_path)\n",
    "\n",
    "# Read and concatenate submissions\n",
    "outs = [pd.read_csv(os.path.join(submissions_path, f), index_col=0)\\\n",
    "        for f in all_files]\n",
    "concat_df = pd.concat(outs, axis=1)\n",
    "cols = list(map(lambda x: \"target_\" + str(x), range(len(concat_df.columns))))\n",
    "concat_df.columns = cols\n",
    "\n",
    "# Apply ranking, normalization and averaging\n",
    "concat_df[\"target\"] = (concat_df.rank() / concat_df.shape[0]).mean(axis=1)\n",
    "concat_df.drop(cols, axis=1, inplace=True)\n",
    "\n",
    "# Write the output\n",
    "concat_df.to_csv(\"./kagglemix.csv\")"
   ]
  },
  {
   "cell_type": "code",
   "execution_count": null,
   "metadata": {
    "collapsed": true
   },
   "outputs": [],
   "source": []
  }
 ],
 "metadata": {
  "kernelspec": {
   "display_name": "Python 3",
   "language": "python",
   "name": "python3"
  },
  "language_info": {
   "codemirror_mode": {
    "name": "ipython",
    "version": 3
   },
   "file_extension": ".py",
   "mimetype": "text/x-python",
   "name": "python",
   "nbconvert_exporter": "python",
   "pygments_lexer": "ipython3",
   "version": "3.6.1"
  }
 },
 "nbformat": 4,
 "nbformat_minor": 2
}
