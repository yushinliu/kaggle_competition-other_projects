{
 "cells": [
  {
   "cell_type": "code",
   "execution_count": 1,
   "metadata": {
    "collapsed": true
   },
   "outputs": [],
   "source": [
    "base_path = \"C:\\\\Users\\\\hasee\\\\workspace\\\\Kaggle\\\\safe_driver\\\\\" # your folder"
   ]
  },
  {
   "cell_type": "code",
   "execution_count": 4,
   "metadata": {
    "collapsed": true
   },
   "outputs": [],
   "source": [
    "import pandas as pd \n",
    "import numpy as np\n",
    " \n",
    "#Download csv files from the following links. Make sure kernal's ID is the same as the one in the link.\n",
    "\n",
    "#Author: Andy Harless\n",
    "#File: xgb_submit.csv\n",
    "#Link: https://www.kaggle.com/aharless/xgboost-cv-lb-284?scriptVersionId=1673404\n",
    "\n",
    "#Author: Vladimir Demidov\n",
    "#File: stacked_1.csv\n",
    "#Link: https://www.kaggle.com/yekenot/simple-stacker-lb-0-284?scriptVersionId=1665392\n",
    "\n",
    "#Author: Keui Shen Nong\n",
    "#File: Froza_and_Pascal.csv\n",
    "#Link: https://www.kaggle.com/kueipo/base-on-froza-pascal-single-xgb-lb-0-284?scriptVersionId=1679911\n",
    "\n",
    "#Author: areeves87\n",
    "#File: median_rank_submission.csv\n",
    "#Link: https://www.kaggle.com/areeves87/aggregate-20-kernel-csvs-by-median-rank-lb-285\n",
    "\n",
    "\n",
    "#Read csv files\n",
    "\n",
    "stacked_1 = pd.read_csv(base_path+'\\\\new_test\\\\stacked_1.csv')\n",
    "xgb_submit = pd.read_csv(base_path+'\\\\bagging\\\\xgb_test.csv')\n",
    "Froza_and_Pascal = pd.read_csv(base_path+'\\\\new_test\\\\Froza_and_Pascal.csv')\n",
    "median_rank_submission = pd.read_csv(base_path+'\\\\new_test\\\\median_rank_submission.csv')\n",
    "\n",
    "# Ensemble and create submission \n",
    "\n",
    "sub = pd.DataFrame()\n",
    "sub['id'] = stacked_1['id']\n",
    "sub['target'] = np.exp(np.mean(\n",
    "   [\n",
    "    stacked_1['target'].apply(lambda x: np.log(x)),\\\n",
    "    xgb_submit['target'].apply(lambda x: np.log(x)),\\\n",
    "    Froza_and_Pascal['target'].apply(lambda x: np.log(x)),\\\n",
    "    median_rank_submission['target'].apply(lambda x: np.log(x))\\\n",
    "    ], axis =0))\n",
    "sub.to_csv(base_path+'\\\\new_test\\\\sub.csv.gz', index = False, compression = 'gzip') "
   ]
  },
  {
   "cell_type": "code",
   "execution_count": null,
   "metadata": {
    "collapsed": true
   },
   "outputs": [],
   "source": []
  }
 ],
 "metadata": {
  "kernelspec": {
   "display_name": "Python 3",
   "language": "python",
   "name": "python3"
  },
  "language_info": {
   "codemirror_mode": {
    "name": "ipython",
    "version": 3
   },
   "file_extension": ".py",
   "mimetype": "text/x-python",
   "name": "python",
   "nbconvert_exporter": "python",
   "pygments_lexer": "ipython3",
   "version": "3.6.1"
  }
 },
 "nbformat": 4,
 "nbformat_minor": 2
}
