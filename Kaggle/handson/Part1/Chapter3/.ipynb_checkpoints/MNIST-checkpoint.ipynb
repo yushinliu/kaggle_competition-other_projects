{
 "cells": [
  {
   "cell_type": "markdown",
   "metadata": {},
   "source": [
    "## MNIST"
   ]
  },
  {
   "cell_type": "markdown",
   "metadata": {},
   "source": [
    "In this chapter, we will be using the MNIST dataset, which is a set of 70,000 small\n",
    "images of digits handwritten by high school students and employees of the US Census\n",
    "Bureau. Each image is labeled with the digit it represents"
   ]
  },
  {
   "cell_type": "code",
   "execution_count": 1,
   "metadata": {},
   "outputs": [
    {
     "data": {
      "text/plain": [
       "{'COL_NAMES': ['label', 'data'],\n",
       " 'DESCR': 'mldata.org dataset: mnist-original',\n",
       " 'data': array([[0, 0, 0, ..., 0, 0, 0],\n",
       "        [0, 0, 0, ..., 0, 0, 0],\n",
       "        [0, 0, 0, ..., 0, 0, 0],\n",
       "        ..., \n",
       "        [0, 0, 0, ..., 0, 0, 0],\n",
       "        [0, 0, 0, ..., 0, 0, 0],\n",
       "        [0, 0, 0, ..., 0, 0, 0]], dtype=uint8),\n",
       " 'target': array([ 0.,  0.,  0., ...,  9.,  9.,  9.])}"
      ]
     },
     "execution_count": 1,
     "metadata": {},
     "output_type": "execute_result"
    }
   ],
   "source": [
    "from sklearn.datasets import fetch_mldata\n",
    "mnist= fetch_mldata(\"MNIST original\")\n",
    "mnist"
   ]
  },
  {
   "cell_type": "code",
   "execution_count": 2,
   "metadata": {},
   "outputs": [
    {
     "data": {
      "text/plain": [
       "((70000, 784), (70000,))"
      ]
     },
     "execution_count": 2,
     "metadata": {},
     "output_type": "execute_result"
    }
   ],
   "source": [
    "X,y=mnist[\"data\"],mnist[\"target\"]\n",
    "X.shape,y.shape"
   ]
  },
  {
   "cell_type": "markdown",
   "metadata": {},
   "source": [
    "X and y are respectively the samples and labels"
   ]
  },
  {
   "cell_type": "code",
   "execution_count": 3,
   "metadata": {},
   "outputs": [
    {
     "data": {
      "image/png": "[encoded data removed]",
      "text/plain": [
       "<matplotlib.figure.Figure at 0x22405d3ef98>"
      ]
     },
     "metadata": {},
     "output_type": "display_data"
    }
   ],
   "source": [
    "%matplotlib inline\n",
    "import matplotlib\n",
    "import matplotlib.pyplot as plt\n",
    "\n",
    "some_digit=X[36000]  #the 36000 sample\n",
    "\n",
    "def plot_digit(X):\n",
    "    some_digit_image=X.reshape(28,28)\n",
    "    plt.imshow(some_digit_image,cmap = matplotlib.cm.binary)\n",
    "    plt.axis(\"off\") #close the axis number\n",
    "    plt.show()\n",
    "    \n",
    "plot_digit(some_digit)"
   ]
  },
  {
   "cell_type": "markdown",
   "metadata": {},
   "source": [
    "It looks like number 5"
   ]
  },
  {
   "cell_type": "code",
   "execution_count": 4,
   "metadata": {},
   "outputs": [
    {
     "data": {
      "text/plain": [
       "5.0"
      ]
     },
     "execution_count": 4,
     "metadata": {},
     "output_type": "execute_result"
    }
   ],
   "source": [
    "y[36000]"
   ]
  },
  {
   "cell_type": "markdown",
   "metadata": {},
   "source": [
    "no doubt that the same as label"
   ]
  },
  {
   "cell_type": "markdown",
   "metadata": {},
   "source": [
    "The MNIST dataset is actually already split into a training set (the first 60,000\n",
    "images) and a test set (the last 10,000 images):"
   ]
  },
  {
   "cell_type": "code",
   "execution_count": 5,
   "metadata": {
    "collapsed": true
   },
   "outputs": [],
   "source": [
    "X_train, X_test, y_train, y_test = X[:60000], X[60000:], y[:60000], y[60000:]"
   ]
  },
  {
   "cell_type": "markdown",
   "metadata": {},
   "source": [
    "Moreover, some learning\n",
    "algorithms are sensitive to the order of the training instances, and they perform\n",
    "poorly if they get many similar instances in a row"
   ]
  },
  {
   "cell_type": "code",
   "execution_count": 6,
   "metadata": {
    "collapsed": true
   },
   "outputs": [],
   "source": [
    "import numpy as np\n",
    "shuffle_index = np.random.permutation(60000)\n",
    "X_train,y_train=X_train[shuffle_index],y_train[shuffle_index]"
   ]
  },
  {
   "cell_type": "markdown",
   "metadata": {},
   "source": [
    "## Training a Binary Classifier"
   ]
  },
  {
   "cell_type": "markdown",
   "metadata": {},
   "source": [
    "build a binary classifier which can only classify the 5 and others"
   ]
  },
  {
   "cell_type": "code",
   "execution_count": 8,
   "metadata": {},
   "outputs": [
    {
     "data": {
      "text/plain": [
       "array([ True, False, False, ...,  True, False, False], dtype=bool)"
      ]
     },
     "execution_count": 8,
     "metadata": {},
     "output_type": "execute_result"
    }
   ],
   "source": [
    "y_train_5 = (y_train == 5) # True for all 5s, False for all other digits. output bool value\n",
    "y_test_5 = (y_test == 5)\n",
    "y_train_5"
   ]
  },
  {
   "cell_type": "code",
   "execution_count": 9,
   "metadata": {},
   "outputs": [
    {
     "data": {
      "text/plain": [
       "SGDClassifier(alpha=0.0001, average=False, class_weight=None, epsilon=0.1,\n",
       "       eta0=0.0, fit_intercept=True, l1_ratio=0.15,\n",
       "       learning_rate='optimal', loss='hinge', n_iter=5, n_jobs=1,\n",
       "       penalty='l2', power_t=0.5, random_state=10, shuffle=True, verbose=0,\n",
       "       warm_start=False)"
      ]
     },
     "execution_count": 9,
     "metadata": {},
     "output_type": "execute_result"
    }
   ],
   "source": [
    "from sklearn.linear_model import SGDClassifier\n",
    "sgd_clf = SGDClassifier(random_state=10) #random_state=10 is to set up the random seed tp make sure results reproducible  \n",
    "sgd_clf.fit(X_train, y_train_5)"
   ]
  },
  {
   "cell_type": "code",
   "execution_count": 10,
   "metadata": {},
   "outputs": [
    {
     "data": {
      "text/plain": [
       "array([False], dtype=bool)"
      ]
     },
     "execution_count": 10,
     "metadata": {},
     "output_type": "execute_result"
    }
   ],
   "source": [
    "sgd_clf.predict([some_digit])"
   ]
  },
  {
   "cell_type": "markdown",
   "metadata": {},
   "source": [
    "The classifier guesses right"
   ]
  },
  {
   "cell_type": "code",
   "execution_count": 11,
   "metadata": {
    "collapsed": true
   },
   "outputs": [],
   "source": [
    "y_train_pred=sgd_clf.predict(X_train)"
   ]
  },
  {
   "cell_type": "markdown",
   "metadata": {},
   "source": [
    "## Performance Measures"
   ]
  },
  {
   "cell_type": "markdown",
   "metadata": {},
   "source": [
    "### Measuring Accuracy Using Cross-Validation"
   ]
  },
  {
   "cell_type": "markdown",
   "metadata": {},
   "source": [
    "Firstly we can use cross validation to evaluate the SGDClassifier"
   ]
  },
  {
   "cell_type": "code",
   "execution_count": 11,
   "metadata": {},
   "outputs": [
    {
     "data": {
      "text/plain": [
       "array([ 0.96845,  0.9598 ,  0.9566 ])"
      ]
     },
     "execution_count": 11,
     "metadata": {},
     "output_type": "execute_result"
    }
   ],
   "source": [
    "from sklearn.model_selection import cross_val_score\n",
    "scores=cross_val_score(sgd_clf,X_train,y_train_5,cv=3,scoring=\"accuracy\") #accuracy: n_correct / len(y_pred) (预测与实际label相符的比例)\n",
    "scores"
   ]
  },
  {
   "cell_type": "code",
   "execution_count": 12,
   "metadata": {
    "collapsed": true
   },
   "outputs": [],
   "source": [
    "from sklearn.base import BaseEstimator\n",
    "\n",
    "class Never5Classifier(BaseEstimator):\n",
    "      def fit(self, X, y=None):\n",
    "        pass\n",
    "      def predict(self, X):\n",
    "        return np.zeros((len(X), ), dtype=bool)  #len() output the list elements, in a matrix output the rows"
   ]
  },
  {
   "cell_type": "markdown",
   "metadata": {},
   "source": [
    "the predict function return the vector full of false which length equals to X_test_fold"
   ]
  },
  {
   "cell_type": "code",
   "execution_count": 13,
   "metadata": {},
   "outputs": [
    {
     "name": "stdout",
     "output_type": "stream",
     "text": [
      "20000\n",
      "18193\n",
      "0.90965\n",
      "20000\n",
      "18193\n",
      "0.90965\n",
      "20000\n",
      "18193\n",
      "0.90965\n"
     ]
    }
   ],
   "source": [
    "never_5_clf = Never5Classifier()\n",
    "\n",
    "from sklearn.model_selection import StratifiedKFold\n",
    "from sklearn.base import clone\n",
    "\n",
    "skfolds = StratifiedKFold(n_splits=3, random_state=42)\n",
    "for train_index, test_index in skfolds.split(X_train, y_train_5):\n",
    "    clone_clf = clone(never_5_clf)\n",
    "    X_train_folds = X_train[train_index]\n",
    "    y_train_folds = (y_train_5[train_index])\n",
    "    X_test_fold = X_train[test_index]\n",
    "    y_test_fold = (y_train_5[test_index])\n",
    "    clone_clf.fit(X_train_folds, y_train_folds)\n",
    "    y_pred = clone_clf.predict(X_test_fold)\n",
    "    #y_test_fold.reshape(y_pred.shape[0],y_pred.shape[1])\n",
    "    print(len(X_test_fold))   #len() output the list elements, in a matrix output the rows\n",
    "    n_correct = sum(y_pred == y_test_fold)\n",
    "    print(n_correct)\n",
    "    print(n_correct / len(y_pred))"
   ]
  },
  {
   "cell_type": "code",
   "execution_count": 14,
   "metadata": {},
   "outputs": [
    {
     "data": {
      "text/plain": [
       "array([ 0.9108 ,  0.91   ,  0.90815])"
      ]
     },
     "execution_count": 14,
     "metadata": {},
     "output_type": "execute_result"
    }
   ],
   "source": [
    "cross_val_score(never_5_clf, X_train, y_train_5, cv=3, scoring=\"accuracy\")  "
   ]
  },
  {
   "cell_type": "markdown",
   "metadata": {},
   "source": [
    "then let's apply the confusion matrix"
   ]
  },
  {
   "cell_type": "code",
   "execution_count": 15,
   "metadata": {},
   "outputs": [
    {
     "data": {
      "text/plain": [
       "array([[54242,   337],\n",
       "       [ 1466,  3955]])"
      ]
     },
     "execution_count": 15,
     "metadata": {},
     "output_type": "execute_result"
    }
   ],
   "source": [
    "from sklearn.metrics import confusion_matrix \n",
    "confusion_matrix(y_train_5,y_train_pred)"
   ]
  },
  {
   "cell_type": "markdown",
   "metadata": {},
   "source": [
    "at first row, 54200 non-5 cases are correctly classified as non-5, 280 cases non-5 are wrongly classified as 5"
   ]
  },
  {
   "cell_type": "code",
   "execution_count": 16,
   "metadata": {},
   "outputs": [
    {
     "data": {
      "text/plain": [
       "0.9214818266542405"
      ]
     },
     "execution_count": 16,
     "metadata": {},
     "output_type": "execute_result"
    }
   ],
   "source": [
    "from sklearn.metrics import precision_score, recall_score\n",
    "precision_score(y_train_5,y_train_pred)"
   ]
  },
  {
   "cell_type": "code",
   "execution_count": 17,
   "metadata": {},
   "outputs": [
    {
     "data": {
      "text/plain": [
       "0.72957019000184464"
      ]
     },
     "execution_count": 17,
     "metadata": {},
     "output_type": "execute_result"
    }
   ],
   "source": [
    "recall_score(y_train_5,y_train_pred)"
   ]
  },
  {
   "cell_type": "code",
   "execution_count": 18,
   "metadata": {},
   "outputs": [
    {
     "data": {
      "text/plain": [
       "array([-320634.07986439, -279779.99601322, -140839.55352347, ...,\n",
       "       -406393.44641529, -197004.245474  , -273347.66011785])"
      ]
     },
     "execution_count": 18,
     "metadata": {},
     "output_type": "execute_result"
    }
   ],
   "source": [
    "from sklearn.model_selection import cross_val_predict\n",
    "y_scores = cross_val_predict(sgd_clf, X_train, y_train_5, cv=3,  #the scores are decision scores which decided the decision boundary\n",
    "method=\"decision_function\")\n",
    "y_scores"
   ]
  },
  {
   "cell_type": "code",
   "execution_count": 19,
   "metadata": {},
   "outputs": [
    {
     "data": {
      "image/png": "[encoded data removed]",
      "text/plain": [
       "<matplotlib.figure.Figure at 0x2c606150a20>"
      ]
     },
     "metadata": {},
     "output_type": "display_data"
    }
   ],
   "source": [
    "from sklearn.metrics import precision_recall_curve\n",
    "precisions, recalls, thresholds = precision_recall_curve(y_train_5, y_scores)\n",
    "def plot_precision_recall_vs_threshold(precisions, recalls, thresholds):\n",
    "    plt.plot(thresholds, precisions[:-1], \"b--\", label=\"Precision\")\n",
    "    plt.plot(thresholds, recalls[:-1], \"g-\", label=\"Recall\")\n",
    "    plt.xlabel(\"Threshold\")\n",
    "    plt.legend(loc=\"upper left\")\n",
    "    plt.ylim([0, 1])\n",
    "    \n",
    "plot_precision_recall_vs_threshold(precisions, recalls, thresholds)\n",
    "plt.show()\n",
    "    "
   ]
  },
  {
   "cell_type": "code",
   "execution_count": 20,
   "metadata": {},
   "outputs": [
    {
     "data": {
      "text/plain": [
       "0.86935483870967745"
      ]
     },
     "execution_count": 20,
     "metadata": {},
     "output_type": "execute_result"
    }
   ],
   "source": [
    "y_train_pred_90 = (y_scores > 70000)  #precision is more than 90%\n",
    "precision_score(y_train_5, y_train_pred_90)"
   ]
  },
  {
   "cell_type": "code",
   "execution_count": 21,
   "metadata": {},
   "outputs": [
    {
     "data": {
      "text/plain": [
       "array([  899890.86345687,   642830.23131442,   642571.17529922, ...,\n",
       "       -1878377.73427102, -1883614.54245372, -2931330.05347613])"
      ]
     },
     "execution_count": 21,
     "metadata": {},
     "output_type": "execute_result"
    }
   ],
   "source": [
    "from sklearn.metrics import roc_curve\n",
    "fpr, tpr, thresholds = roc_curve(y_train_5, y_scores)\n",
    "thresholds"
   ]
  },
  {
   "cell_type": "code",
   "execution_count": 25,
   "metadata": {},
   "outputs": [
    {
     "data": {
      "image/png": "[encoded data removed]",
      "text/plain": [
       "<matplotlib.figure.Figure at 0x2c67dcfd588>"
      ]
     },
     "metadata": {},
     "output_type": "display_data"
    }
   ],
   "source": [
    "def plot_roc_curve(fpr, tpr, label=None):\n",
    "    plt.plot(fpr, tpr, linewidth=2, label=label)\n",
    "    plt.plot([0, 1], [0, 1], 'k--')\n",
    "    plt.axis([0, 1, 0, 1])\n",
    "    plt.xlabel('False Positive Rate')\n",
    "    plt.ylabel('True Positive Rate')\n",
    "\n",
    "plot_roc_curve(fpr, tpr)\n",
    "plt.show()"
   ]
  },
  {
   "cell_type": "markdown",
   "metadata": {},
   "source": [
    "then we can calculate the area under the curve (UNA) "
   ]
  },
  {
   "cell_type": "code",
   "execution_count": 26,
   "metadata": {},
   "outputs": [
    {
     "data": {
      "text/plain": [
       "0.9625824052291343"
      ]
     },
     "execution_count": 26,
     "metadata": {},
     "output_type": "execute_result"
    }
   ],
   "source": [
    "from sklearn.metrics import roc_auc_score\n",
    "roc_auc_score(y_train_5, y_scores)"
   ]
  },
  {
   "cell_type": "markdown",
   "metadata": {},
   "source": [
    "if perfect classifier , the UNA score will be the 1"
   ]
  },
  {
   "cell_type": "markdown",
   "metadata": {
    "collapsed": true
   },
   "source": [
    "then let us try to plot the ROC of another model: RandomForest"
   ]
  },
  {
   "cell_type": "code",
   "execution_count": 27,
   "metadata": {},
   "outputs": [
    {
     "data": {
      "text/plain": [
       "array([[ 1. ,  0. ],\n",
       "       [ 1. ,  0. ],\n",
       "       [ 1. ,  0. ],\n",
       "       ..., \n",
       "       [ 0.9,  0.1],\n",
       "       [ 0.8,  0.2],\n",
       "       [ 0.8,  0.2]])"
      ]
     },
     "execution_count": 27,
     "metadata": {},
     "output_type": "execute_result"
    }
   ],
   "source": [
    "from sklearn.ensemble import RandomForestClassifier\n",
    "forest_clf=RandomForestClassifier(random_state=42)\n",
    "y_proba_forest=cross_val_predict(forest_clf,X_train,y_train_5,cv=3,method=\"predict_proba\")\n",
    "y_proba_forest"
   ]
  },
  {
   "cell_type": "code",
   "execution_count": 28,
   "metadata": {},
   "outputs": [
    {
     "data": {
      "text/plain": [
       "array([ 0. ,  0. ,  0. , ...,  0.1,  0.2,  0.2])"
      ]
     },
     "execution_count": 28,
     "metadata": {},
     "output_type": "execute_result"
    }
   ],
   "source": [
    "y_scores_forest=y_proba_forest[:,1] #scores equal to the probability of positive elements\n",
    "y_scores_forest"
   ]
  },
  {
   "cell_type": "code",
   "execution_count": 29,
   "metadata": {
    "collapsed": true
   },
   "outputs": [],
   "source": [
    "fpr_forest, tpr_forest , thresholds_forest= roc_curve(y_train_5,y_scores_forest)"
   ]
  },
  {
   "cell_type": "code",
   "execution_count": 30,
   "metadata": {},
   "outputs": [
    {
     "name": "stderr",
     "output_type": "stream",
     "text": [
      "D:\\ProgramData\\Anaconda3\\lib\\site-packages\\matplotlib\\legend.py:326: UserWarning: Unrecognized location \"bottom right\". Falling back on \"best\"; valid locations are\n",
      "\tbest\n",
      "\tupper right\n",
      "\tupper left\n",
      "\tlower left\n",
      "\tlower right\n",
      "\tright\n",
      "\tcenter left\n",
      "\tcenter right\n",
      "\tlower center\n",
      "\tupper center\n",
      "\tcenter\n",
      "\n",
      "  six.iterkeys(self.codes))))\n"
     ]
    },
    {
     "data": {
      "image/png": "[encoded data removed]",
      "text/plain": [
       "<matplotlib.figure.Figure at 0x2c6074362e8>"
      ]
     },
     "metadata": {},
     "output_type": "display_data"
    }
   ],
   "source": [
    "plt.plot(fpr, tpr, \"b:\", label=\"SGD\")\n",
    "plot_roc_curve(fpr_forest, tpr_forest, \"Random Forest\")\n",
    "plt.legend(loc=\"bottom right\")\n",
    "plt.show()"
   ]
  },
  {
   "cell_type": "markdown",
   "metadata": {},
   "source": [
    "from the plot it is obvious that Random Forest is better than the SGD because it is close to the top-left corner which Ptp is 1.0,Pfp is 0."
   ]
  },
  {
   "cell_type": "code",
   "execution_count": 31,
   "metadata": {},
   "outputs": [
    {
     "data": {
      "text/plain": [
       "0.99155207627614006"
      ]
     },
     "execution_count": 31,
     "metadata": {},
     "output_type": "execute_result"
    }
   ],
   "source": [
    "roc_auc_score(y_train_5,y_scores_forest)"
   ]
  },
  {
   "cell_type": "markdown",
   "metadata": {},
   "source": [
    "and the AUC is larger as well"
   ]
  },
  {
   "cell_type": "markdown",
   "metadata": {},
   "source": [
    "## Multiclass Classification"
   ]
  },
  {
   "cell_type": "markdown",
   "metadata": {
    "collapsed": true
   },
   "source": [
    "Scikit-Learn detects when you try to use a binary classification algorithm for a multiclass\n",
    "classification task, and it automatically runs OvA (except for SVM classifiers for\n",
    "which it uses OvO)."
   ]
  },
  {
   "cell_type": "markdown",
   "metadata": {},
   "source": [
    "Let's try SGDClassifier"
   ]
  },
  {
   "cell_type": "code",
   "execution_count": 32,
   "metadata": {},
   "outputs": [
    {
     "data": {
      "text/plain": [
       "array([ 5.])"
      ]
     },
     "execution_count": 32,
     "metadata": {},
     "output_type": "execute_result"
    }
   ],
   "source": [
    "sgd_clf.fit(X_train,y_train) #not y_train_5\n",
    "sgd_clf.predict([some_digit])"
   ]
  },
  {
   "cell_type": "markdown",
   "metadata": {},
   "source": [
    "seems easy to implement multiclass classification using SGDClassifier"
   ]
  },
  {
   "cell_type": "code",
   "execution_count": 33,
   "metadata": {},
   "outputs": [
    {
     "data": {
      "text/plain": [
       "array([[-167894.27733567, -431808.44226604, -473176.61953275,\n",
       "        -236601.63861285, -377868.51585525,   92972.80857655,\n",
       "        -556384.38460274, -261022.60740278, -686137.69091796,\n",
       "        -576899.0401952 ]])"
      ]
     },
     "execution_count": 33,
     "metadata": {},
     "output_type": "execute_result"
    }
   ],
   "source": [
    "digit_scores=sgd_clf.decision_function([some_digit])\n",
    "digit_scores"
   ]
  },
  {
   "cell_type": "code",
   "execution_count": 34,
   "metadata": {},
   "outputs": [
    {
     "data": {
      "text/plain": [
       "5"
      ]
     },
     "execution_count": 34,
     "metadata": {},
     "output_type": "execute_result"
    }
   ],
   "source": [
    "np.argmax(digit_scores)"
   ]
  },
  {
   "cell_type": "markdown",
   "metadata": {},
   "source": [
    "The maximum value's index is 5"
   ]
  },
  {
   "cell_type": "code",
   "execution_count": 35,
   "metadata": {},
   "outputs": [
    {
     "data": {
      "text/plain": [
       "array([ 0.,  1.,  2.,  3.,  4.,  5.,  6.,  7.,  8.,  9.])"
      ]
     },
     "execution_count": 35,
     "metadata": {},
     "output_type": "execute_result"
    }
   ],
   "source": [
    "sgd_clf.classes_"
   ]
  },
  {
   "cell_type": "markdown",
   "metadata": {},
   "source": [
    "Then we try the OvO classifier"
   ]
  },
  {
   "cell_type": "code",
   "execution_count": 36,
   "metadata": {},
   "outputs": [
    {
     "data": {
      "text/plain": [
       "array([ 5.])"
      ]
     },
     "execution_count": 36,
     "metadata": {},
     "output_type": "execute_result"
    }
   ],
   "source": [
    "from sklearn.multiclass import OneVsOneClassifier\n",
    "ovo_clf=OneVsOneClassifier(SGDClassifier(random_state=42))\n",
    "ovo_clf.fit(X_train,y_train)\n",
    "ovo_clf.predict([some_digit])"
   ]
  },
  {
   "cell_type": "code",
   "execution_count": 37,
   "metadata": {},
   "outputs": [
    {
     "data": {
      "text/plain": [
       "45"
      ]
     },
     "execution_count": 37,
     "metadata": {},
     "output_type": "execute_result"
    }
   ],
   "source": [
    "len(ovo_clf.estimators_)"
   ]
  },
  {
   "cell_type": "markdown",
   "metadata": {},
   "source": [
    "there are 45 classifiers at total"
   ]
  },
  {
   "cell_type": "markdown",
   "metadata": {},
   "source": [
    "then let us try multi-classifier on the Randomtree"
   ]
  },
  {
   "cell_type": "code",
   "execution_count": 38,
   "metadata": {},
   "outputs": [
    {
     "data": {
      "text/plain": [
       "array([ 5.])"
      ]
     },
     "execution_count": 38,
     "metadata": {},
     "output_type": "execute_result"
    }
   ],
   "source": [
    "forest_clf.fit(X_train,y_train)\n",
    "forest_clf.predict([some_digit])"
   ]
  },
  {
   "cell_type": "code",
   "execution_count": 39,
   "metadata": {},
   "outputs": [
    {
     "data": {
      "text/plain": [
       "array([[ 0.,  0.,  0.,  0.,  0.,  1.,  0.,  0.,  0.,  0.]])"
      ]
     },
     "execution_count": 39,
     "metadata": {},
     "output_type": "execute_result"
    }
   ],
   "source": [
    "forest_clf.predict_proba([some_digit])   #forest_clf does not have decision_function"
   ]
  },
  {
   "cell_type": "markdown",
   "metadata": {},
   "source": [
    "0.8 means that the probability of 5 of this digit is 0.8, there are still some probabilities to be other digits"
   ]
  },
  {
   "cell_type": "markdown",
   "metadata": {},
   "source": [
    "Next: we will evaluate these classifier using cross_val_score"
   ]
  },
  {
   "cell_type": "code",
   "execution_count": 40,
   "metadata": {},
   "outputs": [
    {
     "data": {
      "text/plain": [
       "array([ 0.85572885,  0.83354168,  0.87318098])"
      ]
     },
     "execution_count": 40,
     "metadata": {},
     "output_type": "execute_result"
    }
   ],
   "source": [
    "cross_val_score(sgd_clf, X_train, y_train, cv=3, scoring=\"accuracy\")"
   ]
  },
  {
   "cell_type": "code",
   "execution_count": 41,
   "metadata": {},
   "outputs": [
    {
     "data": {
      "text/plain": [
       "array([[ 0.,  0.,  0., ...,  0.,  0.,  0.],\n",
       "       [ 0.,  0.,  0., ...,  0.,  0.,  0.],\n",
       "       [ 0.,  0.,  0., ...,  0.,  0.,  0.],\n",
       "       ..., \n",
       "       [ 0.,  0.,  0., ...,  0.,  0.,  0.],\n",
       "       [ 0.,  0.,  0., ...,  0.,  0.,  0.],\n",
       "       [ 0.,  0.,  0., ...,  0.,  0.,  0.]])"
      ]
     },
     "execution_count": 41,
     "metadata": {},
     "output_type": "execute_result"
    }
   ],
   "source": [
    "from sklearn.preprocessing import StandardScaler\n",
    "scaler= StandardScaler()\n",
    "X_train_scaled=scaler.fit_transform(X_train.astype(np.float64))  #X_train is uint8,should be trainsform into float64\n",
    "X_train_scaled"
   ]
  },
  {
   "cell_type": "code",
   "execution_count": 42,
   "metadata": {},
   "outputs": [
    {
     "data": {
      "text/plain": [
       "array([ 0.90836833,  0.91234562,  0.90893634])"
      ]
     },
     "execution_count": 42,
     "metadata": {},
     "output_type": "execute_result"
    }
   ],
   "source": [
    "cross_val_score(sgd_clf,X_train_scaled,y_train,cv=3,scoring=\"accuracy\")"
   ]
  },
  {
   "cell_type": "markdown",
   "metadata": {},
   "source": [
    "Compared with non-scaled, the accuracy is improved"
   ]
  },
  {
   "cell_type": "markdown",
   "metadata": {},
   "source": [
    "## Error Analysis "
   ]
  },
  {
   "cell_type": "code",
   "execution_count": 43,
   "metadata": {
    "collapsed": true
   },
   "outputs": [],
   "source": [
    "y_train_pred=cross_val_predict(sgd_clf,X_train_scaled,y_train,cv=3)\n",
    "conf_mx=confusion_matrix(y_train,y_train_pred)"
   ]
  },
  {
   "cell_type": "code",
   "execution_count": 44,
   "metadata": {},
   "outputs": [
    {
     "data": {
      "image/png": "[encoded data removed]",
      "text/plain": [
       "<matplotlib.figure.Figure at 0x2c607151d30>"
      ]
     },
     "metadata": {},
     "output_type": "display_data"
    }
   ],
   "source": [
    "plt.matshow(conf_mx,cmap=plt.cm.gray)\n",
    "plt.show()"
   ]
  },
  {
   "cell_type": "markdown",
   "metadata": {},
   "source": [
    "it seems good because most of samples concentrate on the diagnol"
   ]
  },
  {
   "cell_type": "code",
   "execution_count": 45,
   "metadata": {},
   "outputs": [
    {
     "data": {
      "text/plain": [
       "array([[5923],\n",
       "       [6742],\n",
       "       [5958],\n",
       "       [6131],\n",
       "       [5842],\n",
       "       [5421],\n",
       "       [5918],\n",
       "       [6265],\n",
       "       [5851],\n",
       "       [5949]])"
      ]
     },
     "execution_count": 45,
     "metadata": {},
     "output_type": "execute_result"
    }
   ],
   "source": [
    "row_sums = conf_mx.sum(axis=1, keepdims=True)\n",
    "row_sums"
   ]
  },
  {
   "cell_type": "code",
   "execution_count": 46,
   "metadata": {},
   "outputs": [
    {
     "data": {
      "text/plain": [
       "array([[  9.67583995e-01,   3.37666723e-04,   3.54550059e-03,\n",
       "          1.85716698e-03,   1.85716698e-03,   7.25983454e-03,\n",
       "          9.11700152e-03,   1.35066689e-03,   6.75333446e-03,\n",
       "          3.37666723e-04],\n",
       "       [  1.48323939e-04,   9.61287452e-01,   6.22960546e-03,\n",
       "          3.85642243e-03,   8.89943637e-04,   6.22960546e-03,\n",
       "          8.89943637e-04,   2.07653515e-03,   1.69089291e-02,\n",
       "          1.48323939e-03],\n",
       "       [  9.06344411e-03,   6.37797919e-03,   8.95434710e-01,\n",
       "          1.77912051e-02,   1.44343740e-02,   4.36388050e-03,\n",
       "          1.40986908e-02,   9.06344411e-03,   2.65189661e-02,\n",
       "          2.85330648e-03],\n",
       "       [  7.66595988e-03,   6.85043223e-03,   2.28347741e-02,\n",
       "          8.71309737e-01,   3.26211059e-04,   3.83297994e-02,\n",
       "          6.36111564e-03,   8.80769858e-03,   2.16930354e-02,\n",
       "          1.58212363e-02],\n",
       "       [  2.90996234e-03,   4.79287915e-03,   6.67579596e-03,\n",
       "          1.36939404e-03,   9.19890448e-01,   1.19821979e-03,\n",
       "          9.92810681e-03,   5.81992468e-03,   1.38651147e-02,\n",
       "          3.35501541e-02],\n",
       "       [  1.23593433e-02,   7.37871241e-03,   6.45637336e-03,\n",
       "          3.17284634e-02,   1.29127467e-02,   8.50950009e-01,\n",
       "          2.13982660e-02,   6.27190555e-03,   3.24663346e-02,\n",
       "          1.80778454e-02],\n",
       "       [  4.90030416e-03,   4.05542413e-03,   7.26596823e-03,\n",
       "          3.37952011e-04,   7.77289625e-03,   1.45319365e-02,\n",
       "          9.52855694e-01,   8.44880027e-04,   7.43494424e-03,\n",
       "          0.00000000e+00],\n",
       "       [  3.83080607e-03,   3.99042298e-03,   1.08539505e-02,\n",
       "          5.26735834e-03,   8.14046289e-03,   1.43655227e-03,\n",
       "          9.57701516e-04,   9.28332003e-01,   2.55387071e-03,\n",
       "          3.46368715e-02],\n",
       "       [  9.22919159e-03,   2.58075543e-02,   1.31601436e-02,\n",
       "          2.54657324e-02,   2.56366433e-03,   2.97385062e-02,\n",
       "          9.40010255e-03,   4.61459580e-03,   8.56605708e-01,\n",
       "          2.34148009e-02],\n",
       "       [  7.06001009e-03,   4.87476887e-03,   4.70667339e-03,\n",
       "          1.44562111e-02,   2.82400403e-02,   5.54715078e-03,\n",
       "          5.04286435e-04,   3.79895781e-02,   1.41200202e-02,\n",
       "          8.82501261e-01]])"
      ]
     },
     "execution_count": 46,
     "metadata": {},
     "output_type": "execute_result"
    }
   ],
   "source": [
    "norm_conf_mx=conf_mx/row_sums\n",
    "norm_conf_mx"
   ]
  },
  {
   "cell_type": "markdown",
   "metadata": {},
   "source": [
    "fill diagonal with zero and only plot the errors"
   ]
  },
  {
   "cell_type": "code",
   "execution_count": 47,
   "metadata": {},
   "outputs": [
    {
     "data": {
      "image/png": "[encoded data removed]",
      "text/plain": [
       "<matplotlib.figure.Figure at 0x2c606164940>"
      ]
     },
     "metadata": {},
     "output_type": "display_data"
    }
   ],
   "source": [
    "np.fill_diagonal(norm_conf_mx,0)\n",
    "plt.matshow(norm_conf_mx,cmap=plt.cm.gray)\n",
    "plt.show()"
   ]
  },
  {
   "cell_type": "markdown",
   "metadata": {},
   "source": [
    "the columns 8 and 9 is brighter than others means many digits are misclassified as 8 and 9. From the servral bright blocks we can find that number 3 is often misclassified as 5, 5 is often misclassified as 3, and 7 is often misclassified as 9"
   ]
  },
  {
   "cell_type": "code",
   "execution_count": 48,
   "metadata": {
    "collapsed": true
   },
   "outputs": [],
   "source": [
    "def plot_digits(instances, images_per_row=10, **options):\n",
    "    size = 28\n",
    "    images_per_row = min(len(instances), images_per_row)\n",
    "    images = [instance.reshape(size,size) for instance in instances]\n",
    "    n_rows = (len(instances) - 1) // images_per_row + 1\n",
    "    row_images = []\n",
    "    n_empty = n_rows * images_per_row - len(instances)\n",
    "    images.append(np.zeros((size, size * n_empty)))\n",
    "    for row in range(n_rows):\n",
    "        rimages = images[row * images_per_row : (row + 1) * images_per_row]\n",
    "        row_images.append(np.concatenate(rimages, axis=1))\n",
    "    image = np.concatenate(row_images, axis=0)\n",
    "    plt.imshow(image, cmap = matplotlib.cm.binary, **options)\n",
    "    plt.axis(\"off\")"
   ]
  },
  {
   "cell_type": "code",
   "execution_count": 49,
   "metadata": {},
   "outputs": [
    {
     "data": {
      "image/png": "[encoded data removed]",
      "text/plain": [
       "<matplotlib.figure.Figure at 0x2c67ecd9e48>"
      ]
     },
     "metadata": {},
     "output_type": "display_data"
    }
   ],
   "source": [
    "cl_a, cl_b = 3, 5\n",
    "X_aa = X_train[(y_train == cl_a) & (y_train_pred == cl_a)]\n",
    "X_ab = X_train[(y_train == cl_a) & (y_train_pred == cl_b)]\n",
    "X_ba = X_train[(y_train == cl_b) & (y_train_pred == cl_a)]\n",
    "X_bb = X_train[(y_train == cl_b) & (y_train_pred == cl_b)]\n",
    "\n",
    "plt.figure(figsize=(8,8))\n",
    "plt.subplot(221); plot_digits(X_aa[:25], images_per_row=5)\n",
    "plt.subplot(222); plot_digits(X_ab[:25], images_per_row=5)\n",
    "plt.subplot(223); plot_digits(X_ba[:25], images_per_row=5)\n",
    "plt.subplot(224); plot_digits(X_bb[:25], images_per_row=5)\n",
    "plt.show()"
   ]
  },
  {
   "cell_type": "markdown",
   "metadata": {
    "collapsed": true
   },
   "source": [
    "## Multilabels Classification"
   ]
  },
  {
   "cell_type": "code",
   "execution_count": 50,
   "metadata": {},
   "outputs": [
    {
     "data": {
      "text/plain": [
       "array([ 1.,  1.,  1., ...,  2.,  3.,  8.])"
      ]
     },
     "execution_count": 50,
     "metadata": {},
     "output_type": "execute_result"
    }
   ],
   "source": [
    "y_train"
   ]
  },
  {
   "cell_type": "markdown",
   "metadata": {},
   "source": [
    "in Multilabels Classification, the samples not only labeled as one class, so we use KNeighborsClassifier to apply"
   ]
  },
  {
   "cell_type": "code",
   "execution_count": 7,
   "metadata": {},
   "outputs": [
    {
     "name": "stdout",
     "output_type": "stream",
     "text": [
      "[[False False]\n",
      " [False  True]\n",
      " [False  True]\n",
      " ..., \n",
      " [False False]\n",
      " [False  True]\n",
      " [ True  True]]\n"
     ]
    },
    {
     "data": {
      "text/plain": [
       "KNeighborsClassifier(algorithm='auto', leaf_size=30, metric='minkowski',\n",
       "           metric_params=None, n_jobs=1, n_neighbors=5, p=2,\n",
       "           weights='uniform')"
      ]
     },
     "execution_count": 7,
     "metadata": {},
     "output_type": "execute_result"
    }
   ],
   "source": [
    "from sklearn.neighbors import KNeighborsClassifier\n",
    "y_train_large = (y_train >= 7)\n",
    "y_train_odd = (y_train % 2 == 1)\n",
    "\n",
    "y_multilabel = np.c_[y_train_large, y_train_odd]\n",
    "print(y_multilabel)\n",
    "knn_clf = KNeighborsClassifier()\n",
    "knn_clf.fit(X_train, y_multilabel)"
   ]
  },
  {
   "cell_type": "code",
   "execution_count": 52,
   "metadata": {},
   "outputs": [
    {
     "data": {
      "text/plain": [
       "array([[False,  True]], dtype=bool)"
      ]
     },
     "execution_count": 52,
     "metadata": {},
     "output_type": "execute_result"
    }
   ],
   "source": [
    "knn_clf.predict([some_digit])"
   ]
  },
  {
   "cell_type": "markdown",
   "metadata": {},
   "source": [
    "some_digit is 5 , it shouldn't be lager than 7 and it is odd , so correct"
   ]
  },
  {
   "cell_type": "markdown",
   "metadata": {},
   "source": [
    "then let us predict and compute the F1 scores to evaluate"
   ]
  },
  {
   "cell_type": "code",
   "execution_count": 53,
   "metadata": {
    "collapsed": true
   },
   "outputs": [],
   "source": [
    "#y_train_knn_pred=cross_val_predict(knn_clf,X_train,y_train,cv=3)\n",
    "#f1_score(y_train,y_train_knn_pred,average=\"Marco\")"
   ]
  },
  {
   "cell_type": "markdown",
   "metadata": {},
   "source": [
    "## Multioutput Classification"
   ]
  },
  {
   "cell_type": "markdown",
   "metadata": {},
   "source": [
    "Here we create a denoise system as example of Multioutput Classification(Multilabels Multiclass probelm) we input a noised image and output a denoised image, the output is multilabels(a label per pixel) and each pixel or each label has multiclasses( 0 to 255)"
   ]
  },
  {
   "cell_type": "code",
   "execution_count": 54,
   "metadata": {},
   "outputs": [
    {
     "data": {
      "text/plain": [
       "60000"
      ]
     },
     "execution_count": 54,
     "metadata": {},
     "output_type": "execute_result"
    }
   ],
   "source": [
    "len(X_train)"
   ]
  },
  {
   "cell_type": "code",
   "execution_count": 55,
   "metadata": {
    "collapsed": true
   },
   "outputs": [],
   "source": [
    "noise_train = np.random.randint(0, 100, (len(X_train), 784))\n",
    "noise_test = np.random.randint(0, 100, (len(X_test), 784))\n",
    "X_train_mod = X_train + noise_train\n",
    "X_test_mod = X_test + noise_test\n",
    "y_train_mod = X_train\n",
    "y_test_mod = X_test"
   ]
  },
  {
   "cell_type": "code",
   "execution_count": 56,
   "metadata": {},
   "outputs": [
    {
     "data": {
      "image/png": "[encoded data removed]",
      "text/plain": [
       "<matplotlib.figure.Figure at 0x2c6074a3f98>"
      ]
     },
     "metadata": {},
     "output_type": "display_data"
    }
   ],
   "source": [
    "plot_digit(X_train_mod[36000])"
   ]
  },
  {
   "cell_type": "code",
   "execution_count": 57,
   "metadata": {},
   "outputs": [
    {
     "data": {
      "image/png": "[encoded data removed]",
      "text/plain": [
       "<matplotlib.figure.Figure at 0x2c615c76908>"
      ]
     },
     "metadata": {},
     "output_type": "display_data"
    }
   ],
   "source": [
    "plot_digit(y_train_mod[36000])"
   ]
  },
  {
   "cell_type": "markdown",
   "metadata": {},
   "source": [
    "then we use the KNN classifier to solve"
   ]
  },
  {
   "cell_type": "code",
   "execution_count": 58,
   "metadata": {},
   "outputs": [
    {
     "data": {
      "text/plain": [
       "KNeighborsClassifier(algorithm='auto', leaf_size=30, metric='minkowski',\n",
       "           metric_params=None, n_jobs=1, n_neighbors=5, p=2,\n",
       "           weights='uniform')"
      ]
     },
     "execution_count": 58,
     "metadata": {},
     "output_type": "execute_result"
    }
   ],
   "source": [
    "knn_clf.fit(X_train_mod,y_train_mod)"
   ]
  },
  {
   "cell_type": "code",
   "execution_count": 59,
   "metadata": {},
   "outputs": [
    {
     "name": "stderr",
     "output_type": "stream",
     "text": [
      "D:\\ProgramData\\Anaconda3\\lib\\site-packages\\sklearn\\utils\\validation.py:395: DeprecationWarning: Passing 1d arrays as data is deprecated in 0.17 and will raise ValueError in 0.19. Reshape your data either using X.reshape(-1, 1) if your data has a single feature or X.reshape(1, -1) if it contains a single sample.\n",
      "  DeprecationWarning)\n"
     ]
    },
    {
     "data": {
      "image/png": "[encoded data removed]",
      "text/plain": [
       "<matplotlib.figure.Figure at 0x2c61b1f2208>"
      ]
     },
     "metadata": {},
     "output_type": "display_data"
    }
   ],
   "source": [
    "some_knn_predict_digit=knn_clf.predict(X_test_mod[3000])\n",
    "plot_digit(X_test_mod[3000])"
   ]
  },
  {
   "cell_type": "markdown",
   "metadata": {},
   "source": [
    "Nice work It's close enough "
   ]
  },
  {
   "cell_type": "markdown",
   "metadata": {
    "collapsed": true
   },
   "source": [
    "## Exersice 1 "
   ]
  },
  {
   "cell_type": "markdown",
   "metadata": {},
   "source": [
    "let us see the acurrency using KNeighbor before GridSearch"
   ]
  },
  {
   "cell_type": "code",
   "execution_count": null,
   "metadata": {
    "collapsed": true
   },
   "outputs": [],
   "source": [
    "knn_clf.fit(X_train_scaled,y_train)\n",
    "y_test_pred=knn_clf.predict(X_test)"
   ]
  },
  {
   "cell_type": "code",
   "execution_count": null,
   "metadata": {
    "collapsed": true
   },
   "outputs": [],
   "source": [
    "from sklearn.metrics import accuracy_score\n",
    "accuracy_score(y_test, y_test_pred)"
   ]
  },
  {
   "cell_type": "code",
   "execution_count": 60,
   "metadata": {},
   "outputs": [
    {
     "name": "stdout",
     "output_type": "stream",
     "text": [
      "Fitting 3 folds for each of 4 candidates, totalling 12 fits\n",
      "[CV] n_neighbors=4, weights=uniform ..................................\n",
      "[CV] ... n_neighbors=4, weights=uniform, score=0.939762, total=32.8min\n",
      "[CV] n_neighbors=4, weights=uniform ..................................\n"
     ]
    },
    {
     "name": "stderr",
     "output_type": "stream",
     "text": [
      "[Parallel(n_jobs=1)]: Done   1 out of   1 | elapsed: 97.7min remaining:    0.0s\n"
     ]
    },
    {
     "name": "stdout",
     "output_type": "stream",
     "text": [
      "[CV] ... n_neighbors=4, weights=uniform, score=0.940147, total=33.4min\n",
      "[CV] n_neighbors=4, weights=uniform ..................................\n"
     ]
    },
    {
     "name": "stderr",
     "output_type": "stream",
     "text": [
      "[Parallel(n_jobs=1)]: Done   2 out of   2 | elapsed: 195.0min remaining:    0.0s\n"
     ]
    },
    {
     "name": "stdout",
     "output_type": "stream",
     "text": [
      "[CV] ... n_neighbors=4, weights=uniform, score=0.938341, total=32.0min\n",
      "[CV] n_neighbors=4, weights=distance .................................\n",
      "[CV] .. n_neighbors=4, weights=distance, score=0.945111, total=32.0min\n",
      "[CV] n_neighbors=4, weights=distance .................................\n",
      "[CV] .. n_neighbors=4, weights=distance, score=0.946197, total=32.7min\n",
      "[CV] n_neighbors=4, weights=distance .................................\n",
      "[CV] .. n_neighbors=4, weights=distance, score=0.943542, total=32.3min\n",
      "[CV] n_neighbors=5, weights=uniform ..................................\n",
      "[CV] ... n_neighbors=5, weights=uniform, score=0.940362, total=34.4min\n",
      "[CV] n_neighbors=5, weights=uniform ..................................\n",
      "[CV] ... n_neighbors=5, weights=uniform, score=0.941647, total=35.9min\n",
      "[CV] n_neighbors=5, weights=uniform ..................................\n",
      "[CV] ... n_neighbors=5, weights=uniform, score=0.941041, total=36.4min\n",
      "[CV] n_neighbors=5, weights=distance .................................\n",
      "[CV] .. n_neighbors=5, weights=distance, score=0.942511, total=32.7min\n",
      "[CV] n_neighbors=5, weights=distance .................................\n",
      "[CV] .. n_neighbors=5, weights=distance, score=0.943647, total=32.0min\n",
      "[CV] n_neighbors=5, weights=distance .................................\n",
      "[CV] .. n_neighbors=5, weights=distance, score=0.942691, total=32.0min\n"
     ]
    },
    {
     "name": "stderr",
     "output_type": "stream",
     "text": [
      "[Parallel(n_jobs=1)]: Done  12 out of  12 | elapsed: 1178.1min finished\n"
     ]
    },
    {
     "data": {
      "text/plain": [
       "GridSearchCV(cv=3, error_score='raise',\n",
       "       estimator=KNeighborsClassifier(algorithm='auto', leaf_size=30, metric='minkowski',\n",
       "           metric_params=None, n_jobs=1, n_neighbors=5, p=2,\n",
       "           weights='uniform'),\n",
       "       fit_params={}, iid=True, n_jobs=1,\n",
       "       param_grid=[{'weights': ['uniform', 'distance'], 'n_neighbors': [4, 5]}],\n",
       "       pre_dispatch='2*n_jobs', refit=True, return_train_score=True,\n",
       "       scoring=None, verbose=3)"
      ]
     },
     "execution_count": 60,
     "metadata": {},
     "output_type": "execute_result"
    }
   ],
   "source": [
    "from sklearn.model_selection import GridSearchCV\n",
    "\n",
    "param_grid=[{\"weights\":['uniform','distance'],'n_neighbors':[4,5]}]\n",
    "grid_search=GridSearchCV(knn_clf,param_grid,cv=3,verbose=3)\n",
    "grid_search.fit(X_train_scaled,y_train)"
   ]
  },
  {
   "cell_type": "code",
   "execution_count": 63,
   "metadata": {},
   "outputs": [
    {
     "data": {
      "text/plain": [
       "KNeighborsClassifier(algorithm='auto', leaf_size=30, metric='minkowski',\n",
       "           metric_params=None, n_jobs=1, n_neighbors=4, p=2,\n",
       "           weights='distance')"
      ]
     },
     "execution_count": 63,
     "metadata": {},
     "output_type": "execute_result"
    }
   ],
   "source": [
    "grid_search.best_estimator_"
   ]
  },
  {
   "cell_type": "markdown",
   "metadata": {},
   "source": [
    "then we use the test set"
   ]
  },
  {
   "cell_type": "code",
   "execution_count": 65,
   "metadata": {},
   "outputs": [
    {
     "data": {
      "text/plain": [
       "0.7903"
      ]
     },
     "execution_count": 65,
     "metadata": {},
     "output_type": "execute_result"
    }
   ],
   "source": [
    "from sklearn.metrics import accuracy_score\n",
    "y_grid_pred=grid_search.predict(X_test)\n",
    "accuracy_score(y_test, y_grid_pred)"
   ]
  },
  {
   "cell_type": "markdown",
   "metadata": {},
   "source": [
    "it is too low because X_test shoul be scaled"
   ]
  },
  {
   "cell_type": "code",
   "execution_count": 66,
   "metadata": {},
   "outputs": [
    {
     "data": {
      "text/plain": [
       "0.94740000000000002"
      ]
     },
     "execution_count": 66,
     "metadata": {},
     "output_type": "execute_result"
    }
   ],
   "source": [
    "X_test_scaled=scaler.fit_transform(X_test.astype(np.float64))\n",
    "y_grid_pred=grid_search.predict(X_test_scaled)\n",
    "accuracy_score(y_test, y_grid_pred)"
   ]
  },
  {
   "cell_type": "markdown",
   "metadata": {},
   "source": [
    "good!"
   ]
  },
  {
   "cell_type": "markdown",
   "metadata": {},
   "source": [
    "## Exercise 2 Data Augmentation"
   ]
  },
  {
   "cell_type": "code",
   "execution_count": 8,
   "metadata": {
    "collapsed": true
   },
   "outputs": [],
   "source": [
    "from scipy.ndimage.interpolation import shift"
   ]
  },
  {
   "cell_type": "code",
   "execution_count": 9,
   "metadata": {
    "collapsed": true
   },
   "outputs": [],
   "source": [
    "def shift_image(image, dx, dy):\n",
    "    image = image.reshape((28, 28))\n",
    "    shifted_image = shift(image, [dy, dx], cval=0, mode=\"constant\") \n",
    "    #cval=Value used for points outside the boundaries of the input if mode='constant'. Default is 0.0\n",
    "    #mode=Points outside the boundaries of the input are filled according to the given mode \n",
    "    #mode=(‘constant’, ‘nearest’, ‘reflect’ or ‘wrap’). Default is ‘constant’\n",
    "    return shifted_image.reshape([-1]) #reshape([-1]) multipy all the dimensions 28*28=784"
   ]
  },
  {
   "cell_type": "code",
   "execution_count": 71,
   "metadata": {},
   "outputs": [
    {
     "data": {
      "text/plain": [
       "(784,)"
      ]
     },
     "execution_count": 71,
     "metadata": {},
     "output_type": "execute_result"
    }
   ],
   "source": [
    "image=X_train[1000]\n",
    "image.shape"
   ]
  },
  {
   "cell_type": "code",
   "execution_count": 125,
   "metadata": {
    "collapsed": true
   },
   "outputs": [],
   "source": [
    "image_down=shift_image(image,0,5)\n",
    "image_left=shift_image(image,-5,0)"
   ]
  },
  {
   "cell_type": "code",
   "execution_count": 96,
   "metadata": {},
   "outputs": [
    {
     "data": {
      "image/png": "[encoded data removed]",
      "text/plain": [
       "<matplotlib.figure.Figure at 0x2c60718d0f0>"
      ]
     },
     "metadata": {},
     "output_type": "display_data"
    },
    {
     "data": {
      "image/png": "[encoded data removed]",
      "text/plain": [
       "<matplotlib.figure.Figure at 0x2c60715a4a8>"
      ]
     },
     "metadata": {},
     "output_type": "display_data"
    },
    {
     "data": {
      "image/png": "[encoded data removed]",
      "text/plain": [
       "<matplotlib.figure.Figure at 0x2c615a61eb8>"
      ]
     },
     "metadata": {},
     "output_type": "display_data"
    }
   ],
   "source": [
    "plt.figure(figsize=(12,3))\n",
    "plt.subplot(131)\n",
    "plt.title(\"Original\", fontsize=14)\n",
    "plt.imshow(image.reshape(28, 28), interpolation=\"nearest\", cmap=\"Greys\")\n",
    "plt.figure(figsize=(12,3))\n",
    "plt.subplot(131)\n",
    "plt.title(\"Shift_left\", fontsize=14)\n",
    "plt.imshow(image_left.reshape(28, 28), interpolation=\"nearest\", cmap=\"Greys\")\n",
    "plt.figure(figsize=(12,3))\n",
    "plt.subplot(131)\n",
    "plt.title(\"Shift_down\", fontsize=14)\n",
    "plt.imshow(image_down.reshape(28, 28), interpolation=\"nearest\", cmap=\"Greys\")\n",
    "plt.show()"
   ]
  },
  {
   "cell_type": "markdown",
   "metadata": {},
   "source": [
    "this is data augmentation for just one sample,and we will apply this on the whole set"
   ]
  },
  {
   "cell_type": "code",
   "execution_count": 99,
   "metadata": {},
   "outputs": [
    {
     "name": "stdout",
     "output_type": "stream",
     "text": [
      "The following commands were written to file `output.py`:\n",
      "array([[  0,   0,   0,   0,   0,   0,   0,   0,   0,   0,   0,   0,   0,\n",
      "          0,   0,   0,   0,   0,   0,   0,   0,   0,   0,   0,   0,   0,\n",
      "          0,   0],\n",
      "       [  0,   0,   0,   0,   0,   0,   0,   0,   0,   0,   0,   0,   0,\n",
      "          0,   0,   0,   0,   0,   0,   0,   0,   0,   0,   0,   0,   0,\n",
      "          0,   0],\n",
      "       [  0,   0,   0,   0,   0,   0,   0,   0,   0,   0,   0,   0,   0,\n",
      "          0,   0,   0,   0,   0,   0,   0,   0,   0,   0,   0,   0,   0,\n",
      "          0,   0],\n",
      "       [  0,   0,   0,   0,   0,   0,   0,   0,   0,   0,   0,   0,   0,\n",
      "          0,   0,   0,   0,   0,   0,   0,   0,   0,   0,   0,   0,   0,\n",
      "          0,   0],\n",
      "       [  0,   0,   0,   0,   0,   0,   0,   0,   0,   0,   0,   0,   0,\n",
      "          0,   0,   0,   0,   0,   0,   0,   0,   0,   0,   0,   0,   0,\n",
      "          0,   0],\n",
      "       [  0,   0,   0,   0,   0,   0,   0,   0,   0,   0,   0,   0,   0,\n",
      "          0,   0,   0,   0,   0,   0,   0,   0,   0,   0,   0,   0,   0,\n",
      "          0,   0],\n",
      "       [  0,   0,   0,   0,   0,   0,   0,   0,   0,   0,   0,   0,   0,\n",
      "          0,   0,   0,   0,   0,   0,   0,   0,   0,   0,   0,   0,   0,\n",
      "          0,   0],\n",
      "       [  0,   0,   0,   0,   0,   0,   0,   0,   0,   0,   0,   0,   0,\n",
      "          0,  67,  85,  98, 197, 197, 197, 198, 172,  19,   0,   0,   0,\n",
      "          0,   0],\n",
      "       [  0,   0,   0,   0,   0,   0,   0,   0,   0,   0,   0,  51, 126,\n",
      "        225, 246, 252, 253, 252, 252, 252, 253, 252, 193,  13,   0,   0,\n",
      "          0,   0],\n",
      "       [  0,   0,   0,   0,   0,   0,   0,   0,   0,   0,   0, 114, 255,\n",
      "        253, 253, 178, 114,  38,   0,   0, 114, 194, 253, 153,   0,   0,\n",
      "          0,   0],\n",
      "       [  0,   0,   0,   0,   0,   0,   0,   0,   0,   0,   0,  88, 216,\n",
      "        215, 233,  22,   0,   0,   0,   0,   0,  32, 228, 227,   0,   0,\n",
      "          0,   0],\n",
      "       [  0,   0,   0,   0,   0,   0,   0,   0,   0,   0,   0,   0,  53,\n",
      "        252, 234,  22,   0,   0,   0,   0,   0,  32, 228, 228,   0,   0,\n",
      "          0,   0],\n",
      "       [  0,   0,   0,   0,   0,   0,   0,   0,   0,   0,   0,   0,  16,\n",
      "        215, 214,  15,   0,   0,   0,   0, 126, 231, 252, 102,   0,   0,\n",
      "          0,   0],\n",
      "       [  0,   0,   0,   0,   0,   0,   0,   0,   0,   0,   0,   0,   4,\n",
      "        179, 253, 153,  29,  54, 141, 191, 254, 247, 137,  13,   0,   0,\n",
      "          0,   0],\n",
      "       [  0,   0,   0,   0,   0,   0,   0,   0,   0,   0,   0,   0,  29,\n",
      "        252, 252, 252, 253, 252, 252, 252, 184,  65,   0,   0,   0,   0,\n",
      "          0,   0],\n",
      "       [  0,   0,   0,   0,   0,   0,   0,   0,   0,   0,  67,  85, 104,\n",
      "        252, 252, 252, 253, 196, 130,  56,   0,   0,   0,   0,   0,   0,\n",
      "          0,   0],\n",
      "       [  0,   0,   0,   0,   0,   0,   0,   0, 114, 138, 246, 252, 253,\n",
      "        252, 252, 202,  28,   9,   0,   0,   0,   0,   0,   0,   0,   0,\n",
      "          0,   0],\n",
      "       [  0,   0,   0,   0,   0,  45, 229, 253, 254, 253, 231, 175, 179,\n",
      "        253, 168,   0,   0,   0,   0,   0,   0,   0,   0,   0,   0,   0,\n",
      "          0,   0],\n",
      "       [  0,   0,   0,   0,  32, 187, 252, 227, 184,  84,  19,  26, 128,\n",
      "        252, 142,   0,   0,   0,   0,   0,   0,   0,   0,   0,   0,   0,\n",
      "          0,   0],\n",
      "       [  0,   0,   0,   0,  53, 252, 224,  94,   0,   0,  67, 159, 253,\n",
      "        233,  37,   0,   0,   0,   0,   0,   0,   0,   0,   0,   0,   0,\n",
      "          0,   0],\n",
      "       [  0,   0,   0,   0, 179, 252, 155, 113, 176, 225, 246, 252, 178,\n",
      "         22,   0,   0,   0,   0,   0,   0,   0,   0,   0,   0,   0,   0,\n",
      "          0,   0],\n",
      "       [  0,   0,   0,   0, 141, 253, 253, 253, 251, 225, 225, 125,  51,\n",
      "          0,   0,   0,   0,   0,   0,   0,   0,   0,   0,   0,   0,   0,\n",
      "          0,   0],\n",
      "       [  0,   0,   0,   0,  47,  84,  84,  84,  75,   0,   0,   0,   0,\n",
      "          0,   0,   0,   0,   0,   0,   0,   0,   0,   0,   0,   0,   0,\n",
      "          0,   0],\n",
      "       [  0,   0,   0,   0,   0,   0,   0,   0,   0,   0,   0,   0,   0,\n",
      "          0,   0,   0,   0,   0,   0,   0,   0,   0,   0,   0,   0,   0,\n",
      "          0,   0],\n",
      "       [  0,   0,   0,   0,   0,   0,   0,   0,   0,   0,   0,   0,   0,\n",
      "          0,   0,   0,   0,   0,   0,   0,   0,   0,   0,   0,   0,   0,\n",
      "          0,   0],\n",
      "       [  0,   0,   0,   0,   0,   0,   0,   0,   0,   0,   0,   0,   0,\n",
      "          0,   0,   0,   0,   0,   0,   0,   0,   0,   0,   0,   0,   0,\n",
      "          0,   0],\n",
      "       [  0,   0,   0,   0,   0,   0,   0,   0,   0,   0,   0,   0,   0,\n",
      "          0,   0,   0,   0,   0,   0,   0,   0,   0,   0,   0,   0,   0,\n",
      "          0,   0],\n",
      "       [  0,   0,   0,   0,   0,   0,   0,   0,   0,   0,   0,   0,   0,\n",
      "          0,   0,   0,   0,   0,   0,   0,   0,   0,   0,   0,   0,   0,\n",
      "          0,   0]], dtype=uint8)\n"
     ]
    }
   ],
   "source": [
    "%save output repr(_92)"
   ]
  },
  {
   "cell_type": "code",
   "execution_count": 100,
   "metadata": {},
   "outputs": [
    {
     "name": "stdout",
     "output_type": "stream",
     "text": [
      "File `output.py` exists. Overwrite (y/[N])?  y\n",
      "The following commands were written to file `output.py`:\n",
      "GridSearchCV(cv=3, error_score='raise',\n",
      "       estimator=KNeighborsClassifier(algorithm='auto', leaf_size=30, metric='minkowski',\n",
      "           metric_params=None, n_jobs=1, n_neighbors=5, p=2,\n",
      "           weights='uniform'),\n",
      "       fit_params={}, iid=True, n_jobs=1,\n",
      "       param_grid=[{'weights': ['uniform', 'distance'], 'n_neighbors': [4, 5]}],\n",
      "       pre_dispatch='2*n_jobs', refit=True, return_train_score=True,\n",
      "       scoring=None, verbose=3)\n"
     ]
    }
   ],
   "source": [
    "%save output repr(_60)"
   ]
  },
  {
   "cell_type": "code",
   "execution_count": 10,
   "metadata": {},
   "outputs": [
    {
     "data": {
      "text/plain": [
       "[0.0,\n",
       " 3.0,\n",
       " 5.0,\n",
       " 6.0,\n",
       " 0.0,\n",
       " 0.0,\n",
       " 3.0,\n",
       " 4.0,\n",
       " 2.0,\n",
       " 9.0,\n",
       " 5.0,\n",
       " 5.0,\n",
       " 2.0,\n",
       " 1.0,\n",
       " 9.0,\n",
       " 9.0,\n",
       " 6.0,\n",
       " 2.0,\n",
       " 0.0,\n",
       " 0.0,\n",
       " 0.0,\n",
       " 9.0,\n",
       " 0.0,\n",
       " 8.0,\n",
       " 8.0,\n",
       " 1.0,\n",
       " 2.0,\n",
       " 9.0,\n",
       " 3.0,\n",
       " 1.0,\n",
       " 3.0,\n",
       " 8.0,\n",
       " 4.0,\n",
       " 1.0,\n",
       " 0.0,\n",
       " 4.0,\n",
       " 3.0,\n",
       " 5.0,\n",
       " 6.0,\n",
       " 1.0,\n",
       " 6.0,\n",
       " 1.0,\n",
       " 1.0,\n",
       " 7.0,\n",
       " 0.0,\n",
       " 9.0,\n",
       " 7.0,\n",
       " 9.0,\n",
       " 7.0,\n",
       " 8.0,\n",
       " 2.0,\n",
       " 9.0,\n",
       " 1.0,\n",
       " 7.0,\n",
       " 2.0,\n",
       " 4.0,\n",
       " 9.0,\n",
       " 9.0,\n",
       " 0.0,\n",
       " 9.0,\n",
       " 2.0,\n",
       " 4.0,\n",
       " 6.0,\n",
       " 9.0,\n",
       " 7.0,\n",
       " 9.0,\n",
       " 4.0,\n",
       " 2.0,\n",
       " 2.0,\n",
       " 4.0,\n",
       " 8.0,\n",
       " 0.0,\n",
       " 0.0,\n",
       " 1.0,\n",
       " 9.0,\n",
       " 2.0,\n",
       " 1.0,\n",
       " 4.0,\n",
       " 4.0,\n",
       " 6.0,\n",
       " 4.0,\n",
       " 9.0,\n",
       " 5.0,\n",
       " 2.0,\n",
       " 7.0,\n",
       " 1.0,\n",
       " 5.0,\n",
       " 6.0,\n",
       " 1.0,\n",
       " 5.0,\n",
       " 9.0,\n",
       " 2.0,\n",
       " 9.0,\n",
       " 4.0,\n",
       " 9.0,\n",
       " 6.0,\n",
       " 8.0,\n",
       " 7.0,\n",
       " 3.0,\n",
       " 9.0,\n",
       " 0.0,\n",
       " 1.0,\n",
       " 6.0,\n",
       " 4.0,\n",
       " 7.0,\n",
       " 6.0,\n",
       " 0.0,\n",
       " 1.0,\n",
       " 5.0,\n",
       " 7.0,\n",
       " 2.0,\n",
       " 5.0,\n",
       " 9.0,\n",
       " 2.0,\n",
       " 1.0,\n",
       " 7.0,\n",
       " 7.0,\n",
       " 4.0,\n",
       " 5.0,\n",
       " 5.0,\n",
       " 7.0,\n",
       " 1.0,\n",
       " 0.0,\n",
       " 3.0,\n",
       " 2.0,\n",
       " 6.0,\n",
       " 2.0,\n",
       " 0.0,\n",
       " 2.0,\n",
       " 6.0,\n",
       " 9.0,\n",
       " 4.0,\n",
       " 4.0,\n",
       " 4.0,\n",
       " 9.0,\n",
       " 3.0,\n",
       " 7.0,\n",
       " 7.0,\n",
       " 4.0,\n",
       " 1.0,\n",
       " 2.0,\n",
       " 8.0,\n",
       " 2.0,\n",
       " 2.0,\n",
       " 4.0,\n",
       " 3.0,\n",
       " 2.0,\n",
       " 6.0,\n",
       " 1.0,\n",
       " 1.0,\n",
       " 0.0,\n",
       " 7.0,\n",
       " 8.0,\n",
       " 7.0,\n",
       " 9.0,\n",
       " 8.0,\n",
       " 4.0,\n",
       " 7.0,\n",
       " 7.0,\n",
       " 9.0,\n",
       " 5.0,\n",
       " 6.0,\n",
       " 5.0,\n",
       " 4.0,\n",
       " 0.0,\n",
       " 9.0,\n",
       " 2.0,\n",
       " 7.0,\n",
       " 4.0,\n",
       " 0.0,\n",
       " 1.0,\n",
       " 7.0,\n",
       " 9.0,\n",
       " 7.0,\n",
       " 0.0,\n",
       " 3.0,\n",
       " 9.0,\n",
       " 8.0,\n",
       " 5.0,\n",
       " 9.0,\n",
       " 1.0,\n",
       " 4.0,\n",
       " 0.0,\n",
       " 9.0,\n",
       " 7.0,\n",
       " 8.0,\n",
       " 5.0,\n",
       " 1.0,\n",
       " 5.0,\n",
       " 1.0,\n",
       " 0.0,\n",
       " 9.0,\n",
       " 7.0,\n",
       " 6.0,\n",
       " 4.0,\n",
       " 4.0,\n",
       " 7.0,\n",
       " 5.0,\n",
       " 1.0,\n",
       " 1.0,\n",
       " 1.0,\n",
       " 8.0,\n",
       " 2.0,\n",
       " 1.0,\n",
       " 8.0,\n",
       " 1.0,\n",
       " 9.0,\n",
       " 7.0,\n",
       " 6.0,\n",
       " 6.0,\n",
       " 4.0,\n",
       " 0.0,\n",
       " 9.0,\n",
       " 8.0,\n",
       " 8.0,\n",
       " 6.0,\n",
       " 7.0,\n",
       " 1.0,\n",
       " 6.0,\n",
       " 0.0,\n",
       " 0.0,\n",
       " 2.0,\n",
       " 1.0,\n",
       " 1.0,\n",
       " 5.0,\n",
       " 8.0,\n",
       " 7.0,\n",
       " 4.0,\n",
       " 6.0,\n",
       " 9.0,\n",
       " 6.0,\n",
       " 4.0,\n",
       " 0.0,\n",
       " 2.0,\n",
       " 6.0,\n",
       " 2.0,\n",
       " 0.0,\n",
       " 6.0,\n",
       " 3.0,\n",
       " 5.0,\n",
       " 4.0,\n",
       " 9.0,\n",
       " 3.0,\n",
       " 7.0,\n",
       " 4.0,\n",
       " 0.0,\n",
       " 0.0,\n",
       " 4.0,\n",
       " 3.0,\n",
       " 0.0,\n",
       " 7.0,\n",
       " 0.0,\n",
       " 9.0,\n",
       " 8.0,\n",
       " 1.0,\n",
       " 0.0,\n",
       " 2.0,\n",
       " 3.0,\n",
       " 3.0,\n",
       " 1.0,\n",
       " 2.0,\n",
       " 8.0,\n",
       " 8.0,\n",
       " 1.0,\n",
       " 6.0,\n",
       " 6.0,\n",
       " 9.0,\n",
       " 2.0,\n",
       " 7.0,\n",
       " 8.0,\n",
       " 6.0,\n",
       " 7.0,\n",
       " 6.0,\n",
       " 5.0,\n",
       " 9.0,\n",
       " 1.0,\n",
       " 7.0,\n",
       " 4.0,\n",
       " 9.0,\n",
       " 3.0,\n",
       " 8.0,\n",
       " 9.0,\n",
       " 2.0,\n",
       " 7.0,\n",
       " 0.0,\n",
       " 8.0,\n",
       " 5.0,\n",
       " 2.0,\n",
       " 7.0,\n",
       " 1.0,\n",
       " 8.0,\n",
       " 7.0,\n",
       " 2.0,\n",
       " 5.0,\n",
       " 4.0,\n",
       " 5.0,\n",
       " 4.0,\n",
       " 7.0,\n",
       " 9.0,\n",
       " 2.0,\n",
       " 1.0,\n",
       " 0.0,\n",
       " 6.0,\n",
       " 5.0,\n",
       " 1.0,\n",
       " 4.0,\n",
       " 8.0,\n",
       " 8.0,\n",
       " 0.0,\n",
       " 3.0,\n",
       " 1.0,\n",
       " 3.0,\n",
       " 0.0,\n",
       " 1.0,\n",
       " 3.0,\n",
       " 1.0,\n",
       " 9.0,\n",
       " 0.0,\n",
       " 5.0,\n",
       " 1.0,\n",
       " 1.0,\n",
       " 8.0,\n",
       " 1.0,\n",
       " 8.0,\n",
       " 6.0,\n",
       " 5.0,\n",
       " 5.0,\n",
       " 1.0,\n",
       " 4.0,\n",
       " 0.0,\n",
       " 9.0,\n",
       " 4.0,\n",
       " 4.0,\n",
       " 6.0,\n",
       " 8.0,\n",
       " 9.0,\n",
       " 7.0,\n",
       " 3.0,\n",
       " 1.0,\n",
       " 9.0,\n",
       " 6.0,\n",
       " 0.0,\n",
       " 8.0,\n",
       " 4.0,\n",
       " 4.0,\n",
       " 0.0,\n",
       " 5.0,\n",
       " 1.0,\n",
       " 0.0,\n",
       " 2.0,\n",
       " 8.0,\n",
       " 7.0,\n",
       " 8.0,\n",
       " 9.0,\n",
       " 1.0,\n",
       " 7.0,\n",
       " 9.0,\n",
       " 4.0,\n",
       " 7.0,\n",
       " 6.0,\n",
       " 7.0,\n",
       " 9.0,\n",
       " 7.0,\n",
       " 2.0,\n",
       " 1.0,\n",
       " 0.0,\n",
       " 5.0,\n",
       " 7.0,\n",
       " 3.0,\n",
       " 8.0,\n",
       " 7.0,\n",
       " 9.0,\n",
       " 5.0,\n",
       " 0.0,\n",
       " 6.0,\n",
       " 0.0,\n",
       " 3.0,\n",
       " 4.0,\n",
       " 6.0,\n",
       " 1.0,\n",
       " 7.0,\n",
       " 4.0,\n",
       " 6.0,\n",
       " 5.0,\n",
       " 9.0,\n",
       " 0.0,\n",
       " 3.0,\n",
       " 2.0,\n",
       " 4.0,\n",
       " 2.0,\n",
       " 2.0,\n",
       " 8.0,\n",
       " 5.0,\n",
       " 1.0,\n",
       " 0.0,\n",
       " 2.0,\n",
       " 3.0,\n",
       " 5.0,\n",
       " 1.0,\n",
       " 6.0,\n",
       " 3.0,\n",
       " 1.0,\n",
       " 1.0,\n",
       " 5.0,\n",
       " 3.0,\n",
       " 5.0,\n",
       " 7.0,\n",
       " 7.0,\n",
       " 0.0,\n",
       " 0.0,\n",
       " 9.0,\n",
       " 5.0,\n",
       " 1.0,\n",
       " 3.0,\n",
       " 0.0,\n",
       " 5.0,\n",
       " 6.0,\n",
       " 2.0,\n",
       " 9.0,\n",
       " 5.0,\n",
       " 6.0,\n",
       " 6.0,\n",
       " 2.0,\n",
       " 0.0,\n",
       " 9.0,\n",
       " 8.0,\n",
       " 7.0,\n",
       " 0.0,\n",
       " 9.0,\n",
       " 5.0,\n",
       " 2.0,\n",
       " 3.0,\n",
       " 3.0,\n",
       " 2.0,\n",
       " 8.0,\n",
       " 8.0,\n",
       " 3.0,\n",
       " 0.0,\n",
       " 4.0,\n",
       " 1.0,\n",
       " 2.0,\n",
       " 4.0,\n",
       " 9.0,\n",
       " 9.0,\n",
       " 3.0,\n",
       " 8.0,\n",
       " 0.0,\n",
       " 9.0,\n",
       " 2.0,\n",
       " 1.0,\n",
       " 4.0,\n",
       " 4.0,\n",
       " 3.0,\n",
       " 8.0,\n",
       " 0.0,\n",
       " 4.0,\n",
       " 1.0,\n",
       " 5.0,\n",
       " 8.0,\n",
       " 9.0,\n",
       " 8.0,\n",
       " 0.0,\n",
       " 1.0,\n",
       " 4.0,\n",
       " 4.0,\n",
       " 1.0,\n",
       " 7.0,\n",
       " 2.0,\n",
       " 1.0,\n",
       " 7.0,\n",
       " 4.0,\n",
       " 1.0,\n",
       " 6.0,\n",
       " 7.0,\n",
       " 0.0,\n",
       " 6.0,\n",
       " 2.0,\n",
       " 9.0,\n",
       " 0.0,\n",
       " 1.0,\n",
       " 3.0,\n",
       " 2.0,\n",
       " 3.0,\n",
       " 3.0,\n",
       " 8.0,\n",
       " 6.0,\n",
       " 8.0,\n",
       " 6.0,\n",
       " 5.0,\n",
       " 0.0,\n",
       " 3.0,\n",
       " 3.0,\n",
       " 9.0,\n",
       " 5.0,\n",
       " 8.0,\n",
       " 1.0,\n",
       " 7.0,\n",
       " 3.0,\n",
       " 1.0,\n",
       " 8.0,\n",
       " 3.0,\n",
       " 6.0,\n",
       " 7.0,\n",
       " 5.0,\n",
       " 5.0,\n",
       " 5.0,\n",
       " 6.0,\n",
       " 2.0,\n",
       " 6.0,\n",
       " 8.0,\n",
       " 0.0,\n",
       " 6.0,\n",
       " 8.0,\n",
       " 9.0,\n",
       " 3.0,\n",
       " 7.0,\n",
       " 2.0,\n",
       " 3.0,\n",
       " 1.0,\n",
       " 8.0,\n",
       " 6.0,\n",
       " 6.0,\n",
       " 0.0,\n",
       " 6.0,\n",
       " 0.0,\n",
       " 0.0,\n",
       " 2.0,\n",
       " 5.0,\n",
       " 6.0,\n",
       " 3.0,\n",
       " 1.0,\n",
       " 5.0,\n",
       " 5.0,\n",
       " 0.0,\n",
       " 8.0,\n",
       " 9.0,\n",
       " 1.0,\n",
       " 9.0,\n",
       " 7.0,\n",
       " 0.0,\n",
       " 9.0,\n",
       " 0.0,\n",
       " 8.0,\n",
       " 2.0,\n",
       " 5.0,\n",
       " 1.0,\n",
       " 7.0,\n",
       " 4.0,\n",
       " 5.0,\n",
       " 4.0,\n",
       " 2.0,\n",
       " 4.0,\n",
       " 9.0,\n",
       " 1.0,\n",
       " 2.0,\n",
       " 5.0,\n",
       " 8.0,\n",
       " 1.0,\n",
       " 9.0,\n",
       " 4.0,\n",
       " 7.0,\n",
       " 2.0,\n",
       " 9.0,\n",
       " 6.0,\n",
       " 5.0,\n",
       " 5.0,\n",
       " 0.0,\n",
       " 1.0,\n",
       " 4.0,\n",
       " 2.0,\n",
       " 3.0,\n",
       " 9.0,\n",
       " 2.0,\n",
       " 7.0,\n",
       " 2.0,\n",
       " 8.0,\n",
       " 4.0,\n",
       " 2.0,\n",
       " 6.0,\n",
       " 8.0,\n",
       " 7.0,\n",
       " 6.0,\n",
       " 0.0,\n",
       " 0.0,\n",
       " 4.0,\n",
       " 5.0,\n",
       " 0.0,\n",
       " 8.0,\n",
       " 8.0,\n",
       " 7.0,\n",
       " 2.0,\n",
       " 4.0,\n",
       " 2.0,\n",
       " 9.0,\n",
       " 7.0,\n",
       " 7.0,\n",
       " 1.0,\n",
       " 3.0,\n",
       " 0.0,\n",
       " 1.0,\n",
       " 2.0,\n",
       " 7.0,\n",
       " 7.0,\n",
       " 2.0,\n",
       " 7.0,\n",
       " 0.0,\n",
       " 6.0,\n",
       " 4.0,\n",
       " 5.0,\n",
       " 3.0,\n",
       " 7.0,\n",
       " 3.0,\n",
       " 4.0,\n",
       " 6.0,\n",
       " 2.0,\n",
       " 0.0,\n",
       " 1.0,\n",
       " 2.0,\n",
       " 3.0,\n",
       " 6.0,\n",
       " 6.0,\n",
       " 1.0,\n",
       " 9.0,\n",
       " 7.0,\n",
       " 1.0,\n",
       " 2.0,\n",
       " 8.0,\n",
       " 3.0,\n",
       " 1.0,\n",
       " 7.0,\n",
       " 2.0,\n",
       " 6.0,\n",
       " 4.0,\n",
       " 3.0,\n",
       " 1.0,\n",
       " 2.0,\n",
       " 0.0,\n",
       " 5.0,\n",
       " 2.0,\n",
       " 7.0,\n",
       " 2.0,\n",
       " 3.0,\n",
       " 0.0,\n",
       " 4.0,\n",
       " 3.0,\n",
       " 7.0,\n",
       " 5.0,\n",
       " 9.0,\n",
       " 1.0,\n",
       " 1.0,\n",
       " 9.0,\n",
       " 9.0,\n",
       " 8.0,\n",
       " 8.0,\n",
       " 1.0,\n",
       " 9.0,\n",
       " 6.0,\n",
       " 4.0,\n",
       " 7.0,\n",
       " 7.0,\n",
       " 1.0,\n",
       " 9.0,\n",
       " 5.0,\n",
       " 5.0,\n",
       " 4.0,\n",
       " 5.0,\n",
       " 7.0,\n",
       " 2.0,\n",
       " 2.0,\n",
       " 1.0,\n",
       " 7.0,\n",
       " 2.0,\n",
       " 8.0,\n",
       " 7.0,\n",
       " 3.0,\n",
       " 6.0,\n",
       " 1.0,\n",
       " 7.0,\n",
       " 6.0,\n",
       " 4.0,\n",
       " 9.0,\n",
       " 9.0,\n",
       " 3.0,\n",
       " 5.0,\n",
       " 5.0,\n",
       " 2.0,\n",
       " 1.0,\n",
       " 1.0,\n",
       " 8.0,\n",
       " 3.0,\n",
       " 6.0,\n",
       " 9.0,\n",
       " 9.0,\n",
       " 6.0,\n",
       " 9.0,\n",
       " 5.0,\n",
       " 3.0,\n",
       " 1.0,\n",
       " 4.0,\n",
       " 0.0,\n",
       " 3.0,\n",
       " 2.0,\n",
       " 4.0,\n",
       " 3.0,\n",
       " 6.0,\n",
       " 5.0,\n",
       " 6.0,\n",
       " 3.0,\n",
       " 8.0,\n",
       " 1.0,\n",
       " 1.0,\n",
       " 2.0,\n",
       " 8.0,\n",
       " 6.0,\n",
       " 7.0,\n",
       " 3.0,\n",
       " 0.0,\n",
       " 1.0,\n",
       " 8.0,\n",
       " 9.0,\n",
       " 5.0,\n",
       " 7.0,\n",
       " 1.0,\n",
       " 2.0,\n",
       " 6.0,\n",
       " 9.0,\n",
       " 4.0,\n",
       " 6.0,\n",
       " 8.0,\n",
       " 4.0,\n",
       " 3.0,\n",
       " 9.0,\n",
       " 2.0,\n",
       " 3.0,\n",
       " 3.0,\n",
       " 2.0,\n",
       " 7.0,\n",
       " 5.0,\n",
       " 0.0,\n",
       " 1.0,\n",
       " 2.0,\n",
       " 5.0,\n",
       " 2.0,\n",
       " 5.0,\n",
       " 8.0,\n",
       " 2.0,\n",
       " 9.0,\n",
       " 5.0,\n",
       " 1.0,\n",
       " 6.0,\n",
       " 3.0,\n",
       " 3.0,\n",
       " 7.0,\n",
       " 3.0,\n",
       " 4.0,\n",
       " 0.0,\n",
       " 5.0,\n",
       " 1.0,\n",
       " 9.0,\n",
       " 7.0,\n",
       " 3.0,\n",
       " 5.0,\n",
       " 7.0,\n",
       " 8.0,\n",
       " 1.0,\n",
       " 7.0,\n",
       " 1.0,\n",
       " 1.0,\n",
       " 8.0,\n",
       " 0.0,\n",
       " 3.0,\n",
       " 9.0,\n",
       " 8.0,\n",
       " 0.0,\n",
       " 8.0,\n",
       " 8.0,\n",
       " 0.0,\n",
       " 9.0,\n",
       " 1.0,\n",
       " 3.0,\n",
       " 3.0,\n",
       " 4.0,\n",
       " 4.0,\n",
       " 2.0,\n",
       " 2.0,\n",
       " 4.0,\n",
       " 7.0,\n",
       " 3.0,\n",
       " 8.0,\n",
       " 2.0,\n",
       " 5.0,\n",
       " 6.0,\n",
       " 3.0,\n",
       " 5.0,\n",
       " 4.0,\n",
       " 5.0,\n",
       " 4.0,\n",
       " 6.0,\n",
       " 2.0,\n",
       " 7.0,\n",
       " 2.0,\n",
       " 1.0,\n",
       " 6.0,\n",
       " 0.0,\n",
       " 8.0,\n",
       " 0.0,\n",
       " 6.0,\n",
       " 8.0,\n",
       " 6.0,\n",
       " 6.0,\n",
       " 9.0,\n",
       " 3.0,\n",
       " 7.0,\n",
       " 0.0,\n",
       " 8.0,\n",
       " 3.0,\n",
       " 8.0,\n",
       " 7.0,\n",
       " 3.0,\n",
       " 4.0,\n",
       " 3.0,\n",
       " 1.0,\n",
       " 2.0,\n",
       " 5.0,\n",
       " 1.0,\n",
       " 0.0,\n",
       " 5.0,\n",
       " 6.0,\n",
       " 5.0,\n",
       " 6.0,\n",
       " 8.0,\n",
       " 2.0,\n",
       " 0.0,\n",
       " 8.0,\n",
       " 7.0,\n",
       " 7.0,\n",
       " 9.0,\n",
       " 4.0,\n",
       " 3.0,\n",
       " 2.0,\n",
       " 9.0,\n",
       " 2.0,\n",
       " 7.0,\n",
       " 5.0,\n",
       " 6.0,\n",
       " 3.0,\n",
       " 5.0,\n",
       " 3.0,\n",
       " 8.0,\n",
       " 2.0,\n",
       " 7.0,\n",
       " 2.0,\n",
       " 1.0,\n",
       " 2.0,\n",
       " 3.0,\n",
       " 3.0,\n",
       " 0.0,\n",
       " 6.0,\n",
       " 4.0,\n",
       " 9.0,\n",
       " 2.0,\n",
       " 1.0,\n",
       " 7.0,\n",
       " 7.0,\n",
       " 2.0,\n",
       " 7.0,\n",
       " 8.0,\n",
       " 7.0,\n",
       " 5.0,\n",
       " 1.0,\n",
       " 8.0,\n",
       " 5.0,\n",
       " 7.0,\n",
       " 8.0,\n",
       " 2.0,\n",
       " 2.0,\n",
       " 9.0,\n",
       " 6.0,\n",
       " 3.0,\n",
       " 3.0,\n",
       " 5.0,\n",
       " 5.0,\n",
       " 1.0,\n",
       " 8.0,\n",
       " 9.0,\n",
       " 8.0,\n",
       " 7.0,\n",
       " 4.0,\n",
       " 0.0,\n",
       " 9.0,\n",
       " 3.0,\n",
       " 6.0,\n",
       " 0.0,\n",
       " 8.0,\n",
       " 1.0,\n",
       " 0.0,\n",
       " 2.0,\n",
       " 3.0,\n",
       " 2.0,\n",
       " 2.0,\n",
       " 8.0,\n",
       " 0.0,\n",
       " 2.0,\n",
       " 9.0,\n",
       " 6.0,\n",
       " 5.0,\n",
       " 8.0,\n",
       " 6.0,\n",
       " 4.0,\n",
       " 6.0,\n",
       " 7.0,\n",
       " 8.0,\n",
       " 6.0,\n",
       " 4.0,\n",
       " 3.0,\n",
       " 2.0,\n",
       " 1.0,\n",
       " 6.0,\n",
       " 3.0,\n",
       " 7.0,\n",
       " 8.0,\n",
       " 6.0,\n",
       " 8.0,\n",
       " 3.0,\n",
       " 0.0,\n",
       " 9.0,\n",
       " 5.0,\n",
       " 1.0,\n",
       " 9.0,\n",
       " 3.0,\n",
       " 8.0,\n",
       " 8.0,\n",
       " 7.0,\n",
       " 4.0,\n",
       " 9.0,\n",
       " 5.0,\n",
       " 2.0,\n",
       " 4.0,\n",
       " 7.0,\n",
       " 9.0,\n",
       " 8.0,\n",
       " 3.0,\n",
       " 5.0,\n",
       " 1.0,\n",
       " 0.0,\n",
       " 9.0,\n",
       " 4.0,\n",
       " 1.0,\n",
       " 8.0,\n",
       " 8.0,\n",
       " 4.0,\n",
       " 0.0,\n",
       " 4.0,\n",
       " 2.0,\n",
       " 9.0,\n",
       " 0.0,\n",
       " 2.0,\n",
       " 0.0,\n",
       " 9.0,\n",
       " 0.0,\n",
       " 0.0,\n",
       " 8.0,\n",
       " 4.0,\n",
       " 3.0,\n",
       " 4.0,\n",
       " 4.0,\n",
       " 2.0,\n",
       " 7.0,\n",
       " 7.0,\n",
       " 0.0,\n",
       " 4.0,\n",
       " 1.0,\n",
       " 3.0,\n",
       " 7.0,\n",
       " 6.0,\n",
       " 7.0,\n",
       " 3.0,\n",
       " 6.0,\n",
       " 1.0,\n",
       " 3.0,\n",
       " 1.0,\n",
       " 2.0,\n",
       " 9.0,\n",
       " 3.0,\n",
       " 5.0,\n",
       " 0.0,\n",
       " 6.0,\n",
       " 2.0,\n",
       " 9.0,\n",
       " 3.0,\n",
       " 5.0,\n",
       " 0.0,\n",
       " 1.0,\n",
       " 2.0,\n",
       " 6.0,\n",
       " 6.0,\n",
       " 4.0,\n",
       " 5.0,\n",
       " 1.0,\n",
       " 4.0,\n",
       " ...]"
      ]
     },
     "execution_count": 10,
     "metadata": {},
     "output_type": "execute_result"
    }
   ],
   "source": [
    "#X_train_augmented = [image for image in X_train] #transfer the array in to the list\n",
    "#y_train_augmented = [label for label in y_train]\n",
    "y_train_augmented=list(y_train)\n",
    "X_train_augmented=list(X_train)\n",
    "y_train_augmented"
   ]
  },
  {
   "cell_type": "code",
   "execution_count": null,
   "metadata": {
    "collapsed": true
   },
   "outputs": [],
   "source": [
    "\n",
    "for dx,dy in ((1,0),(-1,0),(0,1),(0,-1)):\n",
    "    for image, label in zip(X_train_augmented,y_train_augmented):\n",
    "        X_train_augmented.append(shift_image(image,dx,dy))\n",
    "        y_train_augmented.append(label)\n",
    "        \n",
    "X_train_augmented = np.array(X_train_augmented)\n",
    "y_train_augmented = np.array(y_train_augmented)"
   ]
  },
  {
   "cell_type": "code",
   "execution_count": null,
   "metadata": {},
   "outputs": [],
   "source": [
    "shullfe_id=np.random.permutation(len(X_train_augmented))\n",
    "X_train_augmented=X_train_augmented[shullfe_id]\n",
    "y_train_augmented=y_train_augmented[shullfe_id]\n"
   ]
  },
  {
   "cell_type": "code",
   "execution_count": null,
   "metadata": {
    "collapsed": true
   },
   "outputs": [],
   "source": [
    "knn_clf=KNeighborsClassifier(algorithm='auto', leaf_size=30, metric='minkowski',\n",
    "           metric_params=None, n_jobs=1, n_neighbors=4, p=2,\n",
    "           weights='distance') #saved grid_search best estimator"
   ]
  },
  {
   "cell_type": "code",
   "execution_count": null,
   "metadata": {
    "collapsed": true
   },
   "outputs": [],
   "source": [
    "knn_clf.fit(X_train_augmented,y_train_augmented)"
   ]
  },
  {
   "cell_type": "code",
   "execution_count": null,
   "metadata": {
    "collapsed": true
   },
   "outputs": [],
   "source": [
    "y_pred=knn_clf.predict(X_test)\n",
    "from sklearn.metrics import accuracy_score\n",
    "y_augmented_pred=knn_clf.predict(X_test)\n",
    "accuracy_score(y_test, y_augmented_pred)"
   ]
  },
  {
   "cell_type": "code",
   "execution_count": null,
   "metadata": {
    "collapsed": true
   },
   "outputs": [],
   "source": []
  }
 ],
 "metadata": {
  "kernelspec": {
   "display_name": "Python 3",
   "language": "python",
   "name": "python3"
  },
  "language_info": {
   "codemirror_mode": {
    "name": "ipython",
    "version": 3
   },
   "file_extension": ".py",
   "mimetype": "text/x-python",
   "name": "python",
   "nbconvert_exporter": "python",
   "pygments_lexer": "ipython3",
   "version": "3.6.1"
  }
 },
 "nbformat": 4,
 "nbformat_minor": 2
}
