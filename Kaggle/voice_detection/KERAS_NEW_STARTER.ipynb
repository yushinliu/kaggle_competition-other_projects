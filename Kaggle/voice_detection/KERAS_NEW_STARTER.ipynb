{
 "cells": [
  {
   "cell_type": "code",
   "execution_count": 1,
   "metadata": {
    "collapsed": true
   },
   "outputs": [],
   "source": [
    "import os\n",
    "import re\n",
    "from glob import glob\n",
    "import pandas as pd\n",
    "import numpy as np\n",
    "import matplotlib.pyplot as plt\n",
    "%matplotlib inline"
   ]
  },
  {
   "cell_type": "code",
   "execution_count": 2,
   "metadata": {
    "collapsed": true
   },
   "outputs": [],
   "source": [
    "audio_path = \"C:\\\\Users\\\\hasee\\\\workspace\\\\Kaggle\\\\voice_detection\\\\train\\\\audio\\\\\"\n",
    "pict_Path =\"C:\\\\Users\\\\hasee\\\\workspace\\\\Kaggle\\\\voice_detection\\\\train\\\\\"\n",
    "test_pict_Path = \"C:\\\\Users\\\\hasee\\\\workspace\\\\Kaggle\\\\voice_detection\\\\picts\\\\test\\\\\"\n",
    "test_audio_path = \"C:\\\\Users\\\\hasee\\\\workspace\\\\Kaggle\\\\voice_detection\\\\picts\\\\audio\\\\\"\n",
    "samples = []"
   ]
  },
  {
   "cell_type": "code",
   "execution_count": 3,
   "metadata": {
    "collapsed": true
   },
   "outputs": [],
   "source": [
    "subFolderList = []\n",
    "for x in os.listdir(audio_path):\n",
    "    if os.path.isdir(audio_path + '/' + x):\n",
    "        subFolderList.append(x)"
   ]
  },
  {
   "cell_type": "code",
   "execution_count": 4,
   "metadata": {},
   "outputs": [
    {
     "data": {
      "text/plain": [
       "['bed',\n",
       " 'bird',\n",
       " 'cat',\n",
       " 'dog',\n",
       " 'down',\n",
       " 'eight',\n",
       " 'five',\n",
       " 'four',\n",
       " 'go',\n",
       " 'happy',\n",
       " 'house',\n",
       " 'left',\n",
       " 'marvin',\n",
       " 'nine',\n",
       " 'no',\n",
       " 'off',\n",
       " 'on',\n",
       " 'one',\n",
       " 'right',\n",
       " 'seven',\n",
       " 'sheila',\n",
       " 'six',\n",
       " 'stop',\n",
       " 'three',\n",
       " 'tree',\n",
       " 'two',\n",
       " 'up',\n",
       " 'wow',\n",
       " 'yes',\n",
       " 'zero',\n",
       " '_background_noise_']"
      ]
     },
     "execution_count": 4,
     "metadata": {},
     "output_type": "execute_result"
    }
   ],
   "source": [
    "subFolderList"
   ]
  },
  {
   "cell_type": "code",
   "execution_count": 5,
   "metadata": {
    "collapsed": true
   },
   "outputs": [],
   "source": [
    "if not os.path.exists(pict_Path):\n",
    "    os.makedirs(pict_Path)\n",
    "\n",
    "if not os.path.exists(test_pict_Path):\n",
    "    os.makedirs(test_pict_Path)\n",
    "\n",
    "\n",
    "subFolderList = []\n",
    "for x in os.listdir(audio_path):\n",
    "    if os.path.isdir(audio_path + '/' + x):\n",
    "        subFolderList.append(x)\n",
    "        if not os.path.exists(pict_Path + '/' + x):\n",
    "            os.makedirs(pict_Path +'/'+ x)"
   ]
  },
  {
   "cell_type": "code",
   "execution_count": 6,
   "metadata": {},
   "outputs": [
    {
     "name": "stdout",
     "output_type": "stream",
     "text": [
      "count: 1713 : bed\n",
      "count: 1731 : bird\n",
      "count: 1733 : cat\n",
      "count: 1746 : dog\n",
      "count: 2359 : down\n",
      "count: 2352 : eight\n",
      "count: 2357 : five\n",
      "count: 2372 : four\n",
      "count: 2372 : go\n",
      "count: 1742 : happy\n",
      "count: 1750 : house\n",
      "count: 2353 : left\n",
      "count: 1746 : marvin\n",
      "count: 2364 : nine\n",
      "count: 2375 : no\n",
      "count: 2357 : off\n",
      "count: 2367 : on\n",
      "count: 2370 : one\n",
      "count: 2367 : right\n",
      "count: 2377 : seven\n",
      "count: 1734 : sheila\n",
      "count: 2369 : six\n",
      "count: 2380 : stop\n",
      "count: 2356 : three\n",
      "count: 1733 : tree\n",
      "count: 2373 : two\n",
      "count: 2375 : up\n",
      "count: 1745 : wow\n",
      "count: 2377 : yes\n",
      "count: 2376 : zero\n",
      "count: 6 : _background_noise_\n",
      "64727\n"
     ]
    }
   ],
   "source": [
    "sample_audio = []\n",
    "total = 0\n",
    "for x in subFolderList:\n",
    "    \n",
    "    # get all the wave files\n",
    "    all_files = [y for y in os.listdir(audio_path + x) if '.wav' in y]\n",
    "    total += len(all_files)\n",
    "    # collect the first file from each dir\n",
    "    sample_audio.append(audio_path  + x + '/'+ all_files[0])\n",
    "    \n",
    "    # show file counts\n",
    "    print('count: %d : %s' % (len(all_files), x ))\n",
    "print(total)"
   ]
  },
  {
   "cell_type": "code",
   "execution_count": 7,
   "metadata": {},
   "outputs": [
    {
     "data": {
      "text/plain": [
       "['C:\\\\Users\\\\hasee\\\\workspace\\\\Kaggle\\\\voice_detection\\\\train\\\\audio\\\\bed/00176480_nohash_0.wav',\n",
       " 'C:\\\\Users\\\\hasee\\\\workspace\\\\Kaggle\\\\voice_detection\\\\train\\\\audio\\\\bird/00b01445_nohash_0.wav',\n",
       " 'C:\\\\Users\\\\hasee\\\\workspace\\\\Kaggle\\\\voice_detection\\\\train\\\\audio\\\\cat/004ae714_nohash_0.wav',\n",
       " 'C:\\\\Users\\\\hasee\\\\workspace\\\\Kaggle\\\\voice_detection\\\\train\\\\audio\\\\dog/00b01445_nohash_0.wav',\n",
       " 'C:\\\\Users\\\\hasee\\\\workspace\\\\Kaggle\\\\voice_detection\\\\train\\\\audio\\\\down/00176480_nohash_0.wav',\n",
       " 'C:\\\\Users\\\\hasee\\\\workspace\\\\Kaggle\\\\voice_detection\\\\train\\\\audio\\\\eight/004ae714_nohash_0.wav',\n",
       " 'C:\\\\Users\\\\hasee\\\\workspace\\\\Kaggle\\\\voice_detection\\\\train\\\\audio\\\\five/004ae714_nohash_0.wav',\n",
       " 'C:\\\\Users\\\\hasee\\\\workspace\\\\Kaggle\\\\voice_detection\\\\train\\\\audio\\\\four/004ae714_nohash_0.wav',\n",
       " 'C:\\\\Users\\\\hasee\\\\workspace\\\\Kaggle\\\\voice_detection\\\\train\\\\audio\\\\go/004ae714_nohash_0.wav',\n",
       " 'C:\\\\Users\\\\hasee\\\\workspace\\\\Kaggle\\\\voice_detection\\\\train\\\\audio\\\\happy/012c8314_nohash_0.wav',\n",
       " 'C:\\\\Users\\\\hasee\\\\workspace\\\\Kaggle\\\\voice_detection\\\\train\\\\audio\\\\house/00b01445_nohash_0.wav',\n",
       " 'C:\\\\Users\\\\hasee\\\\workspace\\\\Kaggle\\\\voice_detection\\\\train\\\\audio\\\\left/00176480_nohash_0.wav',\n",
       " 'C:\\\\Users\\\\hasee\\\\workspace\\\\Kaggle\\\\voice_detection\\\\train\\\\audio\\\\marvin/00176480_nohash_0.wav',\n",
       " 'C:\\\\Users\\\\hasee\\\\workspace\\\\Kaggle\\\\voice_detection\\\\train\\\\audio\\\\nine/00b01445_nohash_0.wav',\n",
       " 'C:\\\\Users\\\\hasee\\\\workspace\\\\Kaggle\\\\voice_detection\\\\train\\\\audio\\\\no/012c8314_nohash_0.wav',\n",
       " 'C:\\\\Users\\\\hasee\\\\workspace\\\\Kaggle\\\\voice_detection\\\\train\\\\audio\\\\off/00176480_nohash_0.wav',\n",
       " 'C:\\\\Users\\\\hasee\\\\workspace\\\\Kaggle\\\\voice_detection\\\\train\\\\audio\\\\on/004ae714_nohash_0.wav',\n",
       " 'C:\\\\Users\\\\hasee\\\\workspace\\\\Kaggle\\\\voice_detection\\\\train\\\\audio\\\\one/00176480_nohash_0.wav',\n",
       " 'C:\\\\Users\\\\hasee\\\\workspace\\\\Kaggle\\\\voice_detection\\\\train\\\\audio\\\\right/00b01445_nohash_0.wav',\n",
       " 'C:\\\\Users\\\\hasee\\\\workspace\\\\Kaggle\\\\voice_detection\\\\train\\\\audio\\\\seven/004ae714_nohash_0.wav',\n",
       " 'C:\\\\Users\\\\hasee\\\\workspace\\\\Kaggle\\\\voice_detection\\\\train\\\\audio\\\\sheila/004ae714_nohash_0.wav',\n",
       " 'C:\\\\Users\\\\hasee\\\\workspace\\\\Kaggle\\\\voice_detection\\\\train\\\\audio\\\\six/004ae714_nohash_0.wav',\n",
       " 'C:\\\\Users\\\\hasee\\\\workspace\\\\Kaggle\\\\voice_detection\\\\train\\\\audio\\\\stop/004ae714_nohash_0.wav',\n",
       " 'C:\\\\Users\\\\hasee\\\\workspace\\\\Kaggle\\\\voice_detection\\\\train\\\\audio\\\\three/00b01445_nohash_0.wav',\n",
       " 'C:\\\\Users\\\\hasee\\\\workspace\\\\Kaggle\\\\voice_detection\\\\train\\\\audio\\\\tree/00b01445_nohash_0.wav',\n",
       " 'C:\\\\Users\\\\hasee\\\\workspace\\\\Kaggle\\\\voice_detection\\\\train\\\\audio\\\\two/00b01445_nohash_0.wav',\n",
       " 'C:\\\\Users\\\\hasee\\\\workspace\\\\Kaggle\\\\voice_detection\\\\train\\\\audio\\\\up/004ae714_nohash_0.wav',\n",
       " 'C:\\\\Users\\\\hasee\\\\workspace\\\\Kaggle\\\\voice_detection\\\\train\\\\audio\\\\wow/004ae714_nohash_0.wav',\n",
       " 'C:\\\\Users\\\\hasee\\\\workspace\\\\Kaggle\\\\voice_detection\\\\train\\\\audio\\\\yes/004ae714_nohash_0.wav',\n",
       " 'C:\\\\Users\\\\hasee\\\\workspace\\\\Kaggle\\\\voice_detection\\\\train\\\\audio\\\\zero/004ae714_nohash_0.wav',\n",
       " 'C:\\\\Users\\\\hasee\\\\workspace\\\\Kaggle\\\\voice_detection\\\\train\\\\audio\\\\_background_noise_/doing_the_dishes.wav']"
      ]
     },
     "execution_count": 7,
     "metadata": {},
     "output_type": "execute_result"
    }
   ],
   "source": [
    "sample_audio"
   ]
  },
  {
   "cell_type": "code",
   "execution_count": null,
   "metadata": {
    "collapsed": true
   },
   "outputs": [],
   "source": []
  }
 ],
 "metadata": {
  "kernelspec": {
   "display_name": "Python 3",
   "language": "python",
   "name": "python3"
  },
  "language_info": {
   "codemirror_mode": {
    "name": "ipython",
    "version": 3
   },
   "file_extension": ".py",
   "mimetype": "text/x-python",
   "name": "python",
   "nbconvert_exporter": "python",
   "pygments_lexer": "ipython3",
   "version": "3.6.1"
  }
 },
 "nbformat": 4,
 "nbformat_minor": 2
}
