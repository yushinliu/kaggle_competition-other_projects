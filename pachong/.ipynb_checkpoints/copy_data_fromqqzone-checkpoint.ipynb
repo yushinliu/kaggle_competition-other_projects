{
 "cells": [
  {
   "cell_type": "code",
   "execution_count": 3,
   "metadata": {},
   "outputs": [],
   "source": [
    "from selenium import webdriver\n",
    "from selenium.webdriver.common.by import By\n",
    "\n",
    "def Start_Login():\n",
    "    driver = webdriver.Chrome(executable_path='C:\\\\Users\\\\hasee\\\\workspace\\\\workspace\\\\pachong\\\\chromedriver_win32\\\\chromedriver.exe') #这个是chormedriver的地址\n",
    "    driver.get('https://qzone.qq.com/')\n",
    "\n",
    "    driver.switch_to.frame('login_frame')\n",
    "    driver.find_element_by_id('switcher_plogin').click()\n",
    "\n",
    "    driver.find_element_by_id('u').clear()\n",
    "    driver.find_element_by_id('u').send_keys('477795557')  #这里填写你的QQ号\n",
    "    driver.find_element_by_id('p').clear()\n",
    "    driver.find_element_by_id('p').send_keys('a54321')  #这里填写你的QQ密码\n",
    "\n",
    "    driver.find_element_by_id('login_button').click()\n",
    "    # 这里需要注意 因为我过去开过黄钻现在过期了每次登录会弹窗所以需要\n",
    "    WebDriverWait(driver, 20).until(EC.presence_of_element_located((By.ID, 'qz_dialog_instance_qzDialog1')))\n",
    "    driver.find_element_by_id('dialog_button_1').click()"
   ]
  },
  {
   "cell_type": "code",
   "execution_count": 4,
   "metadata": {
    "collapsed": true
   },
   "outputs": [],
   "source": [
    "# 这个函数用来解决腾讯g_tk加密算法的函数\n",
    "def get_g_tk(cookie):\n",
    "    hashes = 5381\n",
    "    for letter in cookie['p_skey']:\n",
    "        hashes += (hashes << 5) + ord(letter)  # ord()是用来返回字符的ascii码\n",
    "    return hashes & 0x7fffffff"
   ]
  },
  {
   "cell_type": "code",
   "execution_count": null,
   "metadata": {
    "collapsed": true
   },
   "outputs": [],
   "source": []
  }
 ],
 "metadata": {
  "kernelspec": {
   "display_name": "Python 3",
   "language": "python",
   "name": "python3"
  },
  "language_info": {
   "codemirror_mode": {
    "name": "ipython",
    "version": 3
   },
   "file_extension": ".py",
   "mimetype": "text/x-python",
   "name": "python",
   "nbconvert_exporter": "python",
   "pygments_lexer": "ipython3",
   "version": "3.6.1"
  }
 },
 "nbformat": 4,
 "nbformat_minor": 2
}
