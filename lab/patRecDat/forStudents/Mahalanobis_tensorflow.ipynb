{
 "cells": [
  {
   "cell_type": "code",
   "execution_count": 1,
   "metadata": {},
   "outputs": [
    {
     "data": {
      "text/html": [
       "<script>requirejs.config({paths: { 'plotly': ['https://cdn.plot.ly/plotly-latest.min']},});if(!window.Plotly) {{require(['plotly'],function(plotly) {window.Plotly=plotly;});}}</script>"
      ],
      "text/vnd.plotly.v1+html": [
       "<script>requirejs.config({paths: { 'plotly': ['https://cdn.plot.ly/plotly-latest.min']},});if(!window.Plotly) {{require(['plotly'],function(plotly) {window.Plotly=plotly;});}}</script>"
      ]
     },
     "metadata": {},
     "output_type": "display_data"
    },
    {
     "name": "stderr",
     "output_type": "stream",
     "text": [
      "D:\\ProgramData\\Anaconda3\\lib\\site-packages\\sklearn\\cross_validation.py:44: DeprecationWarning:\n",
      "\n",
      "This module was deprecated in version 0.18 in favor of the model_selection module into which all the refactored classes and functions are moved. Also note that the interface of the new CV iterators are different from that of this module. This module will be removed in 0.20.\n",
      "\n"
     ]
    }
   ],
   "source": [
    "#all packages which will be used\n",
    "import numpy as np\n",
    "import pandas as pd\n",
    "from scipy.io import loadmat\n",
    "import time\n",
    "import random\n",
    "\n",
    "#plot\n",
    "%matplotlib inline\n",
    "import matplotlib\n",
    "import matplotlib.pyplot as plt\n",
    "import plotly.offline as py\n",
    "py.init_notebook_mode(connected=True)\n",
    "import plotly.graph_objs as go\n",
    "import plotly.tools as tls\n",
    "from matplotlib.axes import Axes\n",
    "\n",
    "#sklearn\n",
    "from sklearn.base import BaseEstimator, TransformerMixin\n",
    "from sklearn.preprocessing import MinMaxScaler\n",
    "from sklearn.pipeline import Pipeline\n",
    "from sklearn.preprocessing import StandardScaler\n",
    "from sklearn.model_selection import KFold\n",
    "#from sklearn.cluster import KMeans\n",
    "from sklearn.cluster import MiniBatchKMeans\n",
    "from sklearn.neighbors import KNeighborsClassifier\n",
    "from sklearn.neighbors import NearestNeighbors\n",
    "from sklearn.metrics import precision_score, recall_score,f1_score\n",
    "from sklearn.metrics import accuracy_score\n",
    "from sklearn.metrics import roc_curve\n",
    "from sklearn.ensemble import RandomForestClassifier\n",
    "from sklearn.model_selection import cross_val_predict\n",
    "from sklearn.svm import LinearSVC\n",
    "from sklearn.svm import SVC\n",
    "from sklearn.kernel_approximation import RBFSampler #change the linear kernel into RBF\n",
    "#to plot more than 2 dimensions \n",
    "from mlxtend.plotting import plot_decision_regions\n",
    "\n",
    "#scipy\n",
    "from scipy.stats import chisquare\n",
    "from scipy.stats import chi2\n",
    "from scipy.spatial import distance\n",
    "\n",
    "#good performance classifier\n",
    "from xgboost import XGBClassifier\n",
    "\n",
    "#Tensorflow\n",
    "import tensorflow as tf\n",
    "\n",
    "\n",
    "#math\n",
    "from math import log"
   ]
  },
  {
   "cell_type": "code",
   "execution_count": 2,
   "metadata": {
    "collapsed": true
   },
   "outputs": [],
   "source": [
    "train_set=pd.read_csv(\"C:\\\\Users\\\\hasee\\\\workspace\\\\lab\\\\patRecDat\\\\forStudents\\\\medData\\\\train_set.csv\")\n",
    "X_val=pd.read_csv(\"C:\\\\Users\\\\hasee\\\\workspace\\\\lab\\\\patRecDat\\\\forStudents\\\\medData\\\\val_feature.csv\")\n",
    "y_val=pd.read_csv(\"C:\\\\Users\\\\hasee\\\\workspace\\\\lab\\\\patRecDat\\\\forStudents\\\\medData\\\\val_label.csv\")\n",
    "X_train=train_set.drop([\"label\"],axis=1)\n",
    "y_train=train_set[\"label\"]"
   ]
  },
  {
   "cell_type": "code",
   "execution_count": 3,
   "metadata": {
    "collapsed": true
   },
   "outputs": [],
   "source": [
    "def tf_maha(data):\n",
    "    '''\n",
    "    Compute mahalanobis distance of every point to the mean\n",
    "    '''\n",
    "    num_obs, num_vars = data.shape\n",
    "    with tf.Session() as sess:\n",
    "        dd = tf.placeholder(tf.float64,[num_obs,num_vars])\n",
    "        means = tf.reduce_mean(dd, reduction_indices=[0])\n",
    "        diffs = tf.subtract(dd,means)\n",
    "        cov = (1/float(num_obs-1)) * tf.matmul(tf.transpose(diffs),diffs)\n",
    "        vivi = tf.matrix_inverse(cov)\n",
    "        dt = tf.transpose(diffs)\n",
    "        ds = diffs\n",
    "        M1 = tf.matmul(ds,vivi)\n",
    "        M2 = tf.matmul(M1,dt)\n",
    "        z = tf.stack([M2[i,i] for i in range(num_obs)]) #tf,pack has been renamed as stack\n",
    "        output = tf.sqrt(z)\n",
    "        ans = sess.run([output],feed_dict = {dd:data})\n",
    "    return ans"
   ]
  },
  {
   "cell_type": "code",
   "execution_count": 4,
   "metadata": {
    "collapsed": true
   },
   "outputs": [],
   "source": [
    "def maha_tensor(X,y,cov):\n",
    "    #if use tf.variable need initial value\n",
    "    uu=tf.placeholder(tf.float64,[X.shape[0],X.shape[1]])\n",
    "    vv=tf.placeholder(tf.float64,[y.shape[0],y.shape[1]])\n",
    "    V=tf.placeholder(tf.float64,[X.shape[1],y.shape[1]])\n",
    "    \n",
    "    \n",
    "    diff=tf.subtract(uu,vv)\n",
    "    VI=tf.matrix_inverse(V)\n",
    "    maha=tf.sqrt(tf.matmul(tf.matmul(diff,VI),diff))\n",
    "    \n",
    "    with tf.Session() as sess:\n",
    "        maha_dist=sess.run(maha,feed_dict={uu:X,vv:y,V:cov})\n",
    "    return maha_dist\n",
    "    "
   ]
  },
  {
   "cell_type": "code",
   "execution_count": null,
   "metadata": {
    "collapsed": true
   },
   "outputs": [],
   "source": [
    "tf_maha(X_train)"
   ]
  },
  {
   "cell_type": "code",
   "execution_count": null,
   "metadata": {
    "collapsed": true
   },
   "outputs": [],
   "source": [
    "#implement the maha_tensor function\n",
    "tf.reset_default_graph()\n",
    "mean=np.array(X_train.mean()).reshape(1,-1)\n",
    "cov=np.matrix(X_train.cov())\n",
    "#maha_tensor(X_train,mean,cov)\n",
    "dis=distance.cdist(X_train,mean,metric='mahalanobis',V=cov).ravel()"
   ]
  },
  {
   "cell_type": "code",
   "execution_count": null,
   "metadata": {
    "collapsed": true
   },
   "outputs": [],
   "source": [
    "start=time.time()\n",
    "dis=np.sqrt(np.dot(np.dot(np.subtract(X_train.loc[:10000],mean),cov.I),np.subtract(X_train.loc[:10000],mean).T))\n",
    "print(time.time()-start)"
   ]
  }
 ],
 "metadata": {
  "kernelspec": {
   "display_name": "Python 3",
   "language": "python",
   "name": "python3"
  },
  "language_info": {
   "codemirror_mode": {
    "name": "ipython",
    "version": 3
   },
   "file_extension": ".py",
   "mimetype": "text/x-python",
   "name": "python",
   "nbconvert_exporter": "python",
   "pygments_lexer": "ipython3",
   "version": "3.6.1"
  }
 },
 "nbformat": 4,
 "nbformat_minor": 2
}
