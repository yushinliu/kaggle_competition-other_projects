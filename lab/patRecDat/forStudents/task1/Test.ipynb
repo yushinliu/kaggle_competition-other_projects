{
 "cells": [
  {
   "cell_type": "code",
   "execution_count": 6,
   "metadata": {},
   "outputs": [],
   "source": [
    "import numpy as np\n",
    "import pandas as pd\n",
    "\n",
    "tempset=[]\n",
    "X=np.random.rand(5,5)\n",
    "Y=np.random.rand(5,5)\n",
    "tempset.append(X)\n",
    "tempset.append(Y)"
   ]
  },
  {
   "cell_type": "code",
   "execution_count": 11,
   "metadata": {},
   "outputs": [
    {
     "data": {
      "text/plain": [
       "matrix([[-1.27197656,  0.79299528,  0.37678834,  2.22879359, -3.48570851],\n",
       "        [-1.1076264 ,  0.02759486, -0.00793689, -0.98506468,  3.68506339],\n",
       "        [ 1.20636818, -1.22143885,  1.03069673, -0.08262475, -0.43781156],\n",
       "        [ 0.35345853,  0.86211328, -0.39653307, -2.27683145,  3.12615616],\n",
       "        [ 1.41789092,  0.49635992, -1.48628692,  1.31897986, -2.01910485]])"
      ]
     },
     "execution_count": 11,
     "metadata": {},
     "output_type": "execute_result"
    }
   ],
   "source": [
    "np.mat(tempset[0]).I"
   ]
  },
  {
   "cell_type": "code",
   "execution_count": null,
   "metadata": {
    "collapsed": true
   },
   "outputs": [],
   "source": []
  }
 ],
 "metadata": {
  "kernelspec": {
   "display_name": "Python 3",
   "language": "python",
   "name": "python3"
  },
  "language_info": {
   "codemirror_mode": {
    "name": "ipython",
    "version": 3
   },
   "file_extension": ".py",
   "mimetype": "text/x-python",
   "name": "python",
   "nbconvert_exporter": "python",
   "pygments_lexer": "ipython3",
   "version": "3.6.1"
  }
 },
 "nbformat": 4,
 "nbformat_minor": 2
}
