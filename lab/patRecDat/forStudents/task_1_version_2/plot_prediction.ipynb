{
 "cells": [
  {
   "cell_type": "code",
   "execution_count": 2,
   "metadata": {
    "collapsed": true
   },
   "outputs": [],
   "source": [
    "import numpy as np\n",
    "import pandas as pd\n",
    "from scipy.io import loadmat\n",
    "import matplotlib.pyplot as plt\n",
    "import matplotlib\n",
    "import re\n",
    "import sys\n",
    "sys.path.append(r\"C:\\Users\\yangshanqi\\Documents\\lab\\labgithubcopy\\task_1_version_2\")\n",
    "from NN_function import nn_distance_calculate\n",
    "from NN_function import nn_predict"
   ]
  },
  {
   "cell_type": "code",
   "execution_count": 3,
   "metadata": {
    "collapsed": true
   },
   "outputs": [],
   "source": [
    "def nn_plot_prediction(stuck,slices,features,X_train,y_train,X_val,y_val,alpha):\n",
    "    dataset = loadmat (\"D:\\\\lab_signal_processing\\\\forStudents\\\\medData\\\\dataset.mat\",mat_dtype=True)\n",
    "    data=dataset[\"dataset\"]\n",
    "    dis_1, dis_2 =nn_distance_calculate(X_val,X_train,y_train)\n",
    "    y_pred=nn_predict(dis_1,dis_2,alpha,X_val)\n",
    "    y_pred = {\"label_pred\":y_pred}\n",
    "    y_pred = pd.DataFrame(data=y_pred)\n",
    "    plt.subplot(121)\n",
    "    plt.title(\"original label\")\n",
    "    target_data=data[stuck][0][0][0][0][:,:,slices,features]\n",
    "    target_image1=target_data.reshape(target_data.shape[0],target_data.shape[1])\n",
    "    target_label=data[stuck][0][0][0][3][:,:,slices]\n",
    "    target_image2=target_label.reshape(target_label.shape[0],target_label.shape[1])\n",
    "    cmap1 = matplotlib.colors.LinearSegmentedColormap.from_list('my_cmap',['black','blue','red'],256)\n",
    "    plt.imshow(target_image1,cmap = matplotlib.cm.binary,alpha=0.6)\n",
    "    plt.imshow(target_image2,cmap = cmap1,interpolation=\"bilinear\",alpha=0.4)\n",
    "    plt.axis(\"off\")\n",
    "    target_image=target_data.reshape(target_data.shape[0],target_data.shape[1])\n",
    "    plt.show()\n",
    "    \n",
    "    selected_matrix=y_val[y_val['source_of_pixel']==stuck]\n",
    "    selected_matrix=pd.DataFrame.reset_index(selected_matrix).drop('index',axis=1)\n",
    "    temp_label = y_pred[y_val['source_of_pixel']==stuck]\n",
    "    temp_label =pd.DataFrame.reset_index(temp_label ).drop('index',axis=1)\n",
    "    cancer_x = []\n",
    "    cancer_y = []\n",
    "    noncancer_x = []\n",
    "    noncancer_y = []\n",
    "    for i in range(len(selected_matrix)):\n",
    "            temparr = re.findall(\"\\d+\",selected_matrix.iloc[i]['index_of_pixel'])\n",
    "            if (int(temparr[2]) == slices):\n",
    "                if (temp_label.iloc[i]['label_pred']==2):\n",
    "                    cancer_x.append(int(temparr[0]))\n",
    "                    cancer_y.append(int(temparr[1]))\n",
    "                else:\n",
    "                    noncancer_x.append(int(temparr[0]))\n",
    "                    noncancer_y.append(int(temparr[1]))\n",
    "    plt.subplot(122)\n",
    "    plt.title(\"prediction with NN\")\n",
    "    plt.imshow(target_image1,cmap = matplotlib.cm.binary,alpha=0.8)\n",
    "    plt.scatter(noncancer_y,noncancer_x,label=\"predict_non_cancer\",s = 3)\n",
    "    plt.scatter(cancer_y,cancer_x,label=\"predict_cancer\",s = 2)\n",
    "    plt.legend()\n",
    "    plt.axis(\"off\")\n",
    "    plt.show()"
   ]
  }
 ],
 "metadata": {
  "kernelspec": {
   "display_name": "Python 3",
   "language": "python",
   "name": "python3"
  },
  "language_info": {
   "codemirror_mode": {
    "name": "ipython",
    "version": 3
   },
   "file_extension": ".py",
   "mimetype": "text/x-python",
   "name": "python",
   "nbconvert_exporter": "python",
   "pygments_lexer": "ipython3",
   "version": "3.6.2"
  }
 },
 "nbformat": 4,
 "nbformat_minor": 2
}
