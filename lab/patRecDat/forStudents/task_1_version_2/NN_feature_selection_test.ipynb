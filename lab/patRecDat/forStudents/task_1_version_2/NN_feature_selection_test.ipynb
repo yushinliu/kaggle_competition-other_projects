{
 "cells": [
  {
   "cell_type": "code",
   "execution_count": 1,
   "metadata": {
    "collapsed": true
   },
   "outputs": [],
   "source": [
    "import numpy as np\n",
    "import pandas as pd\n",
    "from scipy.io import loadmat\n",
    "import matplotlib.pyplot as plt\n",
    "import sys\n",
    "sys.path.append(r\"C:\\Users\\yangshanqi\\Documents\\lab\\labgithubcopy\\task_1_version_2\")"
   ]
  },
  {
   "cell_type": "code",
   "execution_count": 2,
   "metadata": {
    "collapsed": true
   },
   "outputs": [],
   "source": [
    "from NN_function import nn_feature_selection_wrap"
   ]
  },
  {
   "cell_type": "code",
   "execution_count": 5,
   "metadata": {
    "collapsed": true
   },
   "outputs": [],
   "source": [
    "from plot_prediction import nn_plot_prediction"
   ]
  },
  {
   "cell_type": "code",
   "execution_count": 3,
   "metadata": {
    "collapsed": true
   },
   "outputs": [],
   "source": [
    "X_scaled_CNN=pd.read_csv(\"C:\\\\Users\\\\yangshanqi\\\\Documents\\\\lab\\\\labgithubcopy\\\\task_1_version_2\\\\result\\\\X_scaled_CNN.csv\")\n",
    "y_scaled_CNN=pd.read_csv(\"C:\\\\Users\\\\yangshanqi\\\\Documents\\\\lab\\\\labgithubcopy\\\\task_1_version_2\\\\result\\\\y_scaled_CNN.csv\")\n",
    "X_val=pd.read_csv(\"C:\\\\Users\\\\yangshanqi\\\\Documents\\\\lab\\\\labgithubcopy\\\\task_1_version_2\\\\result\\\\scaled_validation_feature.csv\")\n",
    "y_val=pd.read_csv(\"C:\\\\Users\\\\yangshanqi\\\\Documents\\\\lab\\\\labgithubcopy\\\\task_1_version_2\\\\result\\\\validation_label.csv\")\n",
    "X_val=X_val.drop(\"Unnamed: 0\",1)\n",
    "y_val=y_val.drop(\"Unnamed: 0\",1)"
   ]
  },
  {
   "cell_type": "markdown",
   "metadata": {},
   "source": [
    "feature 2, and feature 3 can get similar or even better results than 5 features"
   ]
  },
  {
   "cell_type": "code",
   "execution_count": 4,
   "metadata": {
    "collapsed": true
   },
   "outputs": [
    {
     "name": "stdout",
     "output_type": "stream",
     "text": [
      "current feature choosen:\n",
      "('feature0', 'feature1')\n",
      "                         \n",
      "alpha       0.508000\n",
      "f1_score    0.497931\n",
      "TPR         0.647959\n",
      "FPR         0.137566\n",
      "BER         0.244803\n",
      "Name: 19, dtype: float64\n",
      "              \n",
      "current feature choosen:\n",
      "('feature0', 'feature2')\n",
      "                         \n",
      "alpha       0.518000\n",
      "f1_score    0.496335\n",
      "TPR         0.621769\n",
      "FPR         0.127338\n",
      "BER         0.252785\n",
      "Name: 24, dtype: float64\n",
      "              \n",
      "current feature choosen:\n",
      "('feature0', 'feature3')\n",
      "                         \n",
      "alpha       0.522000\n",
      "f1_score    0.532844\n",
      "TPR         0.650227\n",
      "FPR         0.113892\n",
      "BER         0.231833\n",
      "Name: 26, dtype: float64\n",
      "              \n",
      "current feature choosen:\n",
      "('feature0', 'feature4')\n",
      "                         \n",
      "alpha       0.470000\n",
      "f1_score    0.467604\n",
      "TPR         0.541270\n",
      "FPR         0.111507\n",
      "BER         0.285119\n",
      "Name: 0, dtype: float64\n",
      "              \n",
      "current feature choosen:\n",
      "('feature1', 'feature2')\n",
      "                         \n",
      "alpha       0.504000\n",
      "f1_score    0.461225\n",
      "TPR         0.667574\n",
      "FPR         0.176843\n",
      "BER         0.254634\n",
      "Name: 17, dtype: float64\n",
      "              \n",
      "current feature choosen:\n",
      "('feature1', 'feature3')\n",
      "                         \n",
      "alpha       0.546000\n",
      "f1_score    0.526277\n",
      "TPR         0.734014\n",
      "FPR         0.152090\n",
      "BER         0.209038\n",
      "Name: 38, dtype: float64\n",
      "              \n",
      "current feature choosen:\n",
      "('feature1', 'feature4')\n",
      "                         \n",
      "alpha       0.488000\n",
      "f1_score    0.427632\n",
      "TPR         0.611678\n",
      "FPR         0.179996\n",
      "BER         0.284159\n",
      "Name: 9, dtype: float64\n",
      "              \n",
      "current feature choosen:\n",
      "('feature2', 'feature3')\n",
      "                         \n",
      "alpha       0.526000\n",
      "f1_score    0.542628\n",
      "TPR         0.704308\n",
      "FPR         0.128482\n",
      "BER         0.212087\n",
      "Name: 28, dtype: float64\n",
      "              \n",
      "current feature choosen:\n",
      "('feature2', 'feature4')\n",
      "                         \n",
      "alpha       0.492000\n",
      "f1_score    0.293154\n",
      "TPR         0.249546\n",
      "FPR         0.065270\n",
      "BER         0.407862\n",
      "Name: 11, dtype: float64\n",
      "              \n",
      "current feature choosen:\n",
      "('feature3', 'feature4')\n",
      "                         \n",
      "alpha       0.512000\n",
      "f1_score    0.522186\n",
      "TPR         0.663152\n",
      "FPR         0.126342\n",
      "BER         0.231595\n",
      "Name: 21, dtype: float64\n",
      "              \n"
     ]
    }
   ],
   "source": [
    "nn_feature_selection_wrap (X_scaled_CNN,y_scaled_CNN,X_val,y_val)"
   ]
  },
  {
   "cell_type": "code",
   "execution_count": 6,
   "metadata": {},
   "outputs": [
    {
     "data": {
      "image/png": "[encoded data removed]",
      "text/plain": [
       "<matplotlib.figure.Figure at 0x231f59bddd8>"
      ]
     },
     "metadata": {},
     "output_type": "display_data"
    },
    {
     "data": {
      "image/png": "[encoded data removed]",
      "text/plain": [
       "<matplotlib.figure.Figure at 0x231808c4f60>"
      ]
     },
     "metadata": {},
     "output_type": "display_data"
    }
   ],
   "source": [
    "stuck,slices,features=11,22,3\n",
    "nn_plot_prediction(stuck,slices,features,X_scaled_CNN.loc[:,['feature2','feature3']],y_scaled_CNN,X_val.loc[:,['feature2','feature3']],y_val,0.52600)"
   ]
  }
 ],
 "metadata": {
  "kernelspec": {
   "display_name": "Python 3",
   "language": "python",
   "name": "python3"
  },
  "language_info": {
   "codemirror_mode": {
    "name": "ipython",
    "version": 3
   },
   "file_extension": ".py",
   "mimetype": "text/x-python",
   "name": "python",
   "nbconvert_exporter": "python",
   "pygments_lexer": "ipython3",
   "version": "3.6.2"
  }
 },
 "nbformat": 4,
 "nbformat_minor": 2
}
