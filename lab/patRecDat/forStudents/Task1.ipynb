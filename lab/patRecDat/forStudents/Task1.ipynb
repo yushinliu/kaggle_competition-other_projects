{
 "cells": [
  {
   "cell_type": "markdown",
   "metadata": {},
   "source": [
    "# 1.Frame the problem"
   ]
  },
  {
   "cell_type": "markdown",
   "metadata": {},
   "source": [
    "this is a classification problem and we got original data which contains 5 features and 3 labels, each pixel can regarded as a sample"
   ]
  },
  {
   "cell_type": "markdown",
   "metadata": {},
   "source": [
    "# 2.Input the data"
   ]
  },
  {
   "cell_type": "code",
   "execution_count": 41,
   "metadata": {
    "collapsed": true
   },
   "outputs": [],
   "source": [
    "#all packages which will be used\n",
    "import numpy as np\n",
    "import pandas as pd\n",
    "from scipy.io import loadmat\n",
    "import time\n",
    "import random\n",
    "\n",
    "#plot\n",
    "%matplotlib inline\n",
    "import matplotlib\n",
    "import matplotlib.pyplot as plt\n",
    "\n",
    "#sklearn\n",
    "from sklearn.base import BaseEstimator, TransformerMixin\n",
    "from sklearn.preprocessing import MinMaxScaler\n",
    "from sklearn.pipeline import Pipeline\n",
    "from sklearn.preprocessing import StandardScaler\n",
    "from sklearn.model_selection import KFold\n",
    "\n",
    "\n",
    "#scipy\n",
    "from scipy.stats import chisquare\n",
    "from scipy.stats import chi2\n",
    "from scipy.spatial import distance\n",
    "\n",
    "\n",
    "#math\n",
    "from math import log"
   ]
  },
  {
   "cell_type": "code",
   "execution_count": 140,
   "metadata": {
    "collapsed": true
   },
   "outputs": [],
   "source": [
    "#data=pd.read_csv(\"C:\\\\Users\\\\hasee\\\\workspace\\\\lab\\\\patRecDat\\\\forStudents\\\\medData\\\\dataset.mat\")\n",
    "dataset=loadmat(\"C:\\\\Users\\\\hasee\\\\workspace\\\\lab\\\\patRecDat\\\\forStudents\\\\medData\\\\dataset.mat\",mat_dtype=True)"
   ]
  },
  {
   "cell_type": "code",
   "execution_count": 141,
   "metadata": {},
   "outputs": [
    {
     "data": {
      "text/plain": [
       "numpy.ndarray"
      ]
     },
     "execution_count": 141,
     "metadata": {},
     "output_type": "execute_result"
    }
   ],
   "source": [
    "data=dataset[\"dataset\"]\n",
    "type(data)"
   ]
  },
  {
   "cell_type": "markdown",
   "metadata": {},
   "source": [
    "then we try to plot one image to see what it looks like"
   ]
  },
  {
   "cell_type": "code",
   "execution_count": 142,
   "metadata": {},
   "outputs": [
    {
     "data": {
      "text/plain": [
       "(320, 320, 43)"
      ]
     },
     "execution_count": 142,
     "metadata": {},
     "output_type": "execute_result"
    }
   ],
   "source": [
    "data[12][0][0][0][3].shape\n",
    "#for element in data[12][0][0][0][1][:,:,20].flat:\n",
    "    #assert element == 0"
   ]
  },
  {
   "cell_type": "code",
   "execution_count": 143,
   "metadata": {},
   "outputs": [
    {
     "name": "stdout",
     "output_type": "stream",
     "text": [
      "(34, 41)\n",
      "(80, 82)\n",
      "(82, 74)\n",
      "(89, 102)\n",
      "(66, 78)\n",
      "(69, 83)\n",
      "(50, 57)\n",
      "(55, 69)\n",
      "(64, 65)\n",
      "(99, 83)\n",
      "(107, 99)\n",
      "(320, 320)\n",
      "(320, 320)\n",
      "(320, 320)\n"
     ]
    },
    {
     "data": {
      "text/plain": [
       "14"
      ]
     },
     "execution_count": 143,
     "metadata": {},
     "output_type": "execute_result"
    }
   ],
   "source": [
    "for i in range(len(data)):\n",
    "    print(data[i][0][0][0][0][:,:,3,1].shape)\n",
    "    \n",
    "len(data)"
   ]
  },
  {
   "cell_type": "code",
   "execution_count": 144,
   "metadata": {
    "collapsed": true
   },
   "outputs": [],
   "source": [
    "data2=data[1][0][0][0][0][:,:,8,0] #[:,:,slices,features]"
   ]
  },
  {
   "cell_type": "code",
   "execution_count": 145,
   "metadata": {
    "collapsed": true
   },
   "outputs": [],
   "source": [
    "def plot_image(data,stuck,slices,features):\n",
    "    target_data=data[stuck][0][0][0][0][:,:,slices,features]\n",
    "    target_image=target_data.reshape(target_data.shape[0],target_data.shape[1])\n",
    "    plt.imshow(target_image,cmap = matplotlib.cm.binary)\n",
    "    plt.axis(\"off\") #close the axis number\n",
    "    plt.show()\n"
   ]
  },
  {
   "cell_type": "code",
   "execution_count": 146,
   "metadata": {},
   "outputs": [
    {
     "data": {
      "image/png": "[encoded data removed]",
      "text/plain": [
       "<matplotlib.figure.Figure at 0x267e2c51470>"
      ]
     },
     "metadata": {},
     "output_type": "display_data"
    },
    {
     "data": {
      "image/png": "[encoded data removed]",
      "text/plain": [
       "<matplotlib.figure.Figure at 0x267d0c3cb38>"
      ]
     },
     "metadata": {},
     "output_type": "display_data"
    },
    {
     "data": {
      "image/png": "[encoded data removed]",
      "text/plain": [
       "<matplotlib.figure.Figure at 0x26780cb8240>"
      ]
     },
     "metadata": {},
     "output_type": "display_data"
    },
    {
     "data": {
      "image/png": "[encoded data removed]",
      "text/plain": [
       "<matplotlib.figure.Figure at 0x26780cf2080>"
      ]
     },
     "metadata": {},
     "output_type": "display_data"
    },
    {
     "data": {
      "image/png": "[encoded data removed]",
      "text/plain": [
       "<matplotlib.figure.Figure at 0x26780d645c0>"
      ]
     },
     "metadata": {},
     "output_type": "display_data"
    }
   ],
   "source": [
    "stuck,slices,features=11,10,0\n",
    "plt.figure(figsize=(8,4))\n",
    "\n",
    "plt.subplot(151)\n",
    "plt.title(\"T2 weighted\")\n",
    "plot_image(data,stuck,slices,features)\n",
    "\n",
    "plt.subplot(152)\n",
    "plt.title(\"ADC\")\n",
    "plot_image(data,stuck,slices,features+1)\n",
    "\n",
    "plt.subplot(153)\n",
    "plt.title(\"Ktrans\")\n",
    "plot_image(data,stuck,slices,features+2)\n",
    "\n",
    "plt.subplot(154)\n",
    "plt.title(\"Kep\")\n",
    "plot_image(data,stuck,slices,features+3)\n",
    "\n",
    "plt.subplot(155)\n",
    "plt.title(\"PET\")\n",
    "plot_image(data,stuck,slices,features+4)"
   ]
  },
  {
   "cell_type": "markdown",
   "metadata": {},
   "source": [
    "then we try to find out the labels distribution"
   ]
  },
  {
   "cell_type": "code",
   "execution_count": 147,
   "metadata": {},
   "outputs": [
    {
     "data": {
      "text/plain": [
       "(89, 102, 85)"
      ]
     },
     "execution_count": 147,
     "metadata": {},
     "output_type": "execute_result"
    }
   ],
   "source": [
    "labelA=data[3][0][0][0][1]\n",
    "labelA.shape"
   ]
  },
  {
   "cell_type": "code",
   "execution_count": 148,
   "metadata": {
    "collapsed": true
   },
   "outputs": [],
   "source": [
    "cmap1 = matplotlib.colors.LinearSegmentedColormap.from_list('my_cmap',['black','red','blue'],256)\n",
    "def plot_all(data,stuck,index,slices,features):\n",
    "    target_data=data[stuck][0][0][0][0][:,:,slices,features]\n",
    "    target_image1=target_data.reshape(target_data.shape[0],target_data.shape[1])\n",
    "    target_label=data[stuck][0][0][0][index][:,:,slices]\n",
    "    target_image2=target_label.reshape(target_label.shape[0],target_label.shape[1])\n",
    "    plt.imshow(target_image1,cmap = matplotlib.cm.binary,alpha=0.8)\n",
    "    plt.imshow(target_image2,cmap = cmap1,interpolation=\"bilinear\",alpha=0.2)\n",
    "    plt.axis(\"off\") #close the axis number\n",
    "    plt.show()\n",
    "\n"
   ]
  },
  {
   "cell_type": "code",
   "execution_count": 149,
   "metadata": {},
   "outputs": [
    {
     "data": {
      "image/png": "[encoded data removed]",
      "text/plain": [
       "<matplotlib.figure.Figure at 0x26780d4a550>"
      ]
     },
     "metadata": {},
     "output_type": "display_data"
    }
   ],
   "source": [
    "stuck,slices,index,features=13,20,1,4\n",
    "#plot_image(data,stuck,slices,0)\n",
    "#plot_label(data,stuck,2,slices)\n",
    "plot_all(data,stuck,index,slices,features)"
   ]
  },
  {
   "cell_type": "markdown",
   "metadata": {
    "collapsed": true
   },
   "source": [
    "# 3. Exploring the features"
   ]
  },
  {
   "cell_type": "markdown",
   "metadata": {},
   "source": [
    "## 3.1 Extract prostate region"
   ]
  },
  {
   "cell_type": "markdown",
   "metadata": {},
   "source": [
    "we can find that 1-11 strucks are expected by experts and 12-14 are histological analysis because it is more reliable than the experts,and later 1-11 strucks will be out training set and 12-14 will be out validation set"
   ]
  },
  {
   "cell_type": "code",
   "execution_count": 150,
   "metadata": {
    "collapsed": true
   },
   "outputs": [],
   "source": [
    "\n",
    "experts_num,histo_num=11,3\n",
    "label_final=[]\n",
    "for i in range(experts_num):\n",
    "    labelA=data[i][0][0][0][1]\n",
    "    labelB=data[i][0][0][0][2]\n",
    "    for index,(item_A,item_B) in enumerate(zip(labelA.flat,labelB.flat)):\n",
    "                if item_A == item_B:\n",
    "                    pass\n",
    "                else:\n",
    "                    labelA.flat[index]=0\n",
    "    label_final.append(labelA)\n"
   ]
  },
  {
   "cell_type": "markdown",
   "metadata": {},
   "source": [
    "then append the histological struck"
   ]
  },
  {
   "cell_type": "code",
   "execution_count": 151,
   "metadata": {},
   "outputs": [
    {
     "data": {
      "text/plain": [
       "(14,)"
      ]
     },
     "execution_count": 151,
     "metadata": {},
     "output_type": "execute_result"
    }
   ],
   "source": [
    "for j in range(histo_num):\n",
    "    labelC=data[j+11][0][0][0][3]\n",
    "    label_final.append(labelC)\n",
    "\n",
    "label=np.array(label_final)\n",
    "label.shape"
   ]
  },
  {
   "cell_type": "markdown",
   "metadata": {},
   "source": [
    "then our task divided into two parts:\n",
    "- isolate the feature vector of prostate tissure from the whole set\n",
    "- try to transfer first feature TR wighted MR images"
   ]
  },
  {
   "cell_type": "markdown",
   "metadata": {},
   "source": [
    "then let us create train data set and validation set respectively"
   ]
  },
  {
   "cell_type": "code",
   "execution_count": 152,
   "metadata": {},
   "outputs": [
    {
     "data": {
      "text/plain": [
       "(3,)"
      ]
     },
     "execution_count": 152,
     "metadata": {},
     "output_type": "execute_result"
    }
   ],
   "source": [
    "train_data=data[:experts_num]\n",
    "train_label=label[:experts_num]\n",
    "val_data=data[:-experts_num]\n",
    "val_label=label[:-experts_num]\n",
    "val_label.shape"
   ]
  },
  {
   "cell_type": "code",
   "execution_count": 154,
   "metadata": {},
   "outputs": [
    {
     "name": "stdout",
     "output_type": "stream",
     "text": [
      "355455\n"
     ]
    }
   ],
   "source": [
    "train_isolated_feature=[]\n",
    "train_isolated_label=[]\n",
    "val_isolated_feature=[]\n",
    "val_isolated_label=[]\n",
    "def isolate_feature(data,label,isolated_feature,isolated_label):\n",
    "    for i in range(len(data)):\n",
    "        image=data[i][0][0][0][0]\n",
    "        target_image=image.reshape(image.shape[0]*image.shape[1]*image.shape[2],image.shape[3])\n",
    "        target_label=label[i].reshape(-1,1)\n",
    "        for index,item in enumerate(target_label):\n",
    "            if item == 0 :\n",
    "                pass\n",
    "            else:\n",
    "                isolated_label.append(item)\n",
    "                isolated_feature.append(target_image[index])\n",
    "    return isolated_feature,isolated_label\n",
    "        \n",
    "\n",
    "isolate_feature(train_data,train_label,train_isolated_feature,train_isolated_label)\n",
    "isolate_feature(val_data,val_label,val_isolated_feature,val_isolated_label)\n",
    "\n",
    "print(len(train_isolated_feature))"
   ]
  },
  {
   "cell_type": "code",
   "execution_count": 155,
   "metadata": {},
   "outputs": [
    {
     "data": {
      "text/plain": [
       "355455"
      ]
     },
     "execution_count": 155,
     "metadata": {},
     "output_type": "execute_result"
    }
   ],
   "source": [
    "train_isolated_feature=pd.DataFrame(np.array(train_isolated_feature))\n",
    "train_isolated_label=pd.DataFrame(np.array(train_isolated_label))\n",
    "val_isolated_feature=pd.DataFrame(np.array(val_isolated_feature))\n",
    "val_isolated_label=pd.DataFrame(np.array(val_isolated_label))\n",
    "train_isolated_feature.to_csv(\"C:\\\\Users\\\\hasee\\\\workspace\\\\lab\\\\patRecDat\\\\forStudents\\\\medData\\\\train_feature.csv\",index=False)\n",
    "train_isolated_label.to_csv(\"C:\\\\Users\\\\hasee\\\\workspace\\\\lab\\\\patRecDat\\\\forStudents\\\\medData\\\\train_label.csv\",index=False)\n",
    "val_isolated_feature.to_csv(\"C:\\\\Users\\\\hasee\\\\workspace\\\\lab\\\\patRecDat\\\\forStudents\\\\medData\\\\val_feature.csv\",index=False)\n",
    "val_isolated_label.to_csv(\"C:\\\\Users\\\\hasee\\\\workspace\\\\lab\\\\patRecDat\\\\forStudents\\\\medData\\\\val_label.csv\",index=False)\n",
    "len(train_isolated_feature)"
   ]
  },
  {
   "cell_type": "markdown",
   "metadata": {},
   "source": [
    "it means that prostate area has 355455 voxels"
   ]
  },
  {
   "cell_type": "code",
   "execution_count": 156,
   "metadata": {},
   "outputs": [
    {
     "data": {
      "text/plain": [
       "4696937"
      ]
     },
     "execution_count": 156,
     "metadata": {},
     "output_type": "execute_result"
    }
   ],
   "source": [
    "sum_d=0\n",
    "for i in range(11):\n",
    "    temp_data=data[i][0][0][0][0]\n",
    "    temp_d=temp_data.reshape(temp_data.shape[0]*temp_data.shape[1]*temp_data.shape[2],temp_data.shape[3])\n",
    "    sum_d +=temp_d.shape[0]\n",
    "    \n",
    "sum_d"
   ]
  },
  {
   "cell_type": "markdown",
   "metadata": {},
   "source": [
    "total voxel is 4696937"
   ]
  },
  {
   "cell_type": "markdown",
   "metadata": {},
   "source": [
    "## 3.2 Normalization & Outliers detection"
   ]
  },
  {
   "cell_type": "markdown",
   "metadata": {},
   "source": [
    "so we see we isolated the 355455 prostate features from the 4696937 the whole train set"
   ]
  },
  {
   "cell_type": "markdown",
   "metadata": {
    "collapsed": true
   },
   "source": [
    "then try to construct the whole pipeline of the features enginerring\n",
    "- Transform the first feature TR wighted\n",
    "- normalize all the features\n",
    "- Outlier detection and removal"
   ]
  },
  {
   "cell_type": "code",
   "execution_count": 4,
   "metadata": {},
   "outputs": [],
   "source": [
    "#read data\n",
    "X_train=pd.read_csv(\"C:\\\\Users\\\\hasee\\\\workspace\\\\lab\\\\patRecDat\\\\forStudents\\\\medData\\\\train_feature.csv\")\n",
    "y_train=pd.read_csv(\"C:\\\\Users\\\\hasee\\\\workspace\\\\lab\\\\patRecDat\\\\forStudents\\\\medData\\\\train_label.csv\")\n",
    "X_val=pd.read_csv(\"C:\\\\Users\\\\hasee\\\\workspace\\\\lab\\\\patRecDat\\\\forStudents\\\\medData\\\\val_feature.csv\")\n",
    "y_val=pd.read_csv(\"C:\\\\Users\\\\hasee\\\\workspace\\\\lab\\\\patRecDat\\\\forStudents\\\\medData\\\\val_label.csv\")"
   ]
  },
  {
   "cell_type": "code",
   "execution_count": 5,
   "metadata": {},
   "outputs": [],
   "source": [
    "scaler1=MinMaxScaler(feature_range=(0, 1), copy=True)\n",
    "class Feature_scaling(BaseEstimator,TransformerMixin):\n",
    "    def fit(self,X,y=None):\n",
    "        scaler1.fit(X['0'])\n",
    "        return self\n",
    "    def transform(self,X,y=None):\n",
    "        X['0']=scaler1.transform(X['0'])\n",
    "        return X"
   ]
  },
  {
   "cell_type": "code",
   "execution_count": 6,
   "metadata": {
    "collapsed": true
   },
   "outputs": [],
   "source": [
    "scaler2=StandardScaler()\n",
    "class Normalization(BaseEstimator,TransformerMixin):\n",
    "    def fit(self,X,y=None):\n",
    "        scaler2.fit(X[[\"1\",\"2\",\"3\",\"4\"]])\n",
    "        return self\n",
    "    def transform(self,X,y=None):\n",
    "        X[[\"1\",\"2\",\"3\",\"4\"]]=scaler2.transform(X[[\"1\",\"2\",\"3\",\"4\"]])\n",
    "        return pd.DataFrame(X)"
   ]
  },
  {
   "cell_type": "code",
   "execution_count": 7,
   "metadata": {
    "collapsed": true
   },
   "outputs": [],
   "source": [
    "feature_eng=Pipeline([(\"feature_scale\",Feature_scaling()),\n",
    "                     (\"normalization\",Normalization())])"
   ]
  },
  {
   "cell_type": "code",
   "execution_count": 8,
   "metadata": {},
   "outputs": [
    {
     "data": {
      "text/html": [
       "<div>\n",
       "<style>\n",
       "    .dataframe thead tr:only-child th {\n",
       "        text-align: right;\n",
       "    }\n",
       "\n",
       "    .dataframe thead th {\n",
       "        text-align: left;\n",
       "    }\n",
       "\n",
       "    .dataframe tbody tr th {\n",
       "        vertical-align: top;\n",
       "    }\n",
       "</style>\n",
       "<table border=\"1\" class=\"dataframe\">\n",
       "  <thead>\n",
       "    <tr style=\"text-align: right;\">\n",
       "      <th></th>\n",
       "      <th>0</th>\n",
       "      <th>1</th>\n",
       "      <th>2</th>\n",
       "      <th>3</th>\n",
       "      <th>4</th>\n",
       "    </tr>\n",
       "  </thead>\n",
       "  <tbody>\n",
       "    <tr>\n",
       "      <th>0</th>\n",
       "      <td>3.745401</td>\n",
       "      <td>9.507143</td>\n",
       "      <td>7.319939</td>\n",
       "      <td>5.986585</td>\n",
       "      <td>1.560186</td>\n",
       "    </tr>\n",
       "    <tr>\n",
       "      <th>1</th>\n",
       "      <td>1.559945</td>\n",
       "      <td>0.580836</td>\n",
       "      <td>8.661761</td>\n",
       "      <td>6.011150</td>\n",
       "      <td>7.080726</td>\n",
       "    </tr>\n",
       "    <tr>\n",
       "      <th>2</th>\n",
       "      <td>0.205845</td>\n",
       "      <td>9.699099</td>\n",
       "      <td>8.324426</td>\n",
       "      <td>2.123391</td>\n",
       "      <td>1.818250</td>\n",
       "    </tr>\n",
       "    <tr>\n",
       "      <th>3</th>\n",
       "      <td>1.834045</td>\n",
       "      <td>3.042422</td>\n",
       "      <td>5.247564</td>\n",
       "      <td>4.319450</td>\n",
       "      <td>2.912291</td>\n",
       "    </tr>\n",
       "    <tr>\n",
       "      <th>4</th>\n",
       "      <td>6.118529</td>\n",
       "      <td>1.394939</td>\n",
       "      <td>2.921446</td>\n",
       "      <td>3.663618</td>\n",
       "      <td>4.560700</td>\n",
       "    </tr>\n",
       "    <tr>\n",
       "      <th>5</th>\n",
       "      <td>7.851760</td>\n",
       "      <td>1.996738</td>\n",
       "      <td>5.142344</td>\n",
       "      <td>5.924146</td>\n",
       "      <td>0.464504</td>\n",
       "    </tr>\n",
       "    <tr>\n",
       "      <th>6</th>\n",
       "      <td>6.075449</td>\n",
       "      <td>1.705241</td>\n",
       "      <td>0.650516</td>\n",
       "      <td>9.488855</td>\n",
       "      <td>9.656320</td>\n",
       "    </tr>\n",
       "    <tr>\n",
       "      <th>7</th>\n",
       "      <td>8.083973</td>\n",
       "      <td>3.046138</td>\n",
       "      <td>0.976721</td>\n",
       "      <td>6.842330</td>\n",
       "      <td>4.401525</td>\n",
       "    </tr>\n",
       "    <tr>\n",
       "      <th>8</th>\n",
       "      <td>1.220382</td>\n",
       "      <td>4.951769</td>\n",
       "      <td>0.343885</td>\n",
       "      <td>9.093204</td>\n",
       "      <td>2.587800</td>\n",
       "    </tr>\n",
       "    <tr>\n",
       "      <th>9</th>\n",
       "      <td>6.625223</td>\n",
       "      <td>3.117111</td>\n",
       "      <td>5.200680</td>\n",
       "      <td>5.467103</td>\n",
       "      <td>1.848545</td>\n",
       "    </tr>\n",
       "  </tbody>\n",
       "</table>\n",
       "</div>"
      ],
      "text/plain": [
       "          0         1         2         3         4\n",
       "0  3.745401  9.507143  7.319939  5.986585  1.560186\n",
       "1  1.559945  0.580836  8.661761  6.011150  7.080726\n",
       "2  0.205845  9.699099  8.324426  2.123391  1.818250\n",
       "3  1.834045  3.042422  5.247564  4.319450  2.912291\n",
       "4  6.118529  1.394939  2.921446  3.663618  4.560700\n",
       "5  7.851760  1.996738  5.142344  5.924146  0.464504\n",
       "6  6.075449  1.705241  0.650516  9.488855  9.656320\n",
       "7  8.083973  3.046138  0.976721  6.842330  4.401525\n",
       "8  1.220382  4.951769  0.343885  9.093204  2.587800\n",
       "9  6.625223  3.117111  5.200680  5.467103  1.848545"
      ]
     },
     "execution_count": 8,
     "metadata": {},
     "output_type": "execute_result"
    }
   ],
   "source": [
    "#build a dataset to test our pipeline\n",
    "np.random.seed(42)\n",
    "test=pd.DataFrame(10*np.random.rand(10,5),columns=['0','1','2','3','4'])\n",
    "test"
   ]
  },
  {
   "cell_type": "code",
   "execution_count": 9,
   "metadata": {},
   "outputs": [
    {
     "name": "stderr",
     "output_type": "stream",
     "text": [
      "D:\\ProgramData\\Anaconda3\\lib\\site-packages\\sklearn\\preprocessing\\data.py:321: DeprecationWarning: Passing 1d arrays as data is deprecated in 0.17 and will raise ValueError in 0.19. Reshape your data either using X.reshape(-1, 1) if your data has a single feature or X.reshape(1, -1) if it contains a single sample.\n",
      "  warnings.warn(DEPRECATION_MSG_1D, DeprecationWarning)\n",
      "D:\\ProgramData\\Anaconda3\\lib\\site-packages\\sklearn\\preprocessing\\data.py:356: DeprecationWarning: Passing 1d arrays as data is deprecated in 0.17 and will raise ValueError in 0.19. Reshape your data either using X.reshape(-1, 1) if your data has a single feature or X.reshape(1, -1) if it contains a single sample.\n",
      "  warnings.warn(DEPRECATION_MSG_1D, DeprecationWarning)\n"
     ]
    },
    {
     "data": {
      "text/html": [
       "<div>\n",
       "<style>\n",
       "    .dataframe thead tr:only-child th {\n",
       "        text-align: right;\n",
       "    }\n",
       "\n",
       "    .dataframe thead th {\n",
       "        text-align: left;\n",
       "    }\n",
       "\n",
       "    .dataframe tbody tr th {\n",
       "        vertical-align: top;\n",
       "    }\n",
       "</style>\n",
       "<table border=\"1\" class=\"dataframe\">\n",
       "  <thead>\n",
       "    <tr style=\"text-align: right;\">\n",
       "      <th></th>\n",
       "      <th>0</th>\n",
       "      <th>1</th>\n",
       "      <th>2</th>\n",
       "      <th>3</th>\n",
       "      <th>4</th>\n",
       "    </tr>\n",
       "  </thead>\n",
       "  <tbody>\n",
       "    <tr>\n",
       "      <th>0</th>\n",
       "      <td>0.449289</td>\n",
       "      <td>1.827646</td>\n",
       "      <td>0.955786</td>\n",
       "      <td>0.044140</td>\n",
       "      <td>-0.793325</td>\n",
       "    </tr>\n",
       "    <tr>\n",
       "      <th>1</th>\n",
       "      <td>0.171881</td>\n",
       "      <td>-1.084032</td>\n",
       "      <td>1.407208</td>\n",
       "      <td>0.055602</td>\n",
       "      <td>1.263881</td>\n",
       "    </tr>\n",
       "    <tr>\n",
       "      <th>2</th>\n",
       "      <td>0.000000</td>\n",
       "      <td>1.890260</td>\n",
       "      <td>1.293720</td>\n",
       "      <td>-1.758378</td>\n",
       "      <td>-0.697159</td>\n",
       "    </tr>\n",
       "    <tr>\n",
       "      <th>3</th>\n",
       "      <td>0.206673</td>\n",
       "      <td>-0.281085</td>\n",
       "      <td>0.258588</td>\n",
       "      <td>-0.733724</td>\n",
       "      <td>-0.289469</td>\n",
       "    </tr>\n",
       "    <tr>\n",
       "      <th>4</th>\n",
       "      <td>0.750519</td>\n",
       "      <td>-0.818479</td>\n",
       "      <td>-0.523975</td>\n",
       "      <td>-1.039727</td>\n",
       "      <td>0.324804</td>\n",
       "    </tr>\n",
       "    <tr>\n",
       "      <th>5</th>\n",
       "      <td>0.970524</td>\n",
       "      <td>-0.622178</td>\n",
       "      <td>0.223189</td>\n",
       "      <td>0.015007</td>\n",
       "      <td>-1.201627</td>\n",
       "    </tr>\n",
       "    <tr>\n",
       "      <th>6</th>\n",
       "      <td>0.745050</td>\n",
       "      <td>-0.717261</td>\n",
       "      <td>-1.287972</td>\n",
       "      <td>1.678256</td>\n",
       "      <td>2.223666</td>\n",
       "    </tr>\n",
       "    <tr>\n",
       "      <th>7</th>\n",
       "      <td>1.000000</td>\n",
       "      <td>-0.279874</td>\n",
       "      <td>-1.178229</td>\n",
       "      <td>0.443420</td>\n",
       "      <td>0.265488</td>\n",
       "    </tr>\n",
       "    <tr>\n",
       "      <th>8</th>\n",
       "      <td>0.128779</td>\n",
       "      <td>0.341726</td>\n",
       "      <td>-1.391130</td>\n",
       "      <td>1.493650</td>\n",
       "      <td>-0.410389</td>\n",
       "    </tr>\n",
       "    <tr>\n",
       "      <th>9</th>\n",
       "      <td>0.814835</td>\n",
       "      <td>-0.256723</td>\n",
       "      <td>0.242815</td>\n",
       "      <td>-0.198244</td>\n",
       "      <td>-0.685870</td>\n",
       "    </tr>\n",
       "  </tbody>\n",
       "</table>\n",
       "</div>"
      ],
      "text/plain": [
       "          0         1         2         3         4\n",
       "0  0.449289  1.827646  0.955786  0.044140 -0.793325\n",
       "1  0.171881 -1.084032  1.407208  0.055602  1.263881\n",
       "2  0.000000  1.890260  1.293720 -1.758378 -0.697159\n",
       "3  0.206673 -0.281085  0.258588 -0.733724 -0.289469\n",
       "4  0.750519 -0.818479 -0.523975 -1.039727  0.324804\n",
       "5  0.970524 -0.622178  0.223189  0.015007 -1.201627\n",
       "6  0.745050 -0.717261 -1.287972  1.678256  2.223666\n",
       "7  1.000000 -0.279874 -1.178229  0.443420  0.265488\n",
       "8  0.128779  0.341726 -1.391130  1.493650 -0.410389\n",
       "9  0.814835 -0.256723  0.242815 -0.198244 -0.685870"
      ]
     },
     "execution_count": 9,
     "metadata": {},
     "output_type": "execute_result"
    }
   ],
   "source": [
    "feature_eng.fit_transform(test)"
   ]
  },
  {
   "cell_type": "markdown",
   "metadata": {
    "collapsed": true
   },
   "source": [
    "now, we try to apply the outliers detection first try the chi-square distribution$$\\chi^2=\\sum\\frac{(A-E)^2}{E}$$"
   ]
  },
  {
   "cell_type": "code",
   "execution_count": 10,
   "metadata": {},
   "outputs": [
    {
     "data": {
      "text/plain": [
       "2.7162030314812387"
      ]
     },
     "execution_count": 10,
     "metadata": {},
     "output_type": "execute_result"
    }
   ],
   "source": [
    "MD1=np.array([1.01,0.70,0.30,0.38,1.15,\n",
    "            2.64,1.71,0.71,0.86,0.80,0.69,0.87,\n",
    "            0.68,1.72,1.76,2.37,1.22,0.20,\n",
    "            1.86,2.27,0.83,0.42,0.26,1.05,\n",
    "            2.91,1.59,1.58,0.40])\n",
    "#the second column in the Table in article[13]\n",
    "MD2=np.array([2.25,2.32,1.59,1.27,0.30,0.77,\n",
    "             1.85,1.85,1.36,1.75,1.47,1.84,\n",
    "             1.48,1.78,1.69,1.29,2.70,1.50,\n",
    "             1.59,0.81,2.18])\n",
    "chi2.fit(MD1,2)\n",
    "np.sqrt(chi2.ppf(0.975,2)) "
   ]
  },
  {
   "cell_type": "markdown",
   "metadata": {},
   "source": [
    "the result is 2.7162030314812387 and the result in the article is 2.72 , they are almost the same"
   ]
  },
  {
   "cell_type": "markdown",
   "metadata": {
    "collapsed": true
   },
   "source": [
    "**there are two ways to approxiamte the MVE(minimum volume elliposid estimator)**\n",
    "- the resampling algorithm\n",
    "- the projection algorithm\n",
    "\n",
    "we can wirte three approxiamtion respectively,first calculate **mahalanbios distance** $$MD_i=\\sqrt{(x_i-\\mu)C^{-1}(x_i-\\mu)^T}$$\n",
    "and after we get chi value of $MD$ we have can calculate $RD$(Robust distances) in the same equation but different approximation"
   ]
  },
  {
   "cell_type": "code",
   "execution_count": 180,
   "metadata": {},
   "outputs": [],
   "source": [
    "#direct algorithm(with out robust estimation)\n",
    "#calculate the mahalanbios distance\n",
    "#create a dataset temp1 to test the code\n",
    "np.random.seed(42)\n",
    "temp1=np.random.rand(100,5)*10\n",
    "temp1=pd.DataFrame(temp1)\n",
    "temp2=pd.DataFrame(np.ones((100,1)))\n",
    "#np.mat(temp1.cov().as_matrix())*np.mat(temp1.cov().as_matrix()).I\n",
    "#np.cov(temp1,rowvar=False).shape\n",
    "#temp2=np.mat(np.cov(temp1,rowvar=False))\n",
    "#temp2*temp2.getI()"
   ]
  },
  {
   "cell_type": "code",
   "execution_count": 162,
   "metadata": {},
   "outputs": [
    {
     "data": {
      "text/plain": [
       "array([ 2.23781727,  2.58574656,  2.32999724,  1.5246966 ,  2.052103  ,\n",
       "        2.10040579,  2.39918087,  1.56976394,  2.69781313,  1.19634744])"
      ]
     },
     "execution_count": 162,
     "metadata": {},
     "output_type": "execute_result"
    }
   ],
   "source": [
    "def mahalanbios_dis(temp1):\n",
    "    return distance.cdist(temp1,np.array([temp1.mean()]),metric='mahalanobis',VI=np.mat(temp1.cov()).I).ravel()\n",
    "\n",
    "mahalanbios_dis(temp1)"
   ]
  },
  {
   "cell_type": "code",
   "execution_count": 111,
   "metadata": {},
   "outputs": [
    {
     "data": {
      "text/plain": [
       "array([ 2.23781727,  2.58574656,  2.32999724,  1.5246966 ,  2.052103  ,\n",
       "        2.10040579,  2.39918087,  1.56976394,  2.69781313,  1.19634744])"
      ]
     },
     "execution_count": 111,
     "metadata": {},
     "output_type": "execute_result"
    }
   ],
   "source": [
    "MD=[]\n",
    "for i in range(len(temp1)):\n",
    "    md_dis=float(distance.mahalanobis(temp1.iloc[i],np.array([temp1.mean()]),np.mat(temp1.cov().as_matrix()).I))\n",
    "    MD.append(md_dis)\n",
    "\n",
    "np.array(MD)"
   ]
  },
  {
   "cell_type": "code",
   "execution_count": 118,
   "metadata": {
    "collapsed": true
   },
   "outputs": [],
   "source": [
    "class outliers_clean_direct(BaseEstimator,TransformerMixin):\n",
    "    def __init__(self,p_free,labels,md_dis=pd.Series([]),p_value=0.):\n",
    "        self.md_dis=md_dis\n",
    "        self.p_value=p_value\n",
    "        self.p_free=p_free\n",
    "        self.labels=labels\n",
    "    def fit(self,X,y=None):\n",
    "        mean_value=np.array([X.mean()])\n",
    "        covar_value=np.mat(X.cov().as_matrix()).I\n",
    "        print(\"MD Start\")\n",
    "        self.md_dis=distance.cdist(X,mean_value,metric='mahalanobis',VI=covar_value).ravel()\n",
    "        print(\"MD end\")\n",
    "        chi2.fit(self.md_dis,self.p_free)\n",
    "        self.p_value=np.sqrt(chi2.ppf(0.975,self.p_free))\n",
    "        return self\n",
    "    def transform(self,X,y=None): #should be changed to y_train\n",
    "        count=0\n",
    "        print(\"mahalanbios distance: \",self.md_dis)\n",
    "        print(\"cutoff value: \",self.p_value)\n",
    "        start=time.time()\n",
    "        for index,item in enumerate(self.md_dis):\n",
    "            if item >= self.p_value:\n",
    "                if count%1000==0:\n",
    "                    print(\"drop count:%d time: %5.1fminute\"%(count,(time.time()-start)/60))\n",
    "                X=X.drop([index],axis=0)\n",
    "                self.labels=self.labels.drop([index],axis=0)\n",
    "                count=count+1\n",
    "            else:\n",
    "                continue\n",
    "        return X,self.labels,count\n",
    "                "
   ]
  },
  {
   "cell_type": "code",
   "execution_count": 116,
   "metadata": {},
   "outputs": [
    {
     "name": "stdout",
     "output_type": "stream",
     "text": [
      "MD Start\n",
      "time:   0.0minute\n",
      "MD end\n",
      "mahalanbios distance:  [ 2.23781727  2.58574656  2.32999724  1.5246966   2.052103    2.10040579\n",
      "  2.39918087  1.56976394  2.69781313  1.19634744]\n",
      "cutoff value:  2.71620303148\n"
     ]
    },
    {
     "data": {
      "text/html": [
       "<div>\n",
       "<style>\n",
       "    .dataframe thead tr:only-child th {\n",
       "        text-align: right;\n",
       "    }\n",
       "\n",
       "    .dataframe thead th {\n",
       "        text-align: left;\n",
       "    }\n",
       "\n",
       "    .dataframe tbody tr th {\n",
       "        vertical-align: top;\n",
       "    }\n",
       "</style>\n",
       "<table border=\"1\" class=\"dataframe\">\n",
       "  <thead>\n",
       "    <tr style=\"text-align: right;\">\n",
       "      <th></th>\n",
       "      <th>0</th>\n",
       "    </tr>\n",
       "  </thead>\n",
       "  <tbody>\n",
       "    <tr>\n",
       "      <th>0</th>\n",
       "      <td>1.0</td>\n",
       "    </tr>\n",
       "    <tr>\n",
       "      <th>1</th>\n",
       "      <td>1.0</td>\n",
       "    </tr>\n",
       "    <tr>\n",
       "      <th>2</th>\n",
       "      <td>1.0</td>\n",
       "    </tr>\n",
       "    <tr>\n",
       "      <th>3</th>\n",
       "      <td>1.0</td>\n",
       "    </tr>\n",
       "  </tbody>\n",
       "</table>\n",
       "</div>"
      ],
      "text/plain": [
       "     0\n",
       "0  1.0\n",
       "1  1.0\n",
       "2  1.0\n",
       "3  1.0"
      ]
     },
     "execution_count": 116,
     "metadata": {},
     "output_type": "execute_result"
    }
   ],
   "source": [
    "#sample test\n",
    "sample,labelset,count=outliers_clean_direct(p_free=2,labels=temp2).fit_transform(temp1)\n",
    "labelset"
   ]
  },
  {
   "cell_type": "markdown",
   "metadata": {},
   "source": [
    "Then we try to split the whole the dataset into 1000 subsets"
   ]
  },
  {
   "cell_type": "code",
   "execution_count": 119,
   "metadata": {},
   "outputs": [
    {
     "name": "stderr",
     "output_type": "stream",
     "text": [
      "D:\\ProgramData\\Anaconda3\\lib\\site-packages\\sklearn\\preprocessing\\data.py:321: DeprecationWarning: Passing 1d arrays as data is deprecated in 0.17 and will raise ValueError in 0.19. Reshape your data either using X.reshape(-1, 1) if your data has a single feature or X.reshape(1, -1) if it contains a single sample.\n",
      "  warnings.warn(DEPRECATION_MSG_1D, DeprecationWarning)\n",
      "D:\\ProgramData\\Anaconda3\\lib\\site-packages\\sklearn\\preprocessing\\data.py:356: DeprecationWarning: Passing 1d arrays as data is deprecated in 0.17 and will raise ValueError in 0.19. Reshape your data either using X.reshape(-1, 1) if your data has a single feature or X.reshape(1, -1) if it contains a single sample.\n",
      "  warnings.warn(DEPRECATION_MSG_1D, DeprecationWarning)\n"
     ]
    },
    {
     "name": "stdout",
     "output_type": "stream",
     "text": [
      "MD Start\n",
      "MD end\n",
      "mahalanbios distance:  [ 3.3379388   3.37713725  3.03612973 ...,  1.8644143   1.26067642\n",
      "  2.14461159]\n",
      "cutoff value:  3.58224817594\n",
      "drop count:0 time:   0.0minute\n",
      "drop count:1000 time:   1.5minute\n",
      "drop count:2000 time:   3.0minute\n",
      "drop count:3000 time:   4.5minute\n",
      "drop count:4000 time:   6.0minute\n",
      "drop count:5000 time:   7.5minute\n",
      "drop count:6000 time:   9.0minute\n",
      "drop count:7000 time:  10.4minute\n",
      "drop count:8000 time:  11.9minute\n",
      "drop count:9000 time:  13.4minute\n",
      "drop count:10000 time:  14.9minute\n",
      "drop count:11000 time:  16.3minute\n",
      "drop count:12000 time:  17.8minute\n",
      "drop count:13000 time:  19.2minute\n",
      "drop count:14000 time:  20.7minute\n",
      "drop count:15000 time:  22.2minute\n",
      "drop count:16000 time:  23.6minute\n",
      "drop count:17000 time:  25.0minute\n",
      "drop count:18000 time:  26.4minute\n",
      "drop count:19000 time:  27.9minute\n",
      "drop count:20000 time:  29.3minute\n",
      "drop count:21000 time:  30.7minute\n",
      "drop count:22000 time:  32.1minute\n",
      "drop count:23000 time:  33.5minute\n"
     ]
    }
   ],
   "source": [
    "X_train_scaled=feature_eng.fit_transform(X_train)\n",
    "X_train_new,y_train_new,count=outliers_clean_direct(p_free=5,labels=y_train.copy()).fit_transform(X_train_scaled)"
   ]
  },
  {
   "cell_type": "code",
   "execution_count": 159,
   "metadata": {},
   "outputs": [
    {
     "name": "stdout",
     "output_type": "stream",
     "text": [
      "23139\n"
     ]
    },
    {
     "data": {
      "text/plain": [
       "(332316, 1)"
      ]
     },
     "execution_count": 159,
     "metadata": {},
     "output_type": "execute_result"
    }
   ],
   "source": [
    "print(count)\n",
    "y_train_new.shape"
   ]
  },
  {
   "cell_type": "markdown",
   "metadata": {},
   "source": [
    "in the first approach , there are 23139 outliers has been droped, then we implement robust algorithm and see"
   ]
  },
  {
   "cell_type": "code",
   "execution_count": 123,
   "metadata": {},
   "outputs": [
    {
     "data": {
      "text/plain": [
       "235"
      ]
     },
     "execution_count": 123,
     "metadata": {},
     "output_type": "execute_result"
    }
   ],
   "source": [
    "#resampling algorithm\n",
    "p_distr=0.975\n",
    "n_subsamples=np.ceil(log((1-p_distr),1-(0.5)**6)).astype(int)\n",
    "n_subsamples"
   ]
  },
  {
   "cell_type": "markdown",
   "metadata": {},
   "source": [
    "because the number of the subsample set $m$ satisfy $$1-(1-(1-0.5)^{p+1})^m\\geq p_{distribution}$$ but this is a large number of groups and it will take a long time to calculate. Due to the paper we know the statistic order of the subset distance $m^2_{k+1}$ satisfly $$m^2_{k+1}\\leq(\\frac{V_k}{det(C_{k+1})})^{1/p}=M$$ so if $m^2_{k+1}$ exceed, then stop"
   ]
  },
  {
   "cell_type": "code",
   "execution_count": 197,
   "metadata": {
    "collapsed": true
   },
   "outputs": [],
   "source": [
    "\n",
    "class outliers_clean_resampling(BaseEstimator,TransformerMixin):\n",
    "    def __init__(self,p_free,labels,md_dis=pd.Series([]),p_value_1=0.,p_value_2=0.,h_value=0):\n",
    "        self.md_dis=md_dis\n",
    "        self.p_value_1=p_value_1\n",
    "        self.p_value_2=p_value_2\n",
    "        self.p_free=p_free\n",
    "        self.h_value=h_value\n",
    "        self.labels=labels\n",
    "    def fit(self,X,y=None):\n",
    "        self.h_value=np.int((X.shape[0]+self.p_free+1)/2)\n",
    "        mean_value=np.array([X.mean()])\n",
    "        cov_value=np.mat(X.cov().as_matrix()).I\n",
    "        print(\"MD Start\")\n",
    "        self.md_dis=distance.cdist(X,mean_value,metric='mahalanobis',VI=cov_value).ravel()\n",
    "        print(\"MD end\")\n",
    "        chi2.fit(self.md_dis,self.p_free)\n",
    "        self.p_value_1=np.sqrt(chi2.ppf(0.975,self.p_free))\n",
    "        self.p_value_2=np.sqrt(chi2.ppf(0.5,self.p_free))\n",
    "        return self\n",
    "    def transform(self,X,y=None):\n",
    "        mean_set,cov_set,m_dis_order,V_j=[],[],[],[]\n",
    "        print(\"Resampling begin\")\n",
    "        start1=time.time()\n",
    "        for subset in range(n_subsamples):\n",
    "            if subset%10==0:\n",
    "                print(\"replications number:%d time:%5.1f second\"%(subset,(time.time()-start1)))\n",
    "            sample_ID=[]\n",
    "            for index in range(self.p_free+1):\n",
    "                sample_ID.append(random.choice(range(len(X))))\n",
    "            X_tr=np.array(X.iloc[sample_ID])\n",
    "            sub_mean=np.array([(1/(self.p_free+1))*np.sum(X_tr,axis=0)])\n",
    "            mean_set.append(sub_mean)\n",
    "            sub_cov=np.mat((1/(self.p_free))*np.dot((X_tr-sub_mean).T,(X_tr-sub_mean))).I\n",
    "            cov_set.append(sub_cov)\n",
    "            m_dis=pd.Series((distance.cdist(X,sub_mean,metric='mahalanobis',VI=sub_cov)**2).ravel())\\\n",
    "            .sort_values(ascending=False).iloc[self.h_value]\n",
    "            #if subset != 0 :\n",
    "                #if m_dis>=(V_j[subset-1]/sub_cov.I.det())**(1/self.p_free):\n",
    "                    #break\n",
    "                #else:\n",
    "                    #pass\n",
    "            m_dis_order.append(m_dis)\n",
    "            V_j.append(m_dis*np.linalg.det(sub_cov))\n",
    "        print(\"Resampling end\")\n",
    "        #print(m_dis_order[])\n",
    "        J_index=pd.Series(V_j).sort_values(ascending=True).index.tolist()[0]\n",
    "        m_dis_value=m_dis_order[J_index]\n",
    "        robust_mean=mean_set[J_index]\n",
    "        robust_cov=((1+15/(X.shape[0]-self.p_free))**2)*(1/self.p_value_2)*m_dis_value*cov_set[J_index]\n",
    "        print(\"robust_mean :\",robust_mean)\n",
    "        print(\"robust_cov :\", robust_cov)\n",
    "        print(\"RD Start\")\n",
    "        robust_dis=distance.cdist(X,robust_mean,metric='mahalanobis',VI=robust_cov).ravel()\n",
    "        print(\"RD end\")\n",
    "        count=0\n",
    "        print(\"robust distance shape: \",robust_dis.shape)\n",
    "        print(\"cutoff value: \",self.p_value_1)\n",
    "        start=time.time()\n",
    "        for index,item in enumerate(robust_dis):\n",
    "            if item >= self.p_value_1:\n",
    "                if count%1000==0:\n",
    "                    print(\"drop count:%d time: %5.1fminute\"%(count,(time.time()-start)/60))\n",
    "                X=X.drop([index],axis=0)\n",
    "                self.labels=self.labels.drop([index],axis=0)\n",
    "                count=count+1\n",
    "            else:\n",
    "                continue\n",
    "        return X,self.labels,count"
   ]
  },
  {
   "cell_type": "code",
   "execution_count": 198,
   "metadata": {},
   "outputs": [
    {
     "name": "stdout",
     "output_type": "stream",
     "text": [
      "MD Start\n",
      "MD end\n",
      "Resampling begin\n",
      "replications number:0 time:  0.0 second\n",
      "replications number:10 time:  0.0 second\n",
      "replications number:20 time:  0.0 second\n",
      "replications number:30 time:  0.0 second\n",
      "replications number:40 time:  0.1 second\n",
      "replications number:50 time:  0.1 second\n",
      "replications number:60 time:  0.1 second\n",
      "replications number:70 time:  0.1 second\n",
      "replications number:80 time:  0.1 second\n",
      "replications number:90 time:  0.1 second\n",
      "replications number:100 time:  0.1 second\n",
      "replications number:110 time:  0.2 second\n",
      "replications number:120 time:  0.2 second\n",
      "replications number:130 time:  0.2 second\n",
      "replications number:140 time:  0.2 second\n",
      "replications number:150 time:  0.2 second\n",
      "replications number:160 time:  0.2 second\n",
      "replications number:170 time:  0.2 second\n",
      "replications number:180 time:  0.3 second\n",
      "replications number:190 time:  0.3 second\n",
      "replications number:200 time:  0.3 second\n",
      "replications number:210 time:  0.3 second\n",
      "replications number:220 time:  0.3 second\n",
      "replications number:230 time:  0.3 second\n",
      "Resampling end\n",
      "robust_mean : [[ 6.16885515  5.83228487  3.96835506  5.06569281  4.46456372]]\n",
      "robust_cov : [[  2.97576152e+14   8.28650209e+14  -2.39748454e+14   1.37088755e+15\n",
      "   -9.40387319e+14]\n",
      " [  7.76423615e+14   1.65997684e+15  -5.65344557e+14   1.80256239e+15\n",
      "   -9.99867632e+14]\n",
      " [ -2.33486990e+14  -5.89985919e+14   1.80896596e+14  -8.62917002e+14\n",
      "    5.63564598e+14]\n",
      " [  1.18633255e+15   1.52923823e+15  -7.43072004e+14  -8.04662563e+14\n",
      "    1.38818170e+15]\n",
      " [ -7.89174399e+14  -7.43834380e+14   4.61523954e+14   1.50157360e+15\n",
      "   -1.71517059e+15]]\n",
      "RD Start\n",
      "RD end\n",
      "robust distance:  (100,)\n",
      "cutoff value:  3.58224817594\n",
      "drop count:0 time:   0.0minute\n"
     ]
    }
   ],
   "source": [
    "#use test temp set for testing\n",
    "sample,labelset,count=outliers_clean_resampling(p_free=5,labels=temp2).fit_transform(temp1)"
   ]
  },
  {
   "cell_type": "code",
   "execution_count": 199,
   "metadata": {},
   "outputs": [
    {
     "data": {
      "text/plain": [
       "51"
      ]
     },
     "execution_count": 199,
     "metadata": {},
     "output_type": "execute_result"
    }
   ],
   "source": [
    "count"
   ]
  },
  {
   "cell_type": "code",
   "execution_count": null,
   "metadata": {},
   "outputs": [
    {
     "name": "stderr",
     "output_type": "stream",
     "text": [
      "D:\\ProgramData\\Anaconda3\\lib\\site-packages\\sklearn\\preprocessing\\data.py:321: DeprecationWarning: Passing 1d arrays as data is deprecated in 0.17 and will raise ValueError in 0.19. Reshape your data either using X.reshape(-1, 1) if your data has a single feature or X.reshape(1, -1) if it contains a single sample.\n",
      "  warnings.warn(DEPRECATION_MSG_1D, DeprecationWarning)\n",
      "D:\\ProgramData\\Anaconda3\\lib\\site-packages\\sklearn\\preprocessing\\data.py:356: DeprecationWarning: Passing 1d arrays as data is deprecated in 0.17 and will raise ValueError in 0.19. Reshape your data either using X.reshape(-1, 1) if your data has a single feature or X.reshape(1, -1) if it contains a single sample.\n",
      "  warnings.warn(DEPRECATION_MSG_1D, DeprecationWarning)\n"
     ]
    },
    {
     "name": "stdout",
     "output_type": "stream",
     "text": [
      "MD Start\n",
      "MD end\n",
      "Resampling begin\n",
      "replications number:0 time:  0.0 second\n",
      "replications number:10 time:  1.2 second\n",
      "replications number:20 time:  2.5 second\n",
      "replications number:30 time:  3.8 second\n",
      "replications number:40 time:  5.0 second\n",
      "replications number:50 time:  6.3 second\n",
      "replications number:60 time:  7.5 second\n",
      "replications number:70 time:  8.8 second\n",
      "replications number:80 time: 10.0 second\n",
      "replications number:90 time: 11.3 second\n",
      "replications number:100 time: 12.6 second\n",
      "replications number:110 time: 13.8 second\n",
      "replications number:120 time: 15.1 second\n",
      "replications number:130 time: 16.4 second\n",
      "replications number:140 time: 17.6 second\n",
      "replications number:150 time: 18.9 second\n",
      "replications number:160 time: 20.1 second\n",
      "replications number:170 time: 21.4 second\n",
      "replications number:180 time: 22.7 second\n",
      "replications number:190 time: 24.0 second\n",
      "replications number:200 time: 25.3 second\n",
      "replications number:210 time: 26.5 second\n",
      "replications number:220 time: 27.8 second\n",
      "replications number:230 time: 29.0 second\n",
      "Resampling end\n",
      "robust_mean : [[ 0.51469951  0.28577742  0.12675578  0.27818628  0.95483194]]\n",
      "robust_cov : [[  4.33031814e+02  -5.65774269e+00   5.63239852e+01   6.27432794e+00\n",
      "   -1.06750159e+01]\n",
      " [ -5.65774269e+00   3.93976095e+00   9.50238336e-01  -5.22073117e+00\n",
      "    2.64181240e-01]\n",
      " [  5.63239852e+01   9.50238336e-01   1.75221854e+01  -4.32909952e+00\n",
      "   -9.62722710e-01]\n",
      " [  6.27432794e+00  -5.22073117e+00  -4.32909952e+00   9.22891344e+00\n",
      "   -3.71770280e-01]\n",
      " [ -1.06750159e+01   2.64181240e-01  -9.62722710e-01  -3.71770280e-01\n",
      "    5.00662249e-01]]\n",
      "RD Start\n",
      "RD end\n",
      "robust distance:  (355455,)\n",
      "cutoff value:  3.58224817594\n",
      "drop count:0 time:   0.0minute\n",
      "drop count:1000 time:   1.3minute\n",
      "drop count:2000 time:   2.6minute\n",
      "drop count:3000 time:   4.0minute\n",
      "drop count:4000 time:   5.3minute\n",
      "drop count:5000 time:   6.6minute\n",
      "drop count:6000 time:   8.0minute\n",
      "drop count:7000 time:   9.4minute\n",
      "drop count:8000 time:  10.8minute\n",
      "drop count:9000 time:  12.1minute\n",
      "drop count:10000 time:  13.5minute\n",
      "drop count:11000 time:  14.7minute\n",
      "drop count:12000 time:  16.0minute\n",
      "drop count:13000 time:  17.3minute\n",
      "drop count:14000 time:  18.6minute\n",
      "drop count:15000 time:  19.9minute\n",
      "drop count:16000 time:  21.2minute\n",
      "drop count:17000 time:  22.4minute\n",
      "drop count:18000 time:  23.7minute\n",
      "drop count:19000 time:  24.9minute\n",
      "drop count:20000 time:  26.2minute\n",
      "drop count:21000 time:  27.5minute\n",
      "drop count:22000 time:  28.7minute\n",
      "drop count:23000 time:  30.0minute\n",
      "drop count:24000 time:  31.2minute\n",
      "drop count:25000 time:  32.4minute\n",
      "drop count:26000 time:  33.7minute\n",
      "drop count:27000 time:  34.9minute\n",
      "drop count:28000 time:  36.2minute\n",
      "drop count:29000 time:  37.4minute\n"
     ]
    }
   ],
   "source": [
    "X_train_scaled=feature_eng.fit_transform(X_train)\n",
    "X_train_new,y_train_new,count=outliers_clean_resampling(p_free=5,labels=y_train).fit_transform(X_train_scaled)"
   ]
  },
  {
   "cell_type": "code",
   "execution_count": 134,
   "metadata": {
    "collapsed": true
   },
   "outputs": [],
   "source": [
    "#the projection algorithm"
   ]
  },
  {
   "cell_type": "code",
   "execution_count": 131,
   "metadata": {},
   "outputs": [
    {
     "data": {
      "text/plain": [
       "0.25"
      ]
     },
     "execution_count": 131,
     "metadata": {},
     "output_type": "execute_result"
    }
   ],
   "source": [
    "1/4"
   ]
  },
  {
   "cell_type": "code",
   "execution_count": null,
   "metadata": {
    "collapsed": true
   },
   "outputs": [],
   "source": []
  }
 ],
 "metadata": {
  "kernelspec": {
   "display_name": "Python 3",
   "language": "python",
   "name": "python3"
  },
  "language_info": {
   "codemirror_mode": {
    "name": "ipython",
    "version": 3
   },
   "file_extension": ".py",
   "mimetype": "text/x-python",
   "name": "python",
   "nbconvert_exporter": "python",
   "pygments_lexer": "ipython3",
   "version": "3.6.1"
  }
 },
 "nbformat": 4,
 "nbformat_minor": 2
}
