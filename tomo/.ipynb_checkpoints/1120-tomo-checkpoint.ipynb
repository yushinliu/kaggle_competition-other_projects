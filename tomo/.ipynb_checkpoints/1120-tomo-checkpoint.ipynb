{
 "cells": [
  {
   "cell_type": "code",
   "execution_count": 30,
   "metadata": {},
   "outputs": [],
   "source": [
    "import numpy as np\n",
    "import pandas as pd\n",
    "from sklearn.utils import shuffle\n",
    "from tensorflow import set_random_seed\n",
    "\n",
    "#keras package\n",
    "from keras.models import Sequential\n",
    "from keras.layers import Dense, Dropout\n",
    "from keras.models import Model, load_model\n",
    "from keras.preprocessing import image\n",
    "from keras.utils.vis_utils import model_to_dot\n",
    "from keras.initializers import glorot_uniform\n",
    "from keras.wrappers.scikit_learn import KerasClassifier,KerasRegressor\n",
    "from keras.callbacks import EarlyStopping, ModelCheckpoint\n",
    "from sklearn.grid_search import GridSearchCV \n",
    "from keras import regularizers\n",
    "from random import choice\n",
    "import pydot\n",
    "import graphviz\n",
    "from IPython.display import SVG\n",
    "import keras.backend as K\n",
    "from sklearn.model_selection import cross_val_score\n",
    "from sklearn.model_selection import StratifiedKFold\n",
    "np.random.seed(42)\n"
   ]
  },
  {
   "cell_type": "markdown",
   "metadata": {},
   "source": [
    "## 1.读取-划分数据"
   ]
  },
  {
   "cell_type": "code",
   "execution_count": 2,
   "metadata": {
    "collapsed": true
   },
   "outputs": [],
   "source": [
    "def importdata():\n",
    "    path = r\"C:\\Users\\hasee\\workspace\\workspace\\tomo\\data2.txt\"\n",
    "    df = pd.read_table(path)\n",
    "    columns = df.columns\n",
    "    #print(columns)\n",
    "\n",
    "    dfdata = df[['latgpsutm', 'lnggpsutm', 'lnglacutm', 'latlacutm']]\n",
    "    #print(len(dfdata))\n",
    "    dfdata = dfdata.drop_duplicates()#删去重复项\n",
    "    #print(len(dfdata))\n",
    "    return dfdata\n",
    "\n",
    "df = importdata()"
   ]
  },
  {
   "cell_type": "markdown",
   "metadata": {},
   "source": [
    "随机70%训练集切分-方法1："
   ]
  },
  {
   "cell_type": "code",
   "execution_count": 3,
   "metadata": {
    "collapsed": true
   },
   "outputs": [],
   "source": [
    "df1 = shuffle(df)\n",
    "df1 = df.set_index([list(range(len(df1)))])\n",
    "index = int(len(df1)*0.7)\n",
    "df1_train=df1[:index]\n",
    "df1_test=df1[index:]"
   ]
  },
  {
   "cell_type": "markdown",
   "metadata": {},
   "source": [
    "随机70%训练集切分-方法2："
   ]
  },
  {
   "cell_type": "code",
   "execution_count": 4,
   "metadata": {
    "collapsed": true
   },
   "outputs": [],
   "source": [
    "df_train=df.sample(frac=0.7)\n",
    "df_train=df_train.reset_index(drop=True)"
   ]
  },
  {
   "cell_type": "code",
   "execution_count": 5,
   "metadata": {},
   "outputs": [
    {
     "data": {
      "text/plain": [
       "False"
      ]
     },
     "execution_count": 5,
     "metadata": {},
     "output_type": "execute_result"
    }
   ],
   "source": [
    "df_train.isnull().values.any()"
   ]
  },
  {
   "cell_type": "code",
   "execution_count": 6,
   "metadata": {},
   "outputs": [
    {
     "data": {
      "text/plain": [
       "['latgpsutm', 'lnggpsutm', 'lnglacutm', 'latlacutm']"
      ]
     },
     "execution_count": 6,
     "metadata": {},
     "output_type": "execute_result"
    }
   ],
   "source": [
    "list(df_train)"
   ]
  },
  {
   "cell_type": "code",
   "execution_count": 51,
   "metadata": {},
   "outputs": [],
   "source": [
    "X_train=df1[['lnglacutm', 'latlacutm']]\n",
    "y_train=df1[['latgpsutm', 'lnggpsutm']]"
   ]
  },
  {
   "cell_type": "code",
   "execution_count": 79,
   "metadata": {},
   "outputs": [
    {
     "data": {
      "text/html": [
       "<div>\n",
       "<style>\n",
       "    .dataframe thead tr:only-child th {\n",
       "        text-align: right;\n",
       "    }\n",
       "\n",
       "    .dataframe thead th {\n",
       "        text-align: left;\n",
       "    }\n",
       "\n",
       "    .dataframe tbody tr th {\n",
       "        vertical-align: top;\n",
       "    }\n",
       "</style>\n",
       "<table border=\"1\" class=\"dataframe\">\n",
       "  <thead>\n",
       "    <tr style=\"text-align: right;\">\n",
       "      <th></th>\n",
       "      <th>latgpsutm</th>\n",
       "      <th>lnggpsutm</th>\n",
       "      <th>lnglacutm</th>\n",
       "      <th>latlacutm</th>\n",
       "    </tr>\n",
       "  </thead>\n",
       "  <tbody>\n",
       "    <tr>\n",
       "      <th>10</th>\n",
       "      <td>3.462141e+06</td>\n",
       "      <td>357312.1664</td>\n",
       "      <td>356965.6919</td>\n",
       "      <td>3.462668e+06</td>\n",
       "    </tr>\n",
       "    <tr>\n",
       "      <th>11</th>\n",
       "      <td>3.462141e+06</td>\n",
       "      <td>357312.1664</td>\n",
       "      <td>357405.7554</td>\n",
       "      <td>3.461803e+06</td>\n",
       "    </tr>\n",
       "    <tr>\n",
       "      <th>12</th>\n",
       "      <td>3.462425e+06</td>\n",
       "      <td>357110.5482</td>\n",
       "      <td>357405.7554</td>\n",
       "      <td>3.461803e+06</td>\n",
       "    </tr>\n",
       "    <tr>\n",
       "      <th>13</th>\n",
       "      <td>3.462212e+06</td>\n",
       "      <td>357045.4753</td>\n",
       "      <td>356788.6773</td>\n",
       "      <td>3.462205e+06</td>\n",
       "    </tr>\n",
       "    <tr>\n",
       "      <th>14</th>\n",
       "      <td>3.462329e+06</td>\n",
       "      <td>356804.1912</td>\n",
       "      <td>356915.2664</td>\n",
       "      <td>3.462539e+06</td>\n",
       "    </tr>\n",
       "    <tr>\n",
       "      <th>15</th>\n",
       "      <td>3.462329e+06</td>\n",
       "      <td>356804.1912</td>\n",
       "      <td>356698.2993</td>\n",
       "      <td>3.462768e+06</td>\n",
       "    </tr>\n",
       "    <tr>\n",
       "      <th>16</th>\n",
       "      <td>3.462617e+06</td>\n",
       "      <td>356729.9513</td>\n",
       "      <td>356698.2993</td>\n",
       "      <td>3.462768e+06</td>\n",
       "    </tr>\n",
       "    <tr>\n",
       "      <th>17</th>\n",
       "      <td>3.462329e+06</td>\n",
       "      <td>356804.1912</td>\n",
       "      <td>356608.2450</td>\n",
       "      <td>3.462769e+06</td>\n",
       "    </tr>\n",
       "    <tr>\n",
       "      <th>18</th>\n",
       "      <td>3.462617e+06</td>\n",
       "      <td>356729.9513</td>\n",
       "      <td>356915.2664</td>\n",
       "      <td>3.462539e+06</td>\n",
       "    </tr>\n",
       "    <tr>\n",
       "      <th>19</th>\n",
       "      <td>3.462425e+06</td>\n",
       "      <td>357110.5482</td>\n",
       "      <td>356965.6919</td>\n",
       "      <td>3.462668e+06</td>\n",
       "    </tr>\n",
       "    <tr>\n",
       "      <th>20</th>\n",
       "      <td>3.462098e+06</td>\n",
       "      <td>357490.2946</td>\n",
       "      <td>357474.6757</td>\n",
       "      <td>3.462070e+06</td>\n",
       "    </tr>\n",
       "  </tbody>\n",
       "</table>\n",
       "</div>"
      ],
      "text/plain": [
       "       latgpsutm    lnggpsutm    lnglacutm     latlacutm\n",
       "10  3.462141e+06  357312.1664  356965.6919  3.462668e+06\n",
       "11  3.462141e+06  357312.1664  357405.7554  3.461803e+06\n",
       "12  3.462425e+06  357110.5482  357405.7554  3.461803e+06\n",
       "13  3.462212e+06  357045.4753  356788.6773  3.462205e+06\n",
       "14  3.462329e+06  356804.1912  356915.2664  3.462539e+06\n",
       "15  3.462329e+06  356804.1912  356698.2993  3.462768e+06\n",
       "16  3.462617e+06  356729.9513  356698.2993  3.462768e+06\n",
       "17  3.462329e+06  356804.1912  356608.2450  3.462769e+06\n",
       "18  3.462617e+06  356729.9513  356915.2664  3.462539e+06\n",
       "19  3.462425e+06  357110.5482  356965.6919  3.462668e+06\n",
       "20  3.462098e+06  357490.2946  357474.6757  3.462070e+06"
      ]
     },
     "execution_count": 79,
     "metadata": {},
     "output_type": "execute_result"
    }
   ],
   "source": [
    "val_1=df1.loc[10:20]\n",
    "val_1"
   ]
  },
  {
   "cell_type": "markdown",
   "metadata": {
    "collapsed": true
   },
   "source": [
    "# Build the model"
   ]
  },
  {
   "cell_type": "code",
   "execution_count": 9,
   "metadata": {
    "collapsed": true
   },
   "outputs": [],
   "source": [
    "K.clear_session()\n",
    "def NN_model(optimizer='adam',hidden_units=100,dropout_rate=0.3,L2_rate=.001):\n",
    "    model=Sequential()\n",
    "    model.add(Dense(hidden_units,activation='relu',input_dim=2,kernel_regularizer=regularizers.l2(L2_rate)))\n",
    "    model.add(Dropout(dropout_rate))\n",
    "    model.add(Dense(2,activation='relu',kernel_regularizer=regularizers.l2(L2_rate)))\n",
    "    \n",
    "    model.compile(loss='mean_squared_error',optimizer=optimizer)\n",
    "    return model"
   ]
  },
  {
   "cell_type": "code",
   "execution_count": 10,
   "metadata": {
    "collapsed": true
   },
   "outputs": [],
   "source": [
    "#kfold=StratifiedKFold(n_splits=5,random_state=42)\n",
    "#nn_reg=KerasRegressor(build_fn=NN_model,nb_epoch=40,batch_size=50,verbose=-1)\n",
    "#nn_reg.fit(X_train,y_train)\n",
    "nn_model=NN_model()"
   ]
  },
  {
   "cell_type": "code",
   "execution_count": 39,
   "metadata": {},
   "outputs": [
    {
     "name": "stdout",
     "output_type": "stream",
     "text": [
      "Train on 893 samples, validate on 224 samples\n",
      "Epoch 1/100\n",
      "Epoch 2/100\n",
      "Epoch 3/100\n",
      "Epoch 4/100\n",
      "Epoch 5/100\n",
      "Epoch 6/100\n",
      "Epoch 7/100\n",
      "Epoch 8/100\n",
      "Epoch 9/100\n",
      "Epoch 10/100\n",
      "Epoch 11/100\n",
      "Epoch 12/100\n",
      "Epoch 13/100\n",
      "Epoch 14/100\n",
      "Epoch 15/100\n",
      "Epoch 16/100\n",
      "Epoch 17/100\n",
      "Epoch 18/100\n",
      "Epoch 19/100\n",
      "Epoch 20/100\n",
      "Epoch 21/100\n",
      "Epoch 22/100\n",
      "Epoch 23/100\n",
      "Epoch 24/100\n",
      "Epoch 25/100\n",
      "Epoch 26/100\n",
      "Epoch 27/100\n",
      "Epoch 28/100\n",
      "Epoch 29/100\n",
      "Epoch 30/100\n",
      "Epoch 31/100\n",
      "Epoch 32/100\n",
      "Epoch 33/100\n",
      "Epoch 34/100\n",
      "Epoch 35/100\n",
      "Epoch 36/100\n",
      "Epoch 37/100\n",
      "Epoch 38/100\n",
      "Epoch 39/100\n",
      "Epoch 40/100\n",
      "Epoch 41/100\n",
      "Epoch 42/100\n",
      "Epoch 43/100\n",
      "Epoch 44/100\n",
      "Epoch 45/100\n",
      "Epoch 46/100\n",
      "Epoch 47/100\n",
      "Epoch 48/100\n",
      "Epoch 49/100\n",
      "Epoch 50/100\n",
      "Epoch 51/100\n",
      "Epoch 52/100\n",
      "Epoch 53/100\n",
      "Epoch 54/100\n",
      "Epoch 55/100\n",
      "Epoch 56/100\n",
      "Epoch 57/100\n",
      "Epoch 58/100\n",
      "Epoch 59/100\n",
      "Epoch 60/100\n",
      "Epoch 61/100\n",
      "Epoch 62/100\n",
      "Epoch 63/100\n",
      "Epoch 64/100\n",
      "Epoch 65/100\n",
      "Epoch 66/100\n",
      "Epoch 67/100\n",
      "Epoch 68/100\n",
      "Epoch 69/100\n",
      "Epoch 70/100\n",
      "Epoch 71/100\n",
      "Epoch 72/100\n",
      "Epoch 73/100\n",
      "Epoch 74/100\n",
      "Epoch 75/100\n",
      "Epoch 76/100\n",
      "Epoch 77/100\n",
      "Epoch 78/100\n",
      "Epoch 79/100\n",
      "Epoch 80/100\n",
      "Epoch 81/100\n",
      "Epoch 82/100\n",
      "Epoch 83/100\n",
      "Epoch 84/100\n",
      "Epoch 85/100\n",
      "Epoch 86/100\n",
      "Epoch 87/100\n",
      "Epoch 88/100\n",
      "Epoch 89/100\n",
      "Epoch 90/100\n",
      "Epoch 91/100\n",
      "Epoch 92/100\n",
      "Epoch 93/100\n",
      "Epoch 94/100\n",
      "Epoch 95/100\n",
      "Epoch 96/100\n",
      "Epoch 97/100\n",
      "Epoch 98/100\n",
      "Epoch 99/100\n",
      "Epoch 100/100\n"
     ]
    },
    {
     "data": {
      "text/plain": [
       "<keras.callbacks.History at 0x1d35f57f550>"
      ]
     },
     "execution_count": 39,
     "metadata": {},
     "output_type": "execute_result"
    }
   ],
   "source": [
    "nn_model.fit(X_train.as_matrix(),y_train.as_matrix(),epochs=100,validation_split=0.2,batch_size=50,verbose=-1)#callbacks='early_stop')"
   ]
  },
  {
   "cell_type": "code",
   "execution_count": 42,
   "metadata": {},
   "outputs": [
    {
     "name": "stdout",
     "output_type": "stream",
     "text": [
      "479/479 [==============================] - ETA: 0s\n"
     ]
    },
    {
     "data": {
      "text/plain": [
       "3056360622.764092"
      ]
     },
     "execution_count": 42,
     "metadata": {},
     "output_type": "execute_result"
    }
   ],
   "source": [
    "nn_model.evaluate(X_test.as_matrix(),y_test.as_matrix())"
   ]
  },
  {
   "cell_type": "code",
   "execution_count": 14,
   "metadata": {
    "collapsed": true
   },
   "outputs": [],
   "source": [
    "test_X=df1_test[['lnglacutm', 'latlacutm']].iloc[0:2].as_matrix()\n",
    "test_y=df1_test[['latgpsutm', 'lnggpsutm']].iloc[0:2].as_matrix()"
   ]
  },
  {
   "cell_type": "code",
   "execution_count": 16,
   "metadata": {},
   "outputs": [
    {
     "data": {
      "text/plain": [
       "array([[ 3448758.  ,   357042.25],\n",
       "       [ 3448758.  ,   357042.25]], dtype=float32)"
      ]
     },
     "execution_count": 16,
     "metadata": {},
     "output_type": "execute_result"
    }
   ],
   "source": [
    "nn_model.predict(test_X)"
   ]
  },
  {
   "cell_type": "code",
   "execution_count": 17,
   "metadata": {},
   "outputs": [
    {
     "data": {
      "text/plain": [
       "array([[ 3462168.7389,   357200.1846],\n",
       "       [ 3462169.8034,   357217.0202]])"
      ]
     },
     "execution_count": 17,
     "metadata": {},
     "output_type": "execute_result"
    }
   ],
   "source": [
    "test_y"
   ]
  },
  {
   "cell_type": "markdown",
   "metadata": {
    "collapsed": true
   },
   "source": [
    "# 2. added the call backs"
   ]
  },
  {
   "cell_type": "code",
   "execution_count": 28,
   "metadata": {},
   "outputs": [
    {
     "name": "stdout",
     "output_type": "stream",
     "text": [
      "Train on 893 samples, validate on 224 samples\n",
      "Epoch 1/100\n",
      "Epoch 2/100\n",
      "Epoch 3/100\n",
      "Epoch 4/100\n",
      "Epoch 5/100\n",
      "Epoch 6/100\n",
      "Epoch 7/100\n",
      "Epoch 8/100\n",
      "Epoch 9/100\n",
      "Epoch 10/100\n",
      "Epoch 11/100\n",
      "Epoch 12/100\n",
      "Epoch 13/100\n",
      "Epoch 14/100\n",
      "Epoch 15/100\n",
      "Epoch 16/100\n",
      "Epoch 17/100\n",
      "Epoch 18/100\n",
      "Epoch 19/100\n",
      "Epoch 20/100\n",
      "Epoch 21/100\n"
     ]
    },
    {
     "data": {
      "text/plain": [
       "<keras.callbacks.History at 0x1d35f579be0>"
      ]
     },
     "execution_count": 28,
     "metadata": {},
     "output_type": "execute_result"
    }
   ],
   "source": [
    "filepath=\"./final_model.ckpt\"\n",
    "checkpoint = ModelCheckpoint(filepath, monitor='val_loss', verbose=-1, save_best_only=True, mode='min')\n",
    "\n",
    "earlystop= EarlyStopping(monitor='val_loss', patience=10, mode='min') \n",
    "nn_model.fit(X_train,y_train,epochs=100,validation_split=0.2,\\\n",
    "             batch_size=50,verbose=-1,callbacks=[earlystop,checkpoint])"
   ]
  },
  {
   "cell_type": "markdown",
   "metadata": {},
   "source": [
    "# 3. Cross_Validation tuning the parameter"
   ]
  },
  {
   "cell_type": "code",
   "execution_count": null,
   "metadata": {},
   "outputs": [
    {
     "name": "stdout",
     "output_type": "stream",
     "text": [
      "0 iteration has the parameter :\n",
      "{'hidden_units': 128, 'dropout_rate': 0.34, 'optimizer': 'Adam', 'L2': 0.001}\n",
      "Fold  1  Start\n",
      "Train on 1021 samples, validate on 256 samples\n",
      "Epoch 1/100\n",
      "Epoch 2/100\n",
      "Epoch 3/100\n",
      "Epoch 4/100\n",
      "Epoch 5/100\n",
      "Epoch 6/100\n",
      "Epoch 7/100\n",
      "Epoch 8/100\n",
      "Epoch 9/100\n",
      "Epoch 10/100\n",
      "Epoch 11/100\n",
      "Epoch 12/100\n",
      "Epoch 13/100\n",
      "Epoch 14/100\n",
      "Epoch 15/100\n",
      "Epoch 16/100\n",
      "Epoch 17/100\n",
      "Epoch 18/100\n",
      "Epoch 19/100\n",
      "Epoch 20/100\n",
      "Epoch 21/100\n",
      "Epoch 22/100\n",
      "Epoch 23/100\n",
      "Epoch 24/100\n",
      "319/319 [==============================] - ETA:  - ETA: 0s\n",
      "1Fold's loss value is 894845152.702194\n",
      "Fold  2  Start\n",
      "Train on 1021 samples, validate on 256 samples\n",
      "Epoch 1/100\n",
      "Epoch 2/100\n",
      "Epoch 3/100\n",
      "Epoch 4/100\n",
      "Epoch 5/100\n",
      "Epoch 6/100\n",
      "Epoch 7/100\n",
      "Epoch 8/100\n",
      "Epoch 9/100\n",
      "Epoch 10/100\n",
      "Epoch 11/100\n",
      "Epoch 12/100\n",
      "Epoch 13/100\n",
      "Epoch 14/100\n",
      "Epoch 15/100\n",
      "Epoch 16/100\n",
      "Epoch 17/100\n",
      "Epoch 18/100\n",
      "Epoch 19/100\n",
      "Epoch 20/100\n",
      "Epoch 21/100\n",
      "Epoch 22/100\n",
      "Epoch 23/100\n",
      "Epoch 24/100\n",
      "Epoch 25/100\n",
      "Epoch 26/100\n",
      "Epoch 27/100\n",
      "Epoch 28/100\n",
      "Epoch 29/100\n",
      "Epoch 30/100\n",
      "Epoch 31/100\n",
      "Epoch 32/100\n",
      "Epoch 33/100\n",
      "319/319 [==============================] - ETA: 0s\n",
      "2Fold's loss value is 1335537559.272727\n",
      "Fold  3  Start\n",
      "Train on 1021 samples, validate on 256 samples\n",
      "Epoch 1/100\n",
      "Epoch 2/100\n",
      "Epoch 3/100\n",
      "Epoch 4/100\n",
      "Epoch 5/100\n",
      "Epoch 6/100\n",
      "Epoch 7/100\n",
      "Epoch 8/100\n",
      "Epoch 9/100\n",
      "Epoch 10/100\n",
      "Epoch 11/100\n",
      "Epoch 12/100\n",
      "Epoch 13/100\n",
      "Epoch 14/100\n",
      "Epoch 15/100\n",
      "Epoch 16/100\n",
      "Epoch 17/100\n",
      "Epoch 18/100\n",
      "Epoch 19/100\n",
      "Epoch 20/100\n",
      "Epoch 21/100\n",
      "Epoch 22/100\n",
      "Epoch 23/100\n",
      "Epoch 24/100\n",
      "Epoch 25/100\n",
      "Epoch 26/100\n",
      "319/319 [==============================] - ETA: 0s\n",
      "3Fold's loss value is 514399056.050157\n",
      "Fold  4  Start\n",
      "Train on 1021 samples, validate on 256 samples\n",
      "Epoch 1/100\n",
      "Epoch 2/100\n",
      "Epoch 3/100\n",
      "Epoch 4/100\n",
      "Epoch 5/100\n",
      "Epoch 6/100\n",
      "Epoch 7/100\n",
      "Epoch 8/100\n",
      "Epoch 9/100\n",
      "Epoch 10/100\n",
      "Epoch 11/100\n",
      "Epoch 12/100\n",
      "Epoch 13/100\n",
      "Epoch 14/100\n",
      "Epoch 15/100\n",
      "Epoch 16/100\n",
      "Epoch 17/100\n",
      "Epoch 18/100\n",
      "Epoch 19/100\n",
      "Epoch 20/100\n",
      "Epoch 21/100\n",
      "Epoch 22/100\n",
      "Epoch 23/100\n",
      "Epoch 24/100\n",
      "Epoch 25/100\n",
      "Epoch 26/100\n",
      "Epoch 27/100\n",
      "Epoch 28/100\n",
      "Epoch 29/100\n",
      "Epoch 30/100\n",
      "Epoch 31/100\n",
      "Epoch 32/100\n",
      "319/319 [==============================] - ETA: 0s\n",
      "4Fold's loss value is 2152741279.297806\n",
      "Fold  5  Start\n",
      "Train on 1020 samples, validate on 256 samples\n",
      "Epoch 1/100\n",
      "Epoch 2/100\n",
      "Epoch 3/100\n",
      "Epoch 4/100\n",
      "Epoch 5/100\n",
      "Epoch 6/100\n",
      "Epoch 7/100\n",
      "Epoch 8/100\n",
      "Epoch 9/100\n",
      "Epoch 10/100\n",
      "Epoch 11/100\n",
      "Epoch 12/100\n",
      "Epoch 13/100\n",
      "Epoch 14/100\n",
      "Epoch 15/100\n",
      "Epoch 16/100\n",
      "Epoch 17/100\n",
      "Epoch 18/100\n",
      "Epoch 19/100\n",
      "Epoch 20/100\n",
      "Epoch 21/100\n",
      "Epoch 22/100\n",
      "Epoch 23/100\n",
      "Epoch 24/100\n",
      "Epoch 25/100\n",
      "Epoch 26/100\n",
      "Epoch 27/100\n",
      "Epoch 28/100\n",
      "Epoch 29/100\n",
      "Epoch 30/100\n",
      "Epoch 31/100\n",
      "Epoch 32/100\n",
      "Epoch 33/100\n",
      "Epoch 34/100\n",
      "Epoch 35/100\n",
      "Epoch 36/100\n",
      "Epoch 37/100\n",
      "Epoch 38/100\n",
      "Epoch 39/100\n",
      "Epoch 40/100\n",
      "320/320 [==============================] - ETA: 0s\n",
      "5Fold's loss value is 247238947.200000\n",
      "0 iteration's loss value is 1028952398.904577\n",
      "1 iteration has the parameter :\n",
      "{'hidden_units': 75, 'dropout_rate': 0.3, 'optimizer': 'Adamax', 'L2': 0.002}\n",
      "Fold  1  Start\n",
      "Train on 1021 samples, validate on 256 samples\n",
      "Epoch 1/100\n",
      "Epoch 2/100\n",
      "Epoch 3/100\n",
      "Epoch 4/100\n",
      "Epoch 5/100\n",
      "Epoch 6/100\n",
      "Epoch 7/100\n",
      "Epoch 8/100\n",
      "Epoch 9/100\n",
      "Epoch 10/100\n",
      "Epoch 11/100\n",
      "Epoch 12/100\n",
      "Epoch 13/100\n",
      "Epoch 14/100\n",
      "Epoch 15/100\n",
      "Epoch 16/100\n",
      "Epoch 17/100\n",
      "Epoch 18/100\n",
      "Epoch 19/100\n",
      "Epoch 20/100\n",
      "Epoch 21/100\n",
      "Epoch 22/100\n",
      "Epoch 23/100\n",
      "Epoch 24/100\n",
      "Epoch 25/100\n",
      "Epoch 26/100\n",
      "Epoch 27/100\n",
      "Epoch 28/100\n",
      "Epoch 29/100\n",
      "Epoch 30/100\n",
      "Epoch 31/100\n",
      "Epoch 32/100\n",
      "Epoch 33/100\n",
      "Epoch 34/100\n",
      "Epoch 35/100\n",
      "Epoch 36/100\n",
      "Epoch 37/100\n",
      "Epoch 38/100\n",
      "Epoch 39/100\n",
      "319/319 [==============================] - ETA: 0s\n",
      "1Fold's loss value is 391581930.934169\n",
      "Fold  2  Start\n",
      "Train on 1021 samples, validate on 256 samples\n",
      "Epoch 1/100\n",
      "Epoch 2/100\n",
      "Epoch 3/100\n",
      "Epoch 4/100\n",
      "Epoch 5/100\n",
      "Epoch 6/100\n",
      "Epoch 7/100\n",
      "Epoch 8/100\n",
      "Epoch 9/100\n",
      "Epoch 10/100\n",
      "Epoch 11/100\n",
      "Epoch 12/100\n"
     ]
    }
   ],
   "source": [
    "MAX_EPOCH=100#最大epoch，实际应用early_stop\n",
    "n_iteration=20#迭代20次\n",
    "best_score=0#初始化最佳loss分数\n",
    "#设置验证集（cv=5）\n",
    "val_set_1=df1.loc[:318]\n",
    "val_set_2=df1.loc[319:2*319-1]\n",
    "val_set_3=df1.loc[2*319:3*319-1]\n",
    "val_set_4=df1.loc[3*319:4*319-1]\n",
    "val_set_5=df1.loc[4*319:]\n",
    "for iteration in range(n_iteration):\n",
    "    loss_set=[]\n",
    "    fold_num=0\n",
    "    #set_random_seed(iteration)#设置随机种子\n",
    "    np.random.seed(iteration) \n",
    "        #设置随机搜索参数\n",
    "    param_random={\n",
    "        'hidden_units':choice(range(50,150,1)),\n",
    "        'dropout_rate':choice([.2,.22,.24,.26,.28,.30,.32,.34]),\n",
    "        'optimizer':choice([ 'Adagrad', 'Adadelta', 'Adam', 'Adamax']),\n",
    "        'L2':choice([.001,.002,.003,.004])\n",
    "    }\n",
    "    print(\"%d iteration has the parameter :\"%(iteration))\n",
    "    print(param_random)\n",
    "    #kfold=StratifiedKFold(n_splits=5,random_state=42,shuffle=True)\n",
    "    #for i ,(train_index,val_index) in enumerate(kfold.split(X_train,y_train)):\n",
    "    for val_set in [val_set_1,val_set_2,val_set_3,val_set_4,val_set_5]:\n",
    "        fold_num+=1\n",
    "        train_x=df1.drop(val_set.index)[['lnglacutm', 'latlacutm']]\n",
    "        train_y=df1.drop(val_set.index)[['latgpsutm', 'lnggpsutm']]\n",
    "        val_x,val_y=val_set[['lnglacutm', 'latlacutm']],val_set[['latgpsutm', 'lnggpsutm']]\n",
    "        print(\"Fold \",fold_num,\" Start\")\n",
    "        #带入参数\n",
    "        nn_model=NN_model(hidden_units=param_random['hidden_units'],\\\n",
    "                          optimizer=param_random['optimizer'],\\\n",
    "                          dropout_rate=param_random['dropout_rate'],\\\n",
    "                          L2_rate=param_random['L2']\n",
    "                         )\n",
    "        #输出模型\n",
    "        filepath=\"./model_\"+str(iteration)+\"_and_\"+str(fold_num)+\".ckpt\"\n",
    "        checkpoint = ModelCheckpoint(filepath, monitor='val_loss', verbose=-1, save_best_only=True, mode='min')\n",
    "        #设置early_stop\n",
    "        earlystop= EarlyStopping(monitor='val_loss', patience=10, mode='min') \n",
    "        nn_model.fit(train_x.as_matrix(),train_y.as_matrix(),epochs=MAX_EPOCH,validation_split=0.2,\\\n",
    "                  batch_size=50,verbose=-1,callbacks=[earlystop,checkpoint])\n",
    "        loss=nn_model.evaluate(val_x.as_matrix(),val_y.as_matrix())\n",
    "        loss_set.append(loss)\n",
    "        print(\"%dFold's loss value is %f\"%(fold_num,loss))\n",
    "    #平均5个fold的loss值，得到这个参数下得loss分数\n",
    "    loss_score=np.mean(loss_set)\n",
    "    print(\"%d iteration's loss value is %f\"%(iteration,loss_score))\n",
    "    if iteration == 0:\n",
    "        best_score=loss_score\n",
    "    #如果loss分数小于最好分数，这个loss分数是新的最佳loss分数\n",
    "    if loss_score<best_score:\n",
    "        best_score=loss_score\n",
    "        print(\"%d iteration has best score %f\"%(iteration,best_score))\n",
    "\n",
    "    \n",
    "        \n",
    "        \n",
    "                "
   ]
  },
  {
   "cell_type": "code",
   "execution_count": 33,
   "metadata": {},
   "outputs": [
    {
     "data": {
      "text/plain": [
       "45"
      ]
     },
     "execution_count": 33,
     "metadata": {},
     "output_type": "execute_result"
    }
   ],
   "source": []
  },
  {
   "cell_type": "code",
   "execution_count": null,
   "metadata": {
    "collapsed": true
   },
   "outputs": [],
   "source": []
  }
 ],
 "metadata": {
  "kernelspec": {
   "display_name": "Python 3",
   "language": "python",
   "name": "python3"
  },
  "language_info": {
   "codemirror_mode": {
    "name": "ipython",
    "version": 3
   },
   "file_extension": ".py",
   "mimetype": "text/x-python",
   "name": "python",
   "nbconvert_exporter": "python",
   "pygments_lexer": "ipython3",
   "version": "3.6.1"
  }
 },
 "nbformat": 4,
 "nbformat_minor": 2
}
