{
 "cells": [
  {
   "cell_type": "code",
   "execution_count": 3,
   "metadata": {},
   "outputs": [],
   "source": [
    "import numpy as np\n",
    "import pandas as pd\n",
    "from sklearn.utils import shuffle\n",
    "from tensorflow import set_random_seed\n",
    "\n",
    "#keras package\n",
    "from keras.models import Sequential\n",
    "from keras.layers import Dense, Dropout\n",
    "from keras.models import Model, load_model\n",
    "from keras.preprocessing import image\n",
    "from keras.utils.vis_utils import model_to_dot\n",
    "from keras.initializers import glorot_uniform\n",
    "from keras.wrappers.scikit_learn import KerasClassifier,KerasRegressor\n",
    "from keras.callbacks import EarlyStopping, ModelCheckpoint\n",
    "from sklearn.grid_search import GridSearchCV \n",
    "from keras import regularizers\n",
    "from random import choice\n",
    "import pydot\n",
    "import graphviz\n",
    "from IPython.display import SVG\n",
    "import keras.backend as K\n",
    "from sklearn.model_selection import cross_val_score\n",
    "from sklearn.model_selection import StratifiedKFold\n",
    "np.random.seed(42)\n",
    "\n"
   ]
  },
  {
   "cell_type": "markdown",
   "metadata": {},
   "source": [
    "## 1.读取-划分数据"
   ]
  },
  {
   "cell_type": "code",
   "execution_count": 4,
   "metadata": {
    "collapsed": true
   },
   "outputs": [],
   "source": [
    "def importdata():\n",
    "    path = r\"C:\\Users\\hasee\\workspace\\workspace\\tomo\\data2.txt\"\n",
    "    df = pd.read_table(path)\n",
    "    columns = df.columns\n",
    "    #print(columns)\n",
    "\n",
    "    dfdata = df[['latgpsutm', 'lnggpsutm', 'lnglacutm', 'latlacutm']]\n",
    "    #print(len(dfdata))\n",
    "    dfdata = dfdata.drop_duplicates()#删去重复项\n",
    "    #print(len(dfdata))\n",
    "    return dfdata\n",
    "\n",
    "df = importdata()"
   ]
  },
  {
   "cell_type": "markdown",
   "metadata": {},
   "source": [
    "随机70%训练集切分-方法1："
   ]
  },
  {
   "cell_type": "code",
   "execution_count": 5,
   "metadata": {
    "collapsed": true
   },
   "outputs": [],
   "source": [
    "df1 = shuffle(df)\n",
    "df1 = df.set_index([list(range(len(df1)))])\n",
    "index = int(len(df1)*0.7)\n",
    "df1_train=df1[:index]\n",
    "df1_test=df1[index:]"
   ]
  },
  {
   "cell_type": "markdown",
   "metadata": {},
   "source": [
    "随机70%训练集切分-方法2："
   ]
  },
  {
   "cell_type": "code",
   "execution_count": 138,
   "metadata": {
    "collapsed": true
   },
   "outputs": [],
   "source": [
    "df_train=df.sample(frac=0.7)\n",
    "df_train=df_train.reset_index(drop=True)"
   ]
  },
  {
   "cell_type": "code",
   "execution_count": 139,
   "metadata": {},
   "outputs": [
    {
     "data": {
      "text/plain": [
       "False"
      ]
     },
     "execution_count": 139,
     "metadata": {},
     "output_type": "execute_result"
    }
   ],
   "source": [
    "df_train.isnull().values.any()"
   ]
  },
  {
   "cell_type": "code",
   "execution_count": 140,
   "metadata": {},
   "outputs": [
    {
     "data": {
      "text/plain": [
       "['latgpsutm', 'lnggpsutm', 'lnglacutm', 'latlacutm']"
      ]
     },
     "execution_count": 140,
     "metadata": {},
     "output_type": "execute_result"
    }
   ],
   "source": [
    "list(df_train)"
   ]
  },
  {
   "cell_type": "code",
   "execution_count": 63,
   "metadata": {
    "collapsed": true
   },
   "outputs": [],
   "source": [
    "X_train=df1[['lnglacutm', 'latlacutm']]\n",
    "#y_train=df1[['latgpsutm', 'lnggpsutm']]\n",
    "y_train=df1[['lnggpsutm','latgpsutm']]"
   ]
  },
  {
   "cell_type": "code",
   "execution_count": 115,
   "metadata": {
    "collapsed": true
   },
   "outputs": [],
   "source": [
    "df_test=df.sample(frac=1)\n",
    "df_test=df_test.reset_index(drop=True)"
   ]
  },
  {
   "cell_type": "code",
   "execution_count": 126,
   "metadata": {
    "collapsed": true
   },
   "outputs": [],
   "source": [
    "X_test1=df_test[['lnglacutm', 'latlacutm']].loc[:10].as_matrix()\n",
    "y_test1=df_test[['lnggpsutm','latgpsutm']].loc[:10].as_matrix()"
   ]
  },
  {
   "cell_type": "code",
   "execution_count": 127,
   "metadata": {
    "scrolled": true
   },
   "outputs": [
    {
     "data": {
      "text/plain": [
       "array([[  353051.8908,  3456714.9799],\n",
       "       [  357792.4708,  3461767.1107],\n",
       "       [  355978.7301,  3455788.7757],\n",
       "       [  351689.8564,  3453545.1848],\n",
       "       [  357042.4242,  3462628.9091],\n",
       "       [  351521.238 ,  3454447.9662],\n",
       "       [  352994.7286,  3454480.9138],\n",
       "       [  357792.4708,  3461767.1107],\n",
       "       [  352858.5828,  3456276.6316],\n",
       "       [  356427.1632,  3462068.381 ],\n",
       "       [  355441.9869,  3459466.9501]])"
      ]
     },
     "execution_count": 127,
     "metadata": {},
     "output_type": "execute_result"
    }
   ],
   "source": [
    "X_test1"
   ]
  },
  {
   "cell_type": "code",
   "execution_count": 128,
   "metadata": {},
   "outputs": [
    {
     "data": {
      "text/plain": [
       "array([[  353155.1905,  3456075.024 ],\n",
       "       [  358011.328 ,  3461881.5669],\n",
       "       [  355823.7554,  3456086.2942],\n",
       "       [  351463.3832,  3453354.8419],\n",
       "       [  356951.2752,  3462465.3738],\n",
       "       [  351384.9448,  3454387.7827],\n",
       "       [  352943.864 ,  3454503.1871],\n",
       "       [  357967.8463,  3461729.0467],\n",
       "       [  352850.0212,  3456264.661 ],\n",
       "       [  356926.8315,  3461819.2404],\n",
       "       [  355900.4341,  3459670.8864]])"
      ]
     },
     "execution_count": 128,
     "metadata": {},
     "output_type": "execute_result"
    }
   ],
   "source": [
    "y_test1"
   ]
  },
  {
   "cell_type": "code",
   "execution_count": 66,
   "metadata": {},
   "outputs": [
    {
     "data": {
      "text/html": [
       "<div>\n",
       "<style scoped>\n",
       "    .dataframe tbody tr th:only-of-type {\n",
       "        vertical-align: middle;\n",
       "    }\n",
       "\n",
       "    .dataframe tbody tr th {\n",
       "        vertical-align: top;\n",
       "    }\n",
       "\n",
       "    .dataframe thead th {\n",
       "        text-align: right;\n",
       "    }\n",
       "</style>\n",
       "<table border=\"1\" class=\"dataframe\">\n",
       "  <thead>\n",
       "    <tr style=\"text-align: right;\">\n",
       "      <th></th>\n",
       "      <th>latgpsutm</th>\n",
       "      <th>lnggpsutm</th>\n",
       "      <th>lnglacutm</th>\n",
       "      <th>latlacutm</th>\n",
       "    </tr>\n",
       "  </thead>\n",
       "  <tbody>\n",
       "    <tr>\n",
       "      <th>10</th>\n",
       "      <td>3.462141e+06</td>\n",
       "      <td>357312.1664</td>\n",
       "      <td>356965.6919</td>\n",
       "      <td>3.462668e+06</td>\n",
       "    </tr>\n",
       "    <tr>\n",
       "      <th>11</th>\n",
       "      <td>3.462141e+06</td>\n",
       "      <td>357312.1664</td>\n",
       "      <td>357405.7554</td>\n",
       "      <td>3.461803e+06</td>\n",
       "    </tr>\n",
       "    <tr>\n",
       "      <th>12</th>\n",
       "      <td>3.462425e+06</td>\n",
       "      <td>357110.5482</td>\n",
       "      <td>357405.7554</td>\n",
       "      <td>3.461803e+06</td>\n",
       "    </tr>\n",
       "    <tr>\n",
       "      <th>13</th>\n",
       "      <td>3.462212e+06</td>\n",
       "      <td>357045.4753</td>\n",
       "      <td>356788.6773</td>\n",
       "      <td>3.462205e+06</td>\n",
       "    </tr>\n",
       "    <tr>\n",
       "      <th>14</th>\n",
       "      <td>3.462329e+06</td>\n",
       "      <td>356804.1912</td>\n",
       "      <td>356915.2664</td>\n",
       "      <td>3.462539e+06</td>\n",
       "    </tr>\n",
       "    <tr>\n",
       "      <th>15</th>\n",
       "      <td>3.462329e+06</td>\n",
       "      <td>356804.1912</td>\n",
       "      <td>356698.2993</td>\n",
       "      <td>3.462768e+06</td>\n",
       "    </tr>\n",
       "    <tr>\n",
       "      <th>16</th>\n",
       "      <td>3.462617e+06</td>\n",
       "      <td>356729.9513</td>\n",
       "      <td>356698.2993</td>\n",
       "      <td>3.462768e+06</td>\n",
       "    </tr>\n",
       "    <tr>\n",
       "      <th>17</th>\n",
       "      <td>3.462329e+06</td>\n",
       "      <td>356804.1912</td>\n",
       "      <td>356608.2450</td>\n",
       "      <td>3.462769e+06</td>\n",
       "    </tr>\n",
       "    <tr>\n",
       "      <th>18</th>\n",
       "      <td>3.462617e+06</td>\n",
       "      <td>356729.9513</td>\n",
       "      <td>356915.2664</td>\n",
       "      <td>3.462539e+06</td>\n",
       "    </tr>\n",
       "    <tr>\n",
       "      <th>19</th>\n",
       "      <td>3.462425e+06</td>\n",
       "      <td>357110.5482</td>\n",
       "      <td>356965.6919</td>\n",
       "      <td>3.462668e+06</td>\n",
       "    </tr>\n",
       "    <tr>\n",
       "      <th>20</th>\n",
       "      <td>3.462098e+06</td>\n",
       "      <td>357490.2946</td>\n",
       "      <td>357474.6757</td>\n",
       "      <td>3.462070e+06</td>\n",
       "    </tr>\n",
       "  </tbody>\n",
       "</table>\n",
       "</div>"
      ],
      "text/plain": [
       "       latgpsutm    lnggpsutm    lnglacutm     latlacutm\n",
       "10  3.462141e+06  357312.1664  356965.6919  3.462668e+06\n",
       "11  3.462141e+06  357312.1664  357405.7554  3.461803e+06\n",
       "12  3.462425e+06  357110.5482  357405.7554  3.461803e+06\n",
       "13  3.462212e+06  357045.4753  356788.6773  3.462205e+06\n",
       "14  3.462329e+06  356804.1912  356915.2664  3.462539e+06\n",
       "15  3.462329e+06  356804.1912  356698.2993  3.462768e+06\n",
       "16  3.462617e+06  356729.9513  356698.2993  3.462768e+06\n",
       "17  3.462329e+06  356804.1912  356608.2450  3.462769e+06\n",
       "18  3.462617e+06  356729.9513  356915.2664  3.462539e+06\n",
       "19  3.462425e+06  357110.5482  356965.6919  3.462668e+06\n",
       "20  3.462098e+06  357490.2946  357474.6757  3.462070e+06"
      ]
     },
     "execution_count": 66,
     "metadata": {},
     "output_type": "execute_result"
    }
   ],
   "source": [
    "val_1=df1.loc[10:20]\n",
    "val_1"
   ]
  },
  {
   "cell_type": "markdown",
   "metadata": {
    "collapsed": true
   },
   "source": [
    "# Build the model"
   ]
  },
  {
   "cell_type": "code",
   "execution_count": 6,
   "metadata": {
    "collapsed": true
   },
   "outputs": [],
   "source": [
    "def NN_model(optimizer='adam',hidden_units=100,dropout_rate=0.3,L2_rate=.001):\n",
    "    model=Sequential()#设置为Sequential模型\n",
    "    #添加第一层hidden layer\n",
    "    model.add(Dense(hidden_units,activation='relu',input_dim=2,kernel_regularizer=regularizers.l2(L2_rate)))\n",
    "    #添加dropout（正则化，减少overfit）\n",
    "    model.add(Dropout(dropout_rate))\n",
    "    #添加输出层\n",
    "    model.add(Dense(2,activation='relu',kernel_regularizer=regularizers.l2(L2_rate)))\n",
    "    #编译\n",
    "    model.compile(loss='mean_squared_error',optimizer=optimizer)\n",
    "    return model"
   ]
  },
  {
   "cell_type": "code",
   "execution_count": 7,
   "metadata": {
    "collapsed": true
   },
   "outputs": [],
   "source": [
    "#kfold=StratifiedKFold(n_splits=5,random_state=42)\n",
    "#nn_reg=KerasRegressor(build_fn=NN_model,nb_epoch=40,batch_size=50,verbose=-1)\n",
    "#nn_reg.fit(X_train,y_train)\n",
    "nn_model=NN_model()"
   ]
  },
  {
   "cell_type": "code",
   "execution_count": 143,
   "metadata": {},
   "outputs": [
    {
     "name": "stdout",
     "output_type": "stream",
     "text": [
      "Train on 1276 samples, validate on 320 samples\n",
      "Epoch 1/100\n",
      "Epoch 2/100\n",
      "Epoch 3/100\n",
      "Epoch 4/100\n",
      "Epoch 5/100\n",
      "Epoch 6/100\n",
      "Epoch 7/100\n",
      "Epoch 8/100\n",
      "Epoch 9/100\n",
      "Epoch 10/100\n",
      "Epoch 11/100\n",
      "Epoch 12/100\n",
      "Epoch 13/100\n",
      "Epoch 14/100\n",
      "Epoch 15/100\n",
      "Epoch 16/100\n",
      "Epoch 17/100\n",
      "Epoch 18/100\n",
      "Epoch 19/100\n",
      "Epoch 20/100\n",
      "Epoch 21/100\n",
      "Epoch 22/100\n",
      "Epoch 23/100\n",
      "Epoch 24/100\n",
      "Epoch 25/100\n",
      "Epoch 26/100\n",
      "Epoch 27/100\n",
      "Epoch 28/100\n",
      "Epoch 29/100\n",
      "Epoch 30/100\n",
      "Epoch 31/100\n",
      "Epoch 32/100\n",
      "Epoch 33/100\n",
      "Epoch 34/100\n",
      "Epoch 35/100\n",
      "Epoch 36/100\n",
      "Epoch 37/100\n",
      "Epoch 38/100\n",
      "Epoch 39/100\n",
      "Epoch 40/100\n",
      "Epoch 41/100\n",
      "Epoch 42/100\n",
      "Epoch 43/100\n",
      "Epoch 44/100\n",
      "Epoch 45/100\n",
      "Epoch 46/100\n",
      "Epoch 47/100\n",
      "Epoch 48/100\n",
      "Epoch 49/100\n",
      "Epoch 50/100\n",
      "Epoch 51/100\n",
      "Epoch 52/100\n",
      "Epoch 53/100\n",
      "Epoch 54/100\n",
      "Epoch 55/100\n",
      "Epoch 56/100\n",
      "Epoch 57/100\n",
      "Epoch 58/100\n",
      "Epoch 59/100\n",
      "Epoch 60/100\n",
      "Epoch 61/100\n",
      "Epoch 62/100\n",
      "Epoch 63/100\n",
      "Epoch 64/100\n",
      "Epoch 65/100\n",
      "Epoch 66/100\n",
      "Epoch 67/100\n",
      "Epoch 68/100\n",
      "Epoch 69/100\n",
      "Epoch 70/100\n",
      "Epoch 71/100\n",
      "Epoch 72/100\n",
      "Epoch 73/100\n",
      "Epoch 74/100\n",
      "Epoch 75/100\n",
      "Epoch 76/100\n",
      "Epoch 77/100\n",
      "Epoch 78/100\n",
      "Epoch 79/100\n",
      "Epoch 80/100\n",
      "Epoch 81/100\n",
      "Epoch 82/100\n",
      "Epoch 83/100\n",
      "Epoch 84/100\n",
      "Epoch 85/100\n",
      "Epoch 86/100\n",
      "Epoch 87/100\n",
      "Epoch 88/100\n",
      "Epoch 89/100\n",
      "Epoch 90/100\n",
      "Epoch 91/100\n",
      "Epoch 92/100\n",
      "Epoch 93/100\n",
      "Epoch 94/100\n",
      "Epoch 95/100\n",
      "Epoch 96/100\n",
      "Epoch 97/100\n",
      "Epoch 98/100\n",
      "Epoch 99/100\n",
      "Epoch 100/100\n"
     ]
    },
    {
     "data": {
      "text/plain": [
       "<keras.callbacks.History at 0xe861160>"
      ]
     },
     "execution_count": 143,
     "metadata": {},
     "output_type": "execute_result"
    }
   ],
   "source": [
    "nn_model.fit(X_train.as_matrix(),y_train.as_matrix(),epochs=100,validation_split=0.2,batch_size=50,verbose=-1)#callbacks='early_stop')"
   ]
  },
  {
   "cell_type": "code",
   "execution_count": 144,
   "metadata": {},
   "outputs": [
    {
     "name": "stdout",
     "output_type": "stream",
     "text": [
      "1596/1596 [==============================] - 0s 9us/step\n"
     ]
    },
    {
     "data": {
      "text/plain": [
       "1362093959.0576441"
      ]
     },
     "execution_count": 144,
     "metadata": {},
     "output_type": "execute_result"
    }
   ],
   "source": [
    "nn_model.evaluate(X_train.as_matrix(),y_train.as_matrix())"
   ]
  },
  {
   "cell_type": "code",
   "execution_count": 145,
   "metadata": {
    "collapsed": true
   },
   "outputs": [],
   "source": [
    "test_X=df1_test[['lnglacutm', 'latlacutm']].iloc[0:2].as_matrix()\n",
    "test_y=df1_test[['lnggpsutm','latgpsutm']].iloc[0:2].as_matrix()"
   ]
  },
  {
   "cell_type": "code",
   "execution_count": 146,
   "metadata": {},
   "outputs": [
    {
     "data": {
      "text/plain": [
       "array([[  355278.875,  3410743.25 ],\n",
       "       [  355278.875,  3410743.25 ]], dtype=float32)"
      ]
     },
     "execution_count": 146,
     "metadata": {},
     "output_type": "execute_result"
    }
   ],
   "source": [
    "nn_model.predict(test_X)"
   ]
  },
  {
   "cell_type": "code",
   "execution_count": 147,
   "metadata": {},
   "outputs": [
    {
     "data": {
      "text/plain": [
       "array([[  357200.1846,  3462168.7389],\n",
       "       [  357217.0202,  3462169.8034]])"
      ]
     },
     "execution_count": 147,
     "metadata": {},
     "output_type": "execute_result"
    }
   ],
   "source": [
    "test_y"
   ]
  },
  {
   "cell_type": "code",
   "execution_count": null,
   "metadata": {
    "collapsed": true
   },
   "outputs": [],
   "source": []
  },
  {
   "cell_type": "markdown",
   "metadata": {
    "collapsed": true
   },
   "source": [
    "# 2. added the call backs"
   ]
  },
  {
   "cell_type": "code",
   "execution_count": 148,
   "metadata": {
    "scrolled": true
   },
   "outputs": [
    {
     "name": "stdout",
     "output_type": "stream",
     "text": [
      "Train on 1276 samples, validate on 320 samples\n",
      "Epoch 1/100\n",
      "Epoch 2/100\n",
      "Epoch 3/100\n",
      "Epoch 4/100\n",
      "Epoch 5/100\n",
      "Epoch 6/100\n",
      "Epoch 7/100\n",
      "Epoch 8/100\n",
      "Epoch 9/100\n",
      "Epoch 10/100\n",
      "Epoch 11/100\n",
      "Epoch 12/100\n"
     ]
    },
    {
     "data": {
      "text/plain": [
       "<keras.callbacks.History at 0xe2fb048>"
      ]
     },
     "execution_count": 148,
     "metadata": {},
     "output_type": "execute_result"
    }
   ],
   "source": [
    "filepath=\"./final_model.h5py\"\n",
    "checkpoint = ModelCheckpoint(filepath, monitor='val_loss', verbose=-1, save_best_only=True, mode='min')\n",
    "earlystop= EarlyStopping(monitor='val_loss', patience=10, mode='min') \n",
    "nn_model.fit(X_train.as_matrix(),y_train.as_matrix(),epochs=100,\\\n",
    "             validation_split=0.2,batch_size=50,verbose=-1,callbacks=[earlystop,checkpoint])"
   ]
  },
  {
   "cell_type": "markdown",
   "metadata": {},
   "source": [
    "# 3. Cross_Validation tuning the parameter"
   ]
  },
  {
   "cell_type": "code",
   "execution_count": null,
   "metadata": {
    "scrolled": false
   },
   "outputs": [
    {
     "name": "stdout",
     "output_type": "stream",
     "text": [
      "Fold  1  Start\n",
      "Train on 1021 samples, validate on 256 samples\n",
      "Epoch 1/100\n"
     ]
    }
   ],
   "source": [
    "MAX_EPOCH=100#最大epoch，实际应用early_stop\n",
    "n_iteration=20#迭代20次\n",
    "best_score=0#初始化最佳loss分数\n",
    "#设置验证集（cv=5）\n",
    "val_set_1=df1.loc[:318]\n",
    "val_set_2=df1.loc[319:2*319-1]\n",
    "val_set_3=df1.loc[2*319:3*319-1]\n",
    "val_set_4=df1.loc[3*319:4*319-1]\n",
    "val_set_5=df1.loc[4*319:]\n",
    "iteration=0\n",
    "for drop_rate in [0.18,0.19,0.2,0.21,0.22,0.23]:\n",
    "    for hiden_units in range(120,133,2):\n",
    "        optimizer = 'Adamax' \n",
    "        L2 = 0.003 \n",
    "        loss_set=[]\n",
    "        fold_num=0\n",
    "        \n",
    "        iteration=+1\n",
    "    #kfold=StratifiedKFold(n_splits=5,random_state=42,shuffle=True)\n",
    "    #for i ,(train_index,val_index) in enumerate(kfold.split(X_train,y_train)):\n",
    "        for val_set in [val_set_1,val_set_2,val_set_3,val_set_4,val_set_5]:\n",
    "            fold_num+=1\n",
    "            train_x=df1.drop(val_set.index)[['lnglacutm', 'latlacutm']]\n",
    "            train_y=df1.drop(val_set.index)[['lnggpsutm','latgpsutm']]\n",
    "            val_x,val_y=val_set[['lnglacutm', 'latlacutm']],val_set[['lnggpsutm','latgpsutm']]\n",
    "            print(\"Fold \",fold_num,\" Start\")\n",
    "        #带入参数\n",
    "            nn_model=NN_model(hidden_units=hiden_units,\\\n",
    "                          optimizer=optimizer,\\\n",
    "                          dropout_rate=drop_rate,\\\n",
    "                          L2_rate=L2\n",
    "                         )\n",
    "        #输出模型\n",
    "            filepath=\"./model_\"+str(iteration)+\"_and_\"+str(fold_num)+\".h5py\"\n",
    "            checkpoint = ModelCheckpoint(filepath, monitor='val_loss', verbose=-1, save_best_only=True, mode='min')\n",
    "        #设置early_stop\n",
    "            earlystop= EarlyStopping(monitor='val_loss', patience=10, mode='min') \n",
    "            nn_model.fit(train_x.as_matrix(),train_y.as_matrix(),epochs=MAX_EPOCH,validation_split=0.2,\\\n",
    "                  batch_size=50,verbose=-1,callbacks=[earlystop,checkpoint])\n",
    "            loss=nn_model.evaluate(val_x.as_matrix(),val_y.as_matrix())\n",
    "            loss_set.append(loss)\n",
    "            print(\"%dFold's loss value is %f\"%(fold_num,loss))\n",
    "    #平均5个fold的loss值，得到这个参数下得loss分数\n",
    "        loss_score=np.mean(loss_set)\n",
    "        print(\"%d iteration's loss value is %f\"%(iteration,loss_score))\n",
    "        print(\"%d iteration has the parameter :\"%(iteration))\n",
    "        print(\"the hidden unit is \",hiden_units,'dropout rate is ',drop_rate)\n",
    "        if iteration == 1:\n",
    "            best_score=loss_score\n",
    "    #如果loss分数小于最好分数，这个loss分数是新的最佳loss分数\n",
    "        if loss_score < best_score:\n",
    "            best_score=loss_score\n",
    "            print(\"%d iteration has best score %f\"%(iteration,best_score))\n",
    "\n",
    "    \n",
    "  \n",
    "        \n",
    "        \n",
    "                "
   ]
  },
  {
   "cell_type": "code",
   "execution_count": 130,
   "metadata": {},
   "outputs": [
    {
     "data": {
      "text/plain": [
       "array([[  353155.1905,  3456075.024 ],\n",
       "       [  358011.328 ,  3461881.5669],\n",
       "       [  355823.7554,  3456086.2942],\n",
       "       [  351463.3832,  3453354.8419],\n",
       "       [  356951.2752,  3462465.3738],\n",
       "       [  351384.9448,  3454387.7827],\n",
       "       [  352943.864 ,  3454503.1871],\n",
       "       [  357967.8463,  3461729.0467],\n",
       "       [  352850.0212,  3456264.661 ],\n",
       "       [  356926.8315,  3461819.2404],\n",
       "       [  355900.4341,  3459670.8864]])"
      ]
     },
     "execution_count": 130,
     "metadata": {},
     "output_type": "execute_result"
    }
   ],
   "source": [
    "y_test1"
   ]
  },
  {
   "cell_type": "code",
   "execution_count": 131,
   "metadata": {
    "scrolled": true
   },
   "outputs": [
    {
     "data": {
      "text/plain": [
       "array([[  353051.8908,  3456714.9799],\n",
       "       [  357792.4708,  3461767.1107],\n",
       "       [  355978.7301,  3455788.7757],\n",
       "       [  351689.8564,  3453545.1848],\n",
       "       [  357042.4242,  3462628.9091],\n",
       "       [  351521.238 ,  3454447.9662],\n",
       "       [  352994.7286,  3454480.9138],\n",
       "       [  357792.4708,  3461767.1107],\n",
       "       [  352858.5828,  3456276.6316],\n",
       "       [  356427.1632,  3462068.381 ],\n",
       "       [  355441.9869,  3459466.9501]])"
      ]
     },
     "execution_count": 131,
     "metadata": {},
     "output_type": "execute_result"
    }
   ],
   "source": [
    "X_test1"
   ]
  },
  {
   "cell_type": "code",
   "execution_count": 132,
   "metadata": {},
   "outputs": [
    {
     "data": {
      "text/plain": [
       "array([[  356153.03125,  3420512.5    ],\n",
       "       [  356728.9375 ,  3428977.5    ],\n",
       "       [  356097.25   ,  3422075.     ],\n",
       "       [  355812.875  ,  3416524.25   ],\n",
       "       [  356806.8125 ,  3429143.     ],\n",
       "       [  355902.46875,  3417204.     ],\n",
       "       [  355925.125  ,  3418442.5    ],\n",
       "       [  356728.9375 ,  3428977.5    ],\n",
       "       [  356106.     ,  3419957.     ],\n",
       "       [  356741.71875,  3428130.5    ],\n",
       "       [  356464.21875,  3424966.     ]], dtype=float32)"
      ]
     },
     "execution_count": 132,
     "metadata": {},
     "output_type": "execute_result"
    }
   ],
   "source": [
    "pre_X"
   ]
  },
  {
   "cell_type": "code",
   "execution_count": 133,
   "metadata": {},
   "outputs": [
    {
     "data": {
      "text/plain": [
       "array([[  2997.84075, -35562.524  ],\n",
       "       [ -1282.3905 , -32904.0669 ],\n",
       "       [   273.4946 , -34011.2942 ],\n",
       "       [  4349.4918 , -36830.5919 ],\n",
       "       [  -144.4627 , -33322.3738 ],\n",
       "       [  4517.52395, -37183.7827 ],\n",
       "       [  2981.261  , -36060.6871 ],\n",
       "       [ -1238.9088 , -32751.5467 ],\n",
       "       [  3255.9788 , -36307.661  ],\n",
       "       [  -185.11275, -33688.7404 ],\n",
       "       [   563.78465, -34704.8864 ]])"
      ]
     },
     "execution_count": 133,
     "metadata": {},
     "output_type": "execute_result"
    }
   ],
   "source": [
    "pre_X-y_test1"
   ]
  },
  {
   "cell_type": "code",
   "execution_count": 134,
   "metadata": {},
   "outputs": [
    {
     "data": {
      "text/plain": [
       "array([[-103.2997,  639.9559],\n",
       "       [-218.8572, -114.4562],\n",
       "       [ 154.9747, -297.5185],\n",
       "       [ 226.4732,  190.3429],\n",
       "       [  91.149 ,  163.5353],\n",
       "       [ 136.2932,   60.1835],\n",
       "       [  50.8646,  -22.2733],\n",
       "       [-175.3755,   38.064 ],\n",
       "       [   8.5616,   11.9706],\n",
       "       [-499.6683,  249.1406],\n",
       "       [-458.4472, -203.9363]])"
      ]
     },
     "execution_count": 134,
     "metadata": {},
     "output_type": "execute_result"
    }
   ],
   "source": [
    "X_test1-y_test1"
   ]
  },
  {
   "cell_type": "code",
   "execution_count": null,
   "metadata": {
    "collapsed": true
   },
   "outputs": [],
   "source": []
  },
  {
   "cell_type": "code",
   "execution_count": null,
   "metadata": {
    "collapsed": true
   },
   "outputs": [],
   "source": []
  },
  {
   "cell_type": "code",
   "execution_count": 82,
   "metadata": {
    "collapsed": true
   },
   "outputs": [],
   "source": []
  },
  {
   "cell_type": "code",
   "execution_count": 85,
   "metadata": {},
   "outputs": [
    {
     "data": {
      "image/png": "[encoded data removed]",
      "text/plain": [
       "<matplotlib.figure.Figure at 0xd3b7940>"
      ]
     },
     "metadata": {},
     "output_type": "display_data"
    }
   ],
   "source": []
  },
  {
   "cell_type": "code",
   "execution_count": null,
   "metadata": {
    "collapsed": true
   },
   "outputs": [],
   "source": []
  },
  {
   "cell_type": "code",
   "execution_count": null,
   "metadata": {
    "collapsed": true
   },
   "outputs": [],
   "source": []
  }
 ],
 "metadata": {
  "kernelspec": {
   "display_name": "Python 3",
   "language": "python",
   "name": "python3"
  },
  "language_info": {
   "codemirror_mode": {
    "name": "ipython",
    "version": 3
   },
   "file_extension": ".py",
   "mimetype": "text/x-python",
   "name": "python",
   "nbconvert_exporter": "python",
   "pygments_lexer": "ipython3",
   "version": "3.6.1"
  }
 },
 "nbformat": 4,
 "nbformat_minor": 2
}
